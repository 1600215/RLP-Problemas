{
 "cells": [
  {
   "cell_type": "markdown",
   "metadata": {},
   "source": [
    "<h2> Exercici de Recuperació 1 </h2>\n",
    "<br>- Omnirobot de 3 rodes. \n"
   ]
  },
  {
   "cell_type": "markdown",
   "metadata": {},
   "source": [
    "### 1. Connexió al coppelia\n"
   ]
  },
  {
   "cell_type": "code",
   "execution_count": 98,
   "metadata": {},
   "outputs": [],
   "source": [
    "import sim\n",
    "import time\n",
    "import math\n",
    "import numpy as np\n",
    "def connect(port):\n",
    "# Establece la conexión a COPPELIA\n",
    "# El port debe coincidir con el puerto de conexión en VREP  -- DALE AL PLAY !!!\n",
    "# retorna el número de cliente o -1 si no puede establecer conexión\n",
    "    sim.simxFinish(-1) # just in case, close all opened connections\n",
    "    clientID=sim.simxStart('127.0.0.1',port,True,True,2000,5) # Conectarse\n",
    "    if clientID == 0: print(\"conectado a\", port)\n",
    "    else: print(\"no se pudo conectar\")\n",
    "    return clientID\n"
   ]
  },
  {
   "cell_type": "code",
   "execution_count": 99,
   "metadata": {},
   "outputs": [
    {
     "name": "stdout",
     "output_type": "stream",
     "text": [
      "conectado a 19999\n"
     ]
    }
   ],
   "source": [
    "# Conectarse al servidor de COPPELIA\n",
    "# *** _Hay que ejecutarlo cada vez que se reinicia la simulación ***\n",
    "clientID = connect(19999)"
   ]
  },
  {
   "cell_type": "markdown",
   "metadata": {},
   "source": [
    "<h3> 2. Controladors</h3>"
   ]
  },
  {
   "cell_type": "code",
   "execution_count": 100,
   "metadata": {},
   "outputs": [
    {
     "name": "stdout",
     "output_type": "stream",
     "text": [
      "21 26 16 15\n"
     ]
    }
   ],
   "source": [
    "# Obtenemos los controladores para cada eje de las ruedas y el ultrasonido\n",
    "def getControladors():\n",
    "    ret,WCR=sim.simxGetObjectHandle(clientID,'OmniWCR',sim.simx_opmode_blocking)\n",
    "    ret,WCL=sim.simxGetObjectHandle(clientID,'OmniWCL',sim.simx_opmode_blocking)\n",
    "    ret,WC=sim.simxGetObjectHandle(clientID,'OmniWC',sim.simx_opmode_blocking)\n",
    "\n",
    "    # Obtenim també \"omniRob\" que serà molt util per veure la posició del robot \n",
    "    ret, omniRob = sim.simxGetObjectHandle(clientID, 'omniRob', sim.simx_opmode_blocking)\n",
    "\n",
    "    return WCR, WCL, WC, omniRob\n",
    "\n",
    "\n",
    "WCR, WCL, WC, omniRob = getControladors()\n",
    "\n",
    "print(WCR, WCL, WC, omniRob)"
   ]
  },
  {
   "cell_type": "markdown",
   "metadata": {},
   "source": [
    "<h3> 3. Moviments del robot</h3>\n",
    "<br>Heu de realitzar les següents funcions per realitzar moviments lineals i figures :\n",
    "<br> 1- Funció per avançar en un determinat temps\n",
    "<br> 2- Funció per girar 90graus a la dreta (mireu la propietat d'un objecte)\n",
    "<br> 3- Funció per girar 90 graus a l'esquerra (mireu la propietat d'un objecte)\n",
    "<br> 4- Funció per realitzar un quadrat\n",
    "<br> 5- Funció per realitzar un triangle\n",
    "<br> 6- Funció per realitzar un cercle\n",
    "\n",
    "\n"
   ]
  },
  {
   "cell_type": "markdown",
   "metadata": {},
   "source": [
    "<h3> 4 Incorporació de sensors de distancia </h3>\n",
    "\n",
    "Heu d'utilitzar 4 sensors i colocar a cada costat 1 sensor. Intenteu realitzar un programa per moure el robot dins d'un escenari amb  obstacles ( poden ser parets, objectes del coppelia )  i intentar que el robot detecti els obstacles i els pugui evitar \n"
   ]
  },
  {
   "cell_type": "markdown",
   "metadata": {},
   "source": [
    "<h3> Podeu veure els videos de l'exercici 10 on s'explica com afegir aquests sensors </h3>\n",
    "\n",
    "\n",
    "\n",
    "\n",
    "\n",
    "\n"
   ]
  },
  {
   "cell_type": "code",
   "execution_count": 79,
   "metadata": {},
   "outputs": [],
   "source": [
    "# 1- Funció per avançar en un determinat temps\n",
    "\n",
    "def goForward(clientID, wheel_L, wheel_R, duration):\n",
    "    speed = 3 # No la passo per parametre perquè l'enunciat només especifica \"en un determinat temps\"\n",
    "\n",
    "    # Moviment als controladors especificats\n",
    "    sim.simxSetJointTargetVelocity(clientID, wheel_L, speed, sim.simx_opmode_streaming)\n",
    "    sim.simxSetJointTargetVelocity(clientID, wheel_R, -speed, sim.simx_opmode_streaming)\n",
    "\n",
    "    # Esperar durant el temps definit a \"duration\"\n",
    "    time.sleep(duration)\n",
    "\n",
    "    # Parar després d'esperar\n",
    "    sim.simxSetJointTargetVelocity(clientID, wheel_L, 0, sim.simx_opmode_streaming)\n",
    "    sim.simxSetJointTargetVelocity(clientID, wheel_R, 0, sim.simx_opmode_streaming)\n"
   ]
  },
  {
   "cell_type": "code",
   "execution_count": 29,
   "metadata": {},
   "outputs": [],
   "source": [
    "# Exemple d'us amb els controladors WCR, WCL:\n",
    "duration = 3  # Duració (segons)\n",
    "# goForward(clientID, WCR, WCL, duration)"
   ]
  },
  {
   "cell_type": "code",
   "execution_count": 153,
   "metadata": {},
   "outputs": [],
   "source": [
    "radio_rueda=0.055\n",
    "radio_robot=0.29\n",
    "\n",
    "def phis(velocidad_x, velocidad_y, velocidad_angular):\n",
    "    phi_1 = (1/radio_rueda) * (0.5*math.sqrt(3)*velocidad_x - \n",
    "                               0.5*velocidad_y - \n",
    "                               velocidad_angular*radio_robot)\n",
    "    phi_2 = (1/radio_rueda) * (velocidad_y - velocidad_angular*radio_robot)\n",
    "    phi_3 = (-1/radio_rueda) * (0.5*math.sqrt(3)*velocidad_x + \n",
    "                               0.5*velocidad_y + \n",
    "                               velocidad_angular*radio_robot)\n",
    "    return phi_1, phi_2, phi_3\n",
    "\n",
    "def giroDerecha(angulo, velocidad_angular=0.5):\n",
    "    tiempo = angulo / velocidad_angular\n",
    "    phi_1, phi_2, phi_3 = phis(0, 0, velocidad_angular)\n",
    "    #aplico fuerzas a las ruedas\n",
    "    sim.simxSetJointTargetVelocity(clientID, WCL, -phi_1, sim.simx_opmode_streaming)\n",
    "    sim.simxSetJointTargetVelocity(clientID,  WC, -phi_2, sim.simx_opmode_streaming)\n",
    "    sim.simxSetJointTargetVelocity(clientID, WCR, -phi_3, sim.simx_opmode_streaming)\n",
    "    time.sleep(tiempo)\n",
    "    sim.simxSetJointTargetVelocity(clientID, WCL, 0, sim.simx_opmode_streaming)\n",
    "    sim.simxSetJointTargetVelocity(clientID,  WC, 0, sim.simx_opmode_streaming)\n",
    "    sim.simxSetJointTargetVelocity(clientID, WCR, 0, sim.simx_opmode_streaming)\n",
    "    print(phi_1, phi_2, phi_3, tiempo)\n",
    "\n",
    "def giroIzquierda(angulo, velocidad_angular=0.5):\n",
    "    tiempo = angulo / velocidad_angular\n",
    "    phi_1, phi_2, phi_3 = phis(0, 0, velocidad_angular)\n",
    "    #aplico fuerzas a las ruedas\n",
    "    sim.simxSetJointTargetVelocity(clientID, WCL, phi_1, sim.simx_opmode_streaming)\n",
    "    sim.simxSetJointTargetVelocity(clientID,  WC, phi_2, sim.simx_opmode_streaming)\n",
    "    sim.simxSetJointTargetVelocity(clientID, WCR, phi_3, sim.simx_opmode_streaming)\n",
    "    time.sleep(tiempo)\n",
    "    sim.simxSetJointTargetVelocity(clientID, WCL, 0, sim.simx_opmode_streaming)\n",
    "    sim.simxSetJointTargetVelocity(clientID,  WC, 0, sim.simx_opmode_streaming)\n",
    "    sim.simxSetJointTargetVelocity(clientID, WCR, 0, sim.simx_opmode_streaming)\n",
    "    print(phi_1, phi_2, phi_3, tiempo)"
   ]
  },
  {
   "cell_type": "code",
   "execution_count": 154,
   "metadata": {},
   "outputs": [],
   "source": [
    "# 2- Funció per girar 90graus a la dreta (mireu la propietat d'un objecte)\n",
    "\n",
    "# Amb ajuda del codi que em vas enviar:\n",
    "\n",
    "def turnRight():\n",
    "    giroDerecha(math.pi/2, 1)\n"
   ]
  },
  {
   "cell_type": "code",
   "execution_count": 155,
   "metadata": {},
   "outputs": [
    {
     "name": "stdout",
     "output_type": "stream",
     "text": [
      "conectado a 19999\n",
      "-5.2727272727272725 -5.2727272727272725 -5.2727272727272725 1.5707963267948966\n"
     ]
    }
   ],
   "source": [
    "# Exemple d'ús de la funció\n",
    "\n",
    "clientID = connect(19999)\n",
    "\n",
    "turnRight()"
   ]
  },
  {
   "cell_type": "code",
   "execution_count": 150,
   "metadata": {},
   "outputs": [],
   "source": [
    "# 3- Funció per girar 90 graus a l'esquerra (mireu la propietat d'un objecte)\n",
    "\n",
    "def turnLeft():\n",
    "    giroIzquierda(math.pi/2, 1)\n"
   ]
  },
  {
   "cell_type": "code",
   "execution_count": 151,
   "metadata": {},
   "outputs": [
    {
     "name": "stdout",
     "output_type": "stream",
     "text": [
      "conectado a 19999\n",
      "-5.2727272727272725 -5.2727272727272725 -5.2727272727272725 1.5707963267948966\n"
     ]
    }
   ],
   "source": [
    "# Exemple d'ús de la funció\n",
    "\n",
    "clientID = connect(19999)\n",
    "\n",
    "turnLeft()"
   ]
  },
  {
   "cell_type": "code",
   "execution_count": 110,
   "metadata": {},
   "outputs": [],
   "source": [
    "# 4- Funció per realitzar un quadrat\n",
    "\n",
    "# Aprofitant les funcions anteriors, podem fer un quadrat fàcilment\n",
    "\n",
    "def square(clientID, wheel_1, wheel_2):\n",
    "    for _ in range(4):\n",
    "        goForward(clientID, wheel_1, wheel_2, 3)\n",
    "        turnRight()\n",
    "        # turnRight(clientID, omniRob, wheel_1, wheel_2, wheel_3)\n",
    "    "
   ]
  },
  {
   "cell_type": "code",
   "execution_count": 111,
   "metadata": {},
   "outputs": [
    {
     "name": "stdout",
     "output_type": "stream",
     "text": [
      "conectado a 19999\n",
      "-5.2727272727272725 -5.2727272727272725 -5.2727272727272725 1.5707963267948966\n",
      "-5.2727272727272725 -5.2727272727272725 -5.2727272727272725 1.5707963267948966\n",
      "-5.2727272727272725 -5.2727272727272725 -5.2727272727272725 1.5707963267948966\n",
      "-5.2727272727272725 -5.2727272727272725 -5.2727272727272725 1.5707963267948966\n"
     ]
    }
   ],
   "source": [
    "# Exemple d'ús de la funció\n",
    "clientID = connect(19999)\n",
    "\n",
    "square(clientID, WCR, WCL)"
   ]
  },
  {
   "cell_type": "code",
   "execution_count": 112,
   "metadata": {},
   "outputs": [],
   "source": [
    "# 5- Funció per realitzar un triangle\n",
    "\n",
    "# Nomes podrem aprofitar la funció \"goForward\", ja que les altres giren 90 graus, i ara necesitarem que giri 120 en cada gir (360/3 = 120)\n",
    "# Per simplificar, fare una funció \"turn120degrees\".\n",
    "\n",
    "# 2pi = 360\n",
    "# pi = 180\n",
    "# pi/2 = 90\n",
    "\n",
    "# pi/6 = 30\n",
    "\n",
    "# 90 + 30 = 120 ==> pi/2 + pi/6 = 120 ==> 3pi/6 + pi/6 = 120 ==> 4pi/6 = 120 ==> 2pi/3 = 120\n",
    "\n",
    "# 360/120 = 3 ==> 2pi/3\n",
    "\n",
    "# 2pi/3 = 120\n",
    "\n",
    "def turn120degrees():\n",
    "    giroDerecha((2*math.pi)/3, 1)\n",
    "\n",
    "def triangle(clientID, wheel_1, wheel_2):\n",
    "    for _ in range(3):\n",
    "        goForward(clientID, wheel_1, wheel_2, 3)\n",
    "        turn120degrees()\n",
    "        # turn120degrees(clientID, omniRob, wheel_1, wheel_2, wheel_3)"
   ]
  },
  {
   "cell_type": "code",
   "execution_count": 113,
   "metadata": {},
   "outputs": [
    {
     "name": "stdout",
     "output_type": "stream",
     "text": [
      "conectado a 19999\n",
      "-5.2727272727272725 -5.2727272727272725 -5.2727272727272725 2.0943951023931953\n",
      "-5.2727272727272725 -5.2727272727272725 -5.2727272727272725 2.0943951023931953\n",
      "-5.2727272727272725 -5.2727272727272725 -5.2727272727272725 2.0943951023931953\n"
     ]
    }
   ],
   "source": [
    "clientID = connect(19999)\n",
    "\n",
    "triangle(clientID, WCR, WCL)"
   ]
  },
  {
   "cell_type": "code",
   "execution_count": 130,
   "metadata": {},
   "outputs": [],
   "source": [
    "# 6- Funció per realitzar un cercle\n",
    "\n",
    "# Per fer aquesta funció, deixem una roda quieta i movem les altres dos per a que descrigui un cercle.\n",
    "# He aprofitat l'antic codi de turnLeft i turnRight que feien més o menys el mateix, pero sobre si mateix.\n",
    "\n",
    "def circle(clientID, omniRob, wheel_1, wheel_2):\n",
    "    speed = 2  \n",
    "\n",
    "    # Obtenir l'orientació inicial del robot\n",
    "    ret, orientacio_inicial = sim.simxGetObjectOrientation(clientID, omniRob, -1, sim.simx_opmode_blocking)\n",
    "    \n",
    "    if ret != sim.simx_return_ok:\n",
    "        print(\"Error al obtenir l'orientació inicial\")\n",
    "        return\n",
    "    \n",
    "    # Calcular l'orientació objectiu (360 graus a la dreta)\n",
    "    \n",
    "    angulo_objetivo = orientacio_inicial[2] # Volem que doni una volta sencera, per tant, acabi amb la mateixa orientació (gir de 2pi)\n",
    "\n",
    "    # Establir velocitats de les rodes per girar a la dreta\n",
    "    sim.simxSetJointTargetVelocity(clientID, wheel_1, speed, sim.simx_opmode_streaming)\n",
    "    sim.simxSetJointTargetVelocity(clientID, wheel_2, speed, sim.simx_opmode_streaming)\n",
    "    # sim.simxSetJointTargetVelocity(clientID, wheel_3, speed, sim.simx_opmode_streaming)\n",
    "    \n",
    "    # Bucle fins que el robot gira 90 graus a la dreta\n",
    "    i=0\n",
    "    while True:\n",
    "        ret, orientacion_actual = sim.simxGetObjectOrientation(clientID, omniRob, -1, sim.simx_opmode_blocking)\n",
    "        \n",
    "        if ret != sim.simx_return_ok:\n",
    "            print(\"Error al obtenir l'orientació actual\")\n",
    "            break\n",
    "        \n",
    "        angulo_actual = orientacion_actual[2]\n",
    "        \n",
    "        if abs(angulo_actual - angulo_objetivo) < 0.2 and i > 50: # Quan estem arribant, disminuim velocitat per prioritzar precisió\n",
    "            speed = 0.5\n",
    "            # Establir nova velocitats de les rodes per girar a la dreta\n",
    "            sim.simxSetJointTargetVelocity(clientID, wheel_1, speed, sim.simx_opmode_streaming)\n",
    "            sim.simxSetJointTargetVelocity(clientID, wheel_2, speed, sim.simx_opmode_streaming)\n",
    "\n",
    "\n",
    "        # print(\"i: \", i, \", ABS: \", abs(angulo_actual - angulo_objetivo))\n",
    "        if abs(angulo_actual - angulo_objetivo) < 0.005 and i > 50: # Diferència entre angle objectiu i actual; 0.005 es la \"precisió\"\n",
    "            break\n",
    "\n",
    "        i+=1\n",
    "    \n",
    "    # Parar després de girar\n",
    "    sim.simxSetJointTargetVelocity(clientID, wheel_1, 0, sim.simx_opmode_streaming)\n",
    "    sim.simxSetJointTargetVelocity(clientID, wheel_2, 0, sim.simx_opmode_streaming)\n"
   ]
  },
  {
   "cell_type": "code",
   "execution_count": 131,
   "metadata": {},
   "outputs": [
    {
     "name": "stdout",
     "output_type": "stream",
     "text": [
      "conectado a 19999\n"
     ]
    }
   ],
   "source": [
    "clientID = connect(19999)\n",
    "\n",
    "circle(clientID, omniRob, WCR, WCL)"
   ]
  },
  {
   "cell_type": "code",
   "execution_count": 142,
   "metadata": {},
   "outputs": [],
   "source": [
    "# 4 Incorporació de sensors de distancia\n",
    "# Heu d'utilitzar 4 sensors i colocar a cada costat 1 sensor. Intenteu realitzar un programa per moure el robot dins d'un escenari \n",
    "# amb  obstacles ( poden ser parets, objectes del coppelia )  i intentar que el robot detecti els obstacles i els pugui evitar \n",
    "\n",
    "def moveAvoidingObstacles(clientID, wheel_1, wheel_2, wheel_3, Front_PS, Left_PS, Right_PS, Rear_PS):\n",
    "    speed = 3  \n",
    "    \n",
    "    # Lectura en mode \"blocking\" perque \"buffer\", per algun motiu no em funciona amb sensor tipus \"conic\" (si amb tipus \"ray\")\n",
    "    ret, detectionState, detectedPoint, detectedObjectHandle, detectedSurfaceNormalVector = sim.simxReadProximitySensor(clientID, Front_PS, sim.simx_opmode_blocking)\n",
    "    \n",
    "    while True:\n",
    "        posibleBug = True\n",
    "\n",
    "        while True:\n",
    "            # Llegir estat sensor frontal\n",
    "            ret, detectionState, detectedPoint, detectedObjectHandle, detectedSurfaceNormalVector = sim.simxReadProximitySensor(clientID, Front_PS, sim.simx_opmode_blocking)\n",
    "            # print(ret, detectionState, detectedPoint, detectedObjectHandle, detectedSurfaceNormalVector)\n",
    "\n",
    "            if detectionState:\n",
    "                print(\"Object detected\")\n",
    "                break\n",
    "\n",
    "            posibleBug = False\n",
    "\n",
    "            # Movimient rodes\n",
    "            sim.simxSetJointTargetVelocity(clientID, wheel_1, speed, sim.simx_opmode_streaming)\n",
    "            sim.simxSetJointTargetVelocity(clientID, wheel_2, - speed, sim.simx_opmode_streaming)\n",
    "            \n",
    "        # Parar després de detectar obstacle\n",
    "        sim.simxSetJointTargetVelocity(clientID, wheel_1, 0, sim.simx_opmode_streaming)\n",
    "        sim.simxSetJointTargetVelocity(clientID, wheel_2, 0, sim.simx_opmode_streaming)\n",
    "\n",
    "        # Girar després de trobar obstacle cap a la direcció sense obstacles\n",
    "        ret, leftDetectionState, detectedPoint, detectedObjectHandle, detectedSurfaceNormalVector = sim.simxReadProximitySensor(clientID, Left_PS, sim.simx_opmode_blocking)\n",
    "        ret, rightDetectionState, detectedPoint, detectedObjectHandle, detectedSurfaceNormalVector = sim.simxReadProximitySensor(clientID, Right_PS, sim.simx_opmode_blocking)\n",
    "        ret, rearDetectionState, detectedPoint, detectedObjectHandle, detectedSurfaceNormalVector = sim.simxReadProximitySensor(clientID, Rear_PS, sim.simx_opmode_blocking)\n",
    "    \n",
    "        if(posibleBug):\n",
    "            turnRight()\n",
    "            turnRight()\n",
    "\n",
    "        if(leftDetectionState == False):\n",
    "            turnLeft()\n",
    "        elif(rightDetectionState == False):\n",
    "            turnRight()\n",
    "        elif(rearDetectionState == False):\n",
    "            turnRight()\n",
    "            turnRight()\n",
    "        else:\n",
    "            print(\"Atrapat!\")\n",
    "            break"
   ]
  },
  {
   "cell_type": "code",
   "execution_count": 143,
   "metadata": {},
   "outputs": [
    {
     "name": "stdout",
     "output_type": "stream",
     "text": [
      "conectado a 19999\n",
      "Object detected\n",
      "-5.2727272727272725 -5.2727272727272725 -5.2727272727272725 1.5707963267948966\n",
      "Object detected\n",
      "-5.2727272727272725 -5.2727272727272725 -5.2727272727272725 1.5707963267948966\n"
     ]
    },
    {
     "ename": "KeyboardInterrupt",
     "evalue": "",
     "output_type": "error",
     "traceback": [
      "\u001b[1;31m---------------------------------------------------------------------------\u001b[0m",
      "\u001b[1;31mKeyboardInterrupt\u001b[0m                         Traceback (most recent call last)",
      "Cell \u001b[1;32mIn[143], line 9\u001b[0m\n\u001b[0;32m      6\u001b[0m ret, Right_PS \u001b[38;5;241m=\u001b[39m sim\u001b[38;5;241m.\u001b[39msimxGetObjectHandle(clientID, \u001b[38;5;124m'\u001b[39m\u001b[38;5;124mRight_proximity_sensor\u001b[39m\u001b[38;5;124m'\u001b[39m, sim\u001b[38;5;241m.\u001b[39msimx_opmode_blocking)\n\u001b[0;32m      7\u001b[0m ret, Rear_PS \u001b[38;5;241m=\u001b[39m sim\u001b[38;5;241m.\u001b[39msimxGetObjectHandle(clientID, \u001b[38;5;124m'\u001b[39m\u001b[38;5;124mRear_proximity_sensor\u001b[39m\u001b[38;5;124m'\u001b[39m, sim\u001b[38;5;241m.\u001b[39msimx_opmode_blocking)\n\u001b[1;32m----> 9\u001b[0m \u001b[43mmoveAvoidingObstacles\u001b[49m\u001b[43m(\u001b[49m\u001b[43mclientID\u001b[49m\u001b[43m,\u001b[49m\u001b[43m \u001b[49m\u001b[43mWCR\u001b[49m\u001b[43m,\u001b[49m\u001b[43m \u001b[49m\u001b[43mWCL\u001b[49m\u001b[43m,\u001b[49m\u001b[43m \u001b[49m\u001b[43mWC\u001b[49m\u001b[43m,\u001b[49m\u001b[43m \u001b[49m\u001b[43mFront_PS\u001b[49m\u001b[43m,\u001b[49m\u001b[43m \u001b[49m\u001b[43mLeft_PS\u001b[49m\u001b[43m,\u001b[49m\u001b[43m \u001b[49m\u001b[43mRight_PS\u001b[49m\u001b[43m,\u001b[49m\u001b[43m \u001b[49m\u001b[43mRear_PS\u001b[49m\u001b[43m)\u001b[49m\n",
      "Cell \u001b[1;32mIn[142], line 16\u001b[0m, in \u001b[0;36mmoveAvoidingObstacles\u001b[1;34m(clientID, wheel_1, wheel_2, wheel_3, Front_PS, Left_PS, Right_PS, Rear_PS)\u001b[0m\n\u001b[0;32m     12\u001b[0m posibleBug \u001b[38;5;241m=\u001b[39m \u001b[38;5;28;01mTrue\u001b[39;00m\n\u001b[0;32m     14\u001b[0m \u001b[38;5;28;01mwhile\u001b[39;00m \u001b[38;5;28;01mTrue\u001b[39;00m:\n\u001b[0;32m     15\u001b[0m     \u001b[38;5;66;03m# Llegir estat sensor frontal\u001b[39;00m\n\u001b[1;32m---> 16\u001b[0m     ret, detectionState, detectedPoint, detectedObjectHandle, detectedSurfaceNormalVector \u001b[38;5;241m=\u001b[39m \u001b[43msim\u001b[49m\u001b[38;5;241;43m.\u001b[39;49m\u001b[43msimxReadProximitySensor\u001b[49m\u001b[43m(\u001b[49m\u001b[43mclientID\u001b[49m\u001b[43m,\u001b[49m\u001b[43m \u001b[49m\u001b[43mFront_PS\u001b[49m\u001b[43m,\u001b[49m\u001b[43m \u001b[49m\u001b[43msim\u001b[49m\u001b[38;5;241;43m.\u001b[39;49m\u001b[43msimx_opmode_blocking\u001b[49m\u001b[43m)\u001b[49m\n\u001b[0;32m     17\u001b[0m     \u001b[38;5;66;03m# print(ret, detectionState, detectedPoint, detectedObjectHandle, detectedSurfaceNormalVector)\u001b[39;00m\n\u001b[0;32m     19\u001b[0m     \u001b[38;5;28;01mif\u001b[39;00m detectionState:\n",
      "File \u001b[1;32mc:\\Users\\USBW1IE.SEAT\\OneDrive - Volkswagen AG\\Documents\\98_Universidad\\2o sem\\RLP\\RLP-Problemas\\1_omniwheelrobot\\sim.py:353\u001b[0m, in \u001b[0;36msimxReadProximitySensor\u001b[1;34m(clientID, sensorHandle, operationMode)\u001b[0m\n\u001b[0;32m    351\u001b[0m detectedPoint  \u001b[38;5;241m=\u001b[39m (ct\u001b[38;5;241m.\u001b[39mc_float\u001b[38;5;241m*\u001b[39m\u001b[38;5;241m3\u001b[39m)()\n\u001b[0;32m    352\u001b[0m detectedSurfaceNormalVector \u001b[38;5;241m=\u001b[39m (ct\u001b[38;5;241m.\u001b[39mc_float\u001b[38;5;241m*\u001b[39m\u001b[38;5;241m3\u001b[39m)()\n\u001b[1;32m--> 353\u001b[0m ret \u001b[38;5;241m=\u001b[39m \u001b[43mc_ReadProximitySensor\u001b[49m\u001b[43m(\u001b[49m\u001b[43mclientID\u001b[49m\u001b[43m,\u001b[49m\u001b[43m \u001b[49m\u001b[43msensorHandle\u001b[49m\u001b[43m,\u001b[49m\u001b[43m \u001b[49m\u001b[43mct\u001b[49m\u001b[38;5;241;43m.\u001b[39;49m\u001b[43mbyref\u001b[49m\u001b[43m(\u001b[49m\u001b[43mdetectionState\u001b[49m\u001b[43m)\u001b[49m\u001b[43m,\u001b[49m\u001b[43m \u001b[49m\u001b[43mdetectedPoint\u001b[49m\u001b[43m,\u001b[49m\u001b[43m \u001b[49m\u001b[43mct\u001b[49m\u001b[38;5;241;43m.\u001b[39;49m\u001b[43mbyref\u001b[49m\u001b[43m(\u001b[49m\u001b[43mdetectedObjectHandle\u001b[49m\u001b[43m)\u001b[49m\u001b[43m,\u001b[49m\u001b[43m \u001b[49m\u001b[43mdetectedSurfaceNormalVector\u001b[49m\u001b[43m,\u001b[49m\u001b[43m \u001b[49m\u001b[43moperationMode\u001b[49m\u001b[43m)\u001b[49m\n\u001b[0;32m    354\u001b[0m arr1 \u001b[38;5;241m=\u001b[39m []\n\u001b[0;32m    355\u001b[0m \u001b[38;5;28;01mfor\u001b[39;00m i \u001b[38;5;129;01min\u001b[39;00m \u001b[38;5;28mrange\u001b[39m(\u001b[38;5;241m3\u001b[39m):\n",
      "\u001b[1;31mKeyboardInterrupt\u001b[0m: "
     ]
    }
   ],
   "source": [
    "clientID = connect(19999)\n",
    "\n",
    "# Obtenim els sensors\n",
    "ret, Front_PS = sim.simxGetObjectHandle(clientID, 'Front_proximity_sensor', sim.simx_opmode_blocking)\n",
    "ret, Left_PS = sim.simxGetObjectHandle(clientID, 'Left_proximity_sensor', sim.simx_opmode_blocking)\n",
    "ret, Right_PS = sim.simxGetObjectHandle(clientID, 'Right_proximity_sensor', sim.simx_opmode_blocking)\n",
    "ret, Rear_PS = sim.simxGetObjectHandle(clientID, 'Rear_proximity_sensor', sim.simx_opmode_blocking)\n",
    "\n",
    "moveAvoidingObstacles(clientID, WCR, WCL, WC, Front_PS, Left_PS, Right_PS, Rear_PS)"
   ]
  },
  {
   "cell_type": "code",
   "execution_count": null,
   "metadata": {},
   "outputs": [
    {
     "name": "stdout",
     "output_type": "stream",
     "text": [
      "conectado a 19999\n"
     ]
    }
   ],
   "source": [
    "# TESTING\n",
    "\n",
    "# Funció per avançar fins trobar un obstacle\n",
    "def goForwardUntilObstacle(clientID, wheel_L, wheel_R, Front_PS):\n",
    "    speed = 1  \n",
    "    \n",
    "    # Lectura en mode \"blocking\" perque \"buffer\", per algun motiu no em funciona amb sensor tipus \"conic\" (si amb tipus \"ray\")\n",
    "    ret, detectionState, detectedPoint, detectedObjectHandle, detectedSurfaceNormalVector = sim.simxReadProximitySensor(clientID, Front_PS, sim.simx_opmode_blocking)\n",
    "    \n",
    "    while True:\n",
    "        # Llegir estat sensor frontal\n",
    "        ret, detectionState, detectedPoint, detectedObjectHandle, detectedSurfaceNormalVector = sim.simxReadProximitySensor(clientID, Front_PS, sim.simx_opmode_blocking)\n",
    "        # print(ret, detectionState, detectedPoint, detectedObjectHandle, detectedSurfaceNormalVector)\n",
    "\n",
    "        if detectionState:\n",
    "            print(\"Object detected\")\n",
    "            break\n",
    "\n",
    "        # Movimient rodes\n",
    "        sim.simxSetJointTargetVelocity(clientID, wheel_L, speed, sim.simx_opmode_streaming)\n",
    "        sim.simxSetJointTargetVelocity(clientID, wheel_R, - speed, sim.simx_opmode_streaming)\n",
    "        \n",
    "    # Parar després de detectar obstacle\n",
    "    sim.simxSetJointTargetVelocity(clientID, wheel_L, 0, sim.simx_opmode_streaming)\n",
    "    sim.simxSetJointTargetVelocity(clientID, wheel_R, 0, sim.simx_opmode_streaming)\n",
    "\n",
    "clientID = connect(19999)\n",
    "\n",
    "ret, Front_PS = sim.simxGetObjectHandle(clientID, 'Front_proximity_sensor', sim.simx_opmode_blocking)\n",
    "ret, Left_PS = sim.simxGetObjectHandle(clientID, 'Left_proximity_sensor', sim.simx_opmode_blocking)\n",
    "ret, Right_PS = sim.simxGetObjectHandle(clientID, 'Right_proximity_sensor', sim.simx_opmode_blocking)\n",
    "ret, Rear_PS = sim.simxGetObjectHandle(clientID, 'Rear_proximity_sensor', sim.simx_opmode_blocking)\n",
    "\n",
    "# goForwardUntilObstacle(clientID, WCR, WCL, Front_PS)"
   ]
  },
  {
   "cell_type": "markdown",
   "metadata": {},
   "source": [
    "## Codi descartat:"
   ]
  },
  {
   "cell_type": "code",
   "execution_count": null,
   "metadata": {},
   "outputs": [],
   "source": [
    "\n",
    "# #exemple de possibles moviments\n",
    "# velocidad = 1\n",
    "# time.sleep(2)\n",
    "# #Avanzar hacia delante durante 3 segundos:\n",
    "# sim.simxSetJointTargetVelocity(clientID, WCR,velocidad,sim.simx_opmode_streaming)\n",
    "# sim.simxSetJointTargetVelocity(clientID, WCL,-velocidad,sim.simx_opmode_streaming)\n",
    "# time.sleep(3)\n",
    "# #Retroceder hacia atras durante 3 segundos:\n",
    "# sim.simxSetJointTargetVelocity(clientID, WCR,-velocidad,sim.simx_opmode_streaming)\n",
    "# sim.simxSetJointTargetVelocity(clientID, WCL,-velocidad,sim.simx_opmode_streaming)\n",
    "# time.sleep(3)\n",
    "# #Girar hacia la derecha durante 3 segundos:\n",
    "# sim.simxSetJointTargetVelocity(clientID, WCR,-velocidad,sim.simx_opmode_streaming)\n",
    "# sim.simxSetJointTargetVelocity(clientID, WCL,velocidad,sim.simx_opmode_streaming)\n",
    "# time.sleep(3)\n",
    "# #Parar:\n",
    "# sim.simxSetJointTargetVelocity(clientID, WCR,0,sim.simx_opmode_streaming)\n",
    "# sim.simxSetJointTargetVelocity(clientID, WCL,0,sim.simx_opmode_streaming)\n",
    "# time.sleep(3)"
   ]
  },
  {
   "cell_type": "code",
   "execution_count": null,
   "metadata": {},
   "outputs": [],
   "source": [
    "# def turnRight(clientID, omniRob, wheel_1, wheel_2, wheel_3):\n",
    "#     speed = 0.5  # Velocitat de gir lenta per a que s'identifiqui correctament el gir\n",
    "\n",
    "#     # Obtenir l'orientació inicial del robot\n",
    "#     ret, orientacio_inicial = sim.simxGetObjectOrientation(clientID, omniRob, -1, sim.simx_opmode_blocking)\n",
    "    \n",
    "#     # print(\"orientacio_inicial: \", orientacio_inicial)\n",
    "\n",
    "#     if ret != sim.simx_return_ok:\n",
    "#         print(\"Error al obtenir l'orientació inicial\")\n",
    "#         return\n",
    "    \n",
    "#     # Calcular l'orientació objectiu (90 graus a la dreta)\n",
    "#     angulo_objetivo = orientacio_inicial[2] - (90 * (math.pi / 180))  # Graus a radiants\n",
    "\n",
    "#     # print(\"angulo_objetivo: \", angulo_objetivo)\n",
    "    \n",
    "#     # Ajustar l'angle objectiu perquè estigui entre -pi i pi]\n",
    "#     if angulo_objetivo < -math.pi:\n",
    "#         angulo_objetivo += 2 * math.pi\n",
    "    \n",
    "#     # Establir velocitats de les rodes per girar a la dreta\n",
    "#     sim.simxSetJointTargetVelocity(clientID, wheel_1, speed, sim.simx_opmode_streaming)\n",
    "#     sim.simxSetJointTargetVelocity(clientID, wheel_2, speed, sim.simx_opmode_streaming)\n",
    "#     sim.simxSetJointTargetVelocity(clientID, wheel_3, speed, sim.simx_opmode_streaming)\n",
    "    \n",
    "#     # Bucle fins que el robot gira 90 graus a la dreta\n",
    "#     while True:\n",
    "#         ret, orientacion_actual = sim.simxGetObjectOrientation(clientID, omniRob, -1, sim.simx_opmode_blocking)\n",
    "        \n",
    "#         if ret != sim.simx_return_ok:\n",
    "#             print(\"Error al obtenir l'orientació actual\")\n",
    "#             break\n",
    "        \n",
    "#         angulo_actual = orientacion_actual[2]\n",
    "        \n",
    "#         # print(\"[While] angulo_actual: \", angulo_actual)\n",
    "#         # print(\"[While] dif: \", abs(angulo_actual - angulo_objetivo))\n",
    "\n",
    "#         if abs(angulo_actual - angulo_objetivo) < 0.1: # Quan estem arribant, disminuim velocitat per prioritzar precisió\n",
    "#             speed = 0.01\n",
    "#             # Establir nova velocitats de les rodes per girar a la dreta\n",
    "#             sim.simxSetJointTargetVelocity(clientID, wheel_1, speed, sim.simx_opmode_streaming)\n",
    "#             sim.simxSetJointTargetVelocity(clientID, wheel_2, speed, sim.simx_opmode_streaming)\n",
    "#             sim.simxSetJointTargetVelocity(clientID, wheel_3, speed, sim.simx_opmode_streaming)\n",
    "\n",
    "\n",
    "#         if abs(angulo_actual - angulo_objetivo) < 0.005: # Diferència entre angle objectiu i actual; 0.01 es la \"precisió\"\n",
    "#             break\n",
    "    \n",
    "#     # Parar després de girar\n",
    "#     sim.simxSetJointTargetVelocity(clientID, wheel_1, 0, sim.simx_opmode_streaming)\n",
    "#     sim.simxSetJointTargetVelocity(clientID, wheel_2, 0, sim.simx_opmode_streaming)\n",
    "#     sim.simxSetJointTargetVelocity(clientID, wheel_3, 0, sim.simx_opmode_streaming)"
   ]
  },
  {
   "cell_type": "code",
   "execution_count": null,
   "metadata": {},
   "outputs": [],
   "source": [
    "# def turnLeft(clientID, omniRob, wheel_1, wheel_2, wheel_3):\n",
    "#     speed = 0.4  # Velocitat de gir lenta per a que s'identifiqui correctament el gir\n",
    "\n",
    "#     # Obtenir l'orientació inicial del robot\n",
    "#     ret, orientacio_inicial = sim.simxGetObjectOrientation(clientID, omniRob, -1, sim.simx_opmode_blocking)\n",
    "    \n",
    "#     # print(\"orientacio_inicial: \", orientacio_inicial)\n",
    "\n",
    "#     if ret != sim.simx_return_ok:\n",
    "#         print(\"Error al obtenir l'orientació inicial\")\n",
    "#         return\n",
    "    \n",
    "#     # Calcular l'orientació objectiu (90 graus a la ESQUERRA = 360-90 = 270 graus)\n",
    "#     angulo_objetivo = orientacio_inicial[2] - (270 * (math.pi / 180))  # Graus a radiants\n",
    "\n",
    "#     # print(\"angulo_objetivo: \", angulo_objetivo)\n",
    "    \n",
    "#     # Ajustar l'angle objectiu perquè estigui entre -pi i pi]\n",
    "#     if angulo_objetivo < -math.pi:\n",
    "#         angulo_objetivo += 2 * math.pi\n",
    "    \n",
    "#     # Establir velocitats de les rodes per girar a la ESQUERRA\n",
    "#     sim.simxSetJointTargetVelocity(clientID, wheel_1, -speed, sim.simx_opmode_streaming)\n",
    "#     sim.simxSetJointTargetVelocity(clientID, wheel_2, -speed, sim.simx_opmode_streaming)\n",
    "#     sim.simxSetJointTargetVelocity(clientID, wheel_3, -speed, sim.simx_opmode_streaming)\n",
    "    \n",
    "#     # Bucle fins que el robot gira 90 graus a la ESQUERRA\n",
    "#     while True:\n",
    "#         ret, orientacion_actual = sim.simxGetObjectOrientation(clientID, omniRob, -1, sim.simx_opmode_blocking)\n",
    "        \n",
    "#         if ret != sim.simx_return_ok:\n",
    "#             print(\"Error al obtenir l'orientació actual\")\n",
    "#             break\n",
    "        \n",
    "#         angulo_actual = orientacion_actual[2]\n",
    "        \n",
    "#         # print(\"[While] angulo_actual: \", angulo_actual)\n",
    "#         # print(\"[While] dif: \", abs(angulo_actual - angulo_objetivo))\n",
    "\n",
    "#         if abs(angulo_actual - angulo_objetivo) < 0.1: # Quan estem arribant, disminuim velocitat per prioritzar precisió\n",
    "#             speed = 0.01\n",
    "#             # Establir nova velocitats de les rodes per girar a la dreta\n",
    "#             sim.simxSetJointTargetVelocity(clientID, wheel_1, -speed, sim.simx_opmode_streaming)\n",
    "#             sim.simxSetJointTargetVelocity(clientID, wheel_2, -speed, sim.simx_opmode_streaming)\n",
    "#             sim.simxSetJointTargetVelocity(clientID, wheel_3, -speed, sim.simx_opmode_streaming)\n",
    "\n",
    "#         if abs(angulo_actual - angulo_objetivo) < 0.005: # Diferència entre angle objectiu i actual; 0.01 es la \"precisió\"\n",
    "#             break\n",
    "    \n",
    "#     # Parar després de girar\n",
    "#     sim.simxSetJointTargetVelocity(clientID, wheel_1, 0, sim.simx_opmode_streaming)\n",
    "#     sim.simxSetJointTargetVelocity(clientID, wheel_2, 0, sim.simx_opmode_streaming)\n",
    "#     sim.simxSetJointTargetVelocity(clientID, wheel_3, 0, sim.simx_opmode_streaming)"
   ]
  },
  {
   "cell_type": "code",
   "execution_count": null,
   "metadata": {},
   "outputs": [],
   "source": [
    "# def turn120degrees(clientID, omniRob, wheel_1, wheel_2, wheel_3):\n",
    "#     speed = 0.4  # Velocitat de gir lenta per a que s'identifiqui correctament el gir\n",
    "\n",
    "#     # Obtenir l'orientació inicial del robot\n",
    "#     ret, orientacio_inicial = sim.simxGetObjectOrientation(clientID, omniRob, -1, sim.simx_opmode_blocking)\n",
    "    \n",
    "#     # print(\"orientacio_inicial: \", orientacio_inicial)\n",
    "\n",
    "#     if ret != sim.simx_return_ok:\n",
    "#         print(\"Error al obtenir l'orientació inicial\")\n",
    "#         return\n",
    "    \n",
    "#     # Calcular l'orientació objectiu (120 graus a la DRETA = 360/3 = 120 graus)\n",
    "#     angulo_objetivo = orientacio_inicial[2] - (120 * (3.14159265 / 180))  # Graus a radiants\n",
    "\n",
    "#     # print(\"angulo_objetivo: \", angulo_objetivo)\n",
    "    \n",
    "#     # Ajustar l'angle objectiu perquè estigui entre -pi i pi]\n",
    "#     if angulo_objetivo < -3.14159265:\n",
    "#         angulo_objetivo += 2 * 3.14159265\n",
    "    \n",
    "#     # Establir velocitats de les rodes per girar a la DRETA\n",
    "#     sim.simxSetJointTargetVelocity(clientID, wheel_1, speed, sim.simx_opmode_streaming)\n",
    "#     sim.simxSetJointTargetVelocity(clientID, wheel_2, speed, sim.simx_opmode_streaming)\n",
    "#     sim.simxSetJointTargetVelocity(clientID, wheel_3, speed, sim.simx_opmode_streaming)\n",
    "    \n",
    "#     # Bucle fins que el robot gira 120 graus a la DRETA\n",
    "#     while True:\n",
    "#         ret, orientacion_actual = sim.simxGetObjectOrientation(clientID, omniRob, -1, sim.simx_opmode_blocking)\n",
    "        \n",
    "#         if ret != sim.simx_return_ok:\n",
    "#             print(\"Error al obtenir l'orientació actual\")\n",
    "#             break\n",
    "        \n",
    "#         angulo_actual = orientacion_actual[2]\n",
    "        \n",
    "#         # print(\"[While] angulo_actual: \", angulo_actual)\n",
    "#         # print(\"[While] dif: \", abs(angulo_actual - angulo_objetivo))\n",
    "\n",
    "#         if abs(angulo_actual - angulo_objetivo) < 0.15: # Quan estem arribant, disminuim velocitat per prioritzar precisió\n",
    "#             speed = 0.05\n",
    "#             # Establir nova velocitats de les rodes per girar a la dreta\n",
    "#             sim.simxSetJointTargetVelocity(clientID, wheel_1, speed, sim.simx_opmode_streaming)\n",
    "#             sim.simxSetJointTargetVelocity(clientID, wheel_2, speed, sim.simx_opmode_streaming)\n",
    "#             sim.simxSetJointTargetVelocity(clientID, wheel_3, speed, sim.simx_opmode_streaming)\n",
    "\n",
    "#         if abs(angulo_actual - angulo_objetivo) < 0.005: # Diferència entre angle objectiu i actual; 0.01 es la \"precisió\"\n",
    "#             break\n",
    "    \n",
    "#     Parar després de girar\n",
    "#     sim.simxSetJointTargetVelocity(clientID, wheel_1, 0, sim.simx_opmode_streaming)\n",
    "#     sim.simxSetJointTargetVelocity(clientID, wheel_2, 0, sim.simx_opmode_streaming)\n",
    "#     sim.simxSetJointTargetVelocity(clientID, wheel_3, 0, sim.simx_opmode_streaming)\n"
   ]
  }
 ],
 "metadata": {
  "kernelspec": {
   "display_name": "Python 3",
   "language": "python",
   "name": "python3"
  },
  "language_info": {
   "codemirror_mode": {
    "name": "ipython",
    "version": 3
   },
   "file_extension": ".py",
   "mimetype": "text/x-python",
   "name": "python",
   "nbconvert_exporter": "python",
   "pygments_lexer": "ipython3",
   "version": "3.12.0"
  }
 },
 "nbformat": 4,
 "nbformat_minor": 2
}
