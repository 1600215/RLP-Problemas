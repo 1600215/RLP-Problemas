{
 "cells": [
  {
   "cell_type": "markdown",
   "metadata": {},
   "source": [
    "<h2> Exercici de Recuperació 1 </h2>\n",
    "<br>- Omnirobot de 3 rodes. \n"
   ]
  },
  {
   "cell_type": "markdown",
   "metadata": {},
   "source": [
    "### 1. Connexió al coppelia\n"
   ]
  },
  {
   "cell_type": "code",
   "execution_count": 11,
   "metadata": {},
   "outputs": [],
   "source": [
    "import sim\n",
    "import numpy as np\n",
    "def connect(port):\n",
    "# Establece la conexión a COPPELIA\n",
    "# El port debe coincidir con el puerto de conexión en VREP  -- DALE AL PLAY !!!\n",
    "# retorna el número de cliente o -1 si no puede establecer conexión\n",
    "    sim.simxFinish(-1) # just in case, close all opened connections\n",
    "    clientID=sim.simxStart('127.0.0.1',port,True,True,2000,5) # Conectarse\n",
    "    if clientID == 0: print(\"conectado a\", port)\n",
    "    else: print(\"no se pudo conectar\")\n",
    "    return clientID\n"
   ]
  },
  {
   "cell_type": "code",
   "execution_count": 12,
   "metadata": {},
   "outputs": [
    {
     "name": "stdout",
     "output_type": "stream",
     "text": [
      "conectado a 19999\n"
     ]
    }
   ],
   "source": [
    "# Conectarse al servidor de COPPELIA\n",
    "# *** _Hay que ejecutarlo cada vez que se reinicia la simulación ***\n",
    "clientID = connect(19999)"
   ]
  },
  {
   "cell_type": "markdown",
   "metadata": {},
   "source": [
    "<h3> 2. Controladors</h3>"
   ]
  },
  {
   "cell_type": "code",
   "execution_count": 13,
   "metadata": {},
   "outputs": [
    {
     "name": "stdout",
     "output_type": "stream",
     "text": [
      "31 36 16\n"
     ]
    }
   ],
   "source": [
    "# Obtenemos los controladores para cada eje de las ruedas y el ultrasonido\n",
    "ret,WCR=sim.simxGetObjectHandle(clientID,'OmniWCR',sim.simx_opmode_blocking)\n",
    "ret,WCL=sim.simxGetObjectHandle(clientID,'OmniWCL',sim.simx_opmode_blocking)\n",
    "ret,WC=sim.simxGetObjectHandle(clientID,'OmniWC',sim.simx_opmode_blocking)\n",
    "print(WCR, WCL, WC)"
   ]
  },
  {
   "cell_type": "markdown",
   "metadata": {},
   "source": [
    "<h3> 3. Moviments del robot</h3>\n",
    "<br>Heu de realitzar les següents funcions per realitzar moviments lineals i figures :\n",
    "<br> 1- Funció per avançar en un determinat temps\n",
    "<br> 2- Funció per girar 90graus a la dreta (mireu la propietat d'un objecte)\n",
    "<br> 3- Funció per girar 90 graus a l'esquerra (mireu la propietat d'un objecte)\n",
    "<br> 4- Funció per realitzar un quadrat\n",
    "<br> 5- Funció per realitzar un triangle\n",
    "<br> 6- Funció per realitzar un cercle\n",
    "\n",
    "\n"
   ]
  },
  {
   "cell_type": "code",
   "execution_count": 14,
   "metadata": {},
   "outputs": [],
   "source": [
    "\n",
    "#exemple de possibles moviments\n",
    "import time\n",
    "velocidad = 1\n",
    "time.sleep(2)\n",
    "#Avanzar hacia delante durante 3 segundos:\n",
    "sim.simxSetJointTargetVelocity(clientID, WCR,velocidad,sim.simx_opmode_streaming)\n",
    "sim.simxSetJointTargetVelocity(clientID, WCL,-velocidad,sim.simx_opmode_streaming)\n",
    "time.sleep(3)\n",
    "#Retroceder hacia atras durante 3 segundos:\n",
    "sim.simxSetJointTargetVelocity(clientID, WCR,-velocidad,sim.simx_opmode_streaming)\n",
    "sim.simxSetJointTargetVelocity(clientID, WCL,-velocidad,sim.simx_opmode_streaming)\n",
    "time.sleep(3)\n",
    "#Girar hacia la derecha durante 3 segundos:\n",
    "sim.simxSetJointTargetVelocity(clientID, WCR,-velocidad,sim.simx_opmode_streaming)\n",
    "sim.simxSetJointTargetVelocity(clientID, WCL,velocidad,sim.simx_opmode_streaming)\n",
    "time.sleep(3)\n",
    "#Parar:\n",
    "sim.simxSetJointTargetVelocity(clientID, WCR,0,sim.simx_opmode_streaming)\n",
    "sim.simxSetJointTargetVelocity(clientID, WCL,0,sim.simx_opmode_streaming)\n",
    "time.sleep(3)"
   ]
  },
  {
   "cell_type": "markdown",
   "metadata": {},
   "source": [
    "<h3> 4 Incorporació de sensors de distancia </h3>\n",
    "\n",
    "Heu d'utilitzar 4 sensors i colocar a cada costat 1 sensor. Intenteu realitzar un programa per moure el robot dins d'un escenari amb  obstacles ( poden ser parets, objectes del coppelia )  i intentar que el robot detecti els obstacles i els pugui evitar \n"
   ]
  },
  {
   "cell_type": "markdown",
   "metadata": {},
   "source": [
    "<h3> Podeu veure els videos de l'exercici 10 on s'explica com afegir aquests sensors </h3>\n",
    "\n",
    "\n",
    "\n",
    "\n",
    "\n",
    "\n"
   ]
  },
  {
   "cell_type": "code",
   "execution_count": null,
   "metadata": {},
   "outputs": [],
   "source": []
  },
  {
   "cell_type": "code",
   "execution_count": null,
   "metadata": {},
   "outputs": [],
   "source": []
  },
  {
   "cell_type": "code",
   "execution_count": null,
   "metadata": {},
   "outputs": [],
   "source": []
  },
  {
   "cell_type": "code",
   "execution_count": null,
   "metadata": {},
   "outputs": [],
   "source": []
  }
 ],
 "metadata": {
  "kernelspec": {
   "display_name": "Python 3",
   "language": "python",
   "name": "python3"
  },
  "language_info": {
   "codemirror_mode": {
    "name": "ipython",
    "version": 3
   },
   "file_extension": ".py",
   "mimetype": "text/x-python",
   "name": "python",
   "nbconvert_exporter": "python",
   "pygments_lexer": "ipython3",
   "version": "3.8.5"
  }
 },
 "nbformat": 4,
 "nbformat_minor": 2
}
