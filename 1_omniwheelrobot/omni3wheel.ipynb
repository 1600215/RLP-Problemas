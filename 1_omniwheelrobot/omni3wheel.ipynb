{
 "cells": [
  {
   "cell_type": "markdown",
   "metadata": {},
   "source": [
    "<h2> Exercici de Recuperació 1 </h2>\n",
    "<br>- Omnirobot de 3 rodes. \n"
   ]
  },
  {
   "cell_type": "markdown",
   "metadata": {},
   "source": [
    "### 1. Connexió al coppelia\n"
   ]
  },
  {
   "cell_type": "code",
   "execution_count": 1,
   "metadata": {},
   "outputs": [],
   "source": [
    "import sim\n",
    "import time\n",
    "import math\n",
    "import numpy as np\n",
    "def connect(port):\n",
    "# Establece la conexión a COPPELIA\n",
    "# El port debe coincidir con el puerto de conexión en VREP  -- DALE AL PLAY !!!\n",
    "# retorna el número de cliente o -1 si no puede establecer conexión\n",
    "    sim.simxFinish(-1) # just in case, close all opened connections\n",
    "    clientID=sim.simxStart('127.0.0.1',port,True,True,2000,5) # Conectarse\n",
    "    if clientID == 0: print(\"conectado a\", port)\n",
    "    else: print(\"no se pudo conectar\")\n",
    "    return clientID\n"
   ]
  },
  {
   "cell_type": "code",
   "execution_count": 4,
   "metadata": {},
   "outputs": [
    {
     "name": "stdout",
     "output_type": "stream",
     "text": [
      "conectado a 19999\n"
     ]
    }
   ],
   "source": [
    "# Conectarse al servidor de COPPELIA\n",
    "# *** _Hay que ejecutarlo cada vez que se reinicia la simulación ***\n",
    "clientID = connect(19999)"
   ]
  },
  {
   "cell_type": "markdown",
   "metadata": {},
   "source": [
    "<h3> 2. Controladors</h3>"
   ]
  },
  {
   "cell_type": "code",
   "execution_count": 5,
   "metadata": {},
   "outputs": [
    {
     "name": "stdout",
     "output_type": "stream",
     "text": [
      "21 26 16 15\n"
     ]
    }
   ],
   "source": [
    "# Obtenemos los controladores para cada eje de las ruedas y el ultrasonido\n",
    "ret,WCR=sim.simxGetObjectHandle(clientID,'OmniWCR',sim.simx_opmode_blocking)\n",
    "ret,WCL=sim.simxGetObjectHandle(clientID,'OmniWCL',sim.simx_opmode_blocking)\n",
    "ret,WC=sim.simxGetObjectHandle(clientID,'OmniWC',sim.simx_opmode_blocking)\n",
    "\n",
    "# Obtenim també \"omniRob\" que serà molt util per veure la posició del robot \n",
    "ret, omniRob = sim.simxGetObjectHandle(clientID, 'omniRob', sim.simx_opmode_blocking)\n",
    "\n",
    "\n",
    "print(WCR, WCL, WC, omniRob)"
   ]
  },
  {
   "cell_type": "markdown",
   "metadata": {},
   "source": [
    "<h3> 3. Moviments del robot</h3>\n",
    "<br>Heu de realitzar les següents funcions per realitzar moviments lineals i figures :\n",
    "<br> 1- Funció per avançar en un determinat temps\n",
    "<br> 2- Funció per girar 90graus a la dreta (mireu la propietat d'un objecte)\n",
    "<br> 3- Funció per girar 90 graus a l'esquerra (mireu la propietat d'un objecte)\n",
    "<br> 4- Funció per realitzar un quadrat\n",
    "<br> 5- Funció per realitzar un triangle\n",
    "<br> 6- Funció per realitzar un cercle\n",
    "\n",
    "\n"
   ]
  },
  {
   "cell_type": "code",
   "execution_count": 18,
   "metadata": {},
   "outputs": [],
   "source": [
    "\n",
    "#exemple de possibles moviments\n",
    "velocidad = 1\n",
    "time.sleep(2)\n",
    "#Avanzar hacia delante durante 3 segundos:\n",
    "sim.simxSetJointTargetVelocity(clientID, WCR,velocidad,sim.simx_opmode_streaming)\n",
    "sim.simxSetJointTargetVelocity(clientID, WCL,-velocidad,sim.simx_opmode_streaming)\n",
    "time.sleep(3)\n",
    "#Retroceder hacia atras durante 3 segundos:\n",
    "sim.simxSetJointTargetVelocity(clientID, WCR,-velocidad,sim.simx_opmode_streaming)\n",
    "sim.simxSetJointTargetVelocity(clientID, WCL,-velocidad,sim.simx_opmode_streaming)\n",
    "time.sleep(3)\n",
    "#Girar hacia la derecha durante 3 segundos:\n",
    "sim.simxSetJointTargetVelocity(clientID, WCR,-velocidad,sim.simx_opmode_streaming)\n",
    "sim.simxSetJointTargetVelocity(clientID, WCL,velocidad,sim.simx_opmode_streaming)\n",
    "time.sleep(3)\n",
    "#Parar:\n",
    "sim.simxSetJointTargetVelocity(clientID, WCR,0,sim.simx_opmode_streaming)\n",
    "sim.simxSetJointTargetVelocity(clientID, WCL,0,sim.simx_opmode_streaming)\n",
    "time.sleep(3)"
   ]
  },
  {
   "cell_type": "markdown",
   "metadata": {},
   "source": [
    "<h3> 4 Incorporació de sensors de distancia </h3>\n",
    "\n",
    "Heu d'utilitzar 4 sensors i colocar a cada costat 1 sensor. Intenteu realitzar un programa per moure el robot dins d'un escenari amb  obstacles ( poden ser parets, objectes del coppelia )  i intentar que el robot detecti els obstacles i els pugui evitar \n"
   ]
  },
  {
   "cell_type": "markdown",
   "metadata": {},
   "source": [
    "<h3> Podeu veure els videos de l'exercici 10 on s'explica com afegir aquests sensors </h3>\n",
    "\n",
    "\n",
    "\n",
    "\n",
    "\n",
    "\n"
   ]
  },
  {
   "cell_type": "code",
   "execution_count": 4,
   "metadata": {},
   "outputs": [],
   "source": [
    "# 1- Funció per avançar en un determinat temps\n",
    "\n",
    "def goForward(clientID, wheel_L, wheel_R, duration):\n",
    "    speed = 1 # No la passo per parametre perquè l'enunciat només especifica \"en un determinat temps\"\n",
    "\n",
    "    # Moviment als controladors especificats\n",
    "    sim.simxSetJointTargetVelocity(clientID, wheel_L, speed, sim.simx_opmode_streaming)\n",
    "    sim.simxSetJointTargetVelocity(clientID, wheel_R, -speed, sim.simx_opmode_streaming)\n",
    "\n",
    "    # Esperar durant el temps definit a \"duration\"\n",
    "    time.sleep(duration)\n",
    "\n",
    "    # Parar després d'esperar\n",
    "    sim.simxSetJointTargetVelocity(clientID, wheel_L, 0, sim.simx_opmode_streaming)\n",
    "    sim.simxSetJointTargetVelocity(clientID, wheel_R, 0, sim.simx_opmode_streaming)\n",
    "\n",
    "# Exemple d'us amb els controladors WCR, WCL:\n",
    "duration = 3  # Duració (segons)\n",
    "goForward(clientID, WCR, WCL, duration)"
   ]
  },
  {
   "cell_type": "code",
   "execution_count": 6,
   "metadata": {},
   "outputs": [
    {
     "name": "stdout",
     "output_type": "stream",
     "text": [
      "Error al obtenir l'orientació actual\n"
     ]
    }
   ],
   "source": [
    "# 2- Funció per girar 90graus a la dreta (mireu la propietat d'un objecte)\n",
    "\n",
    "def turnRight(clientID, omniRob, wheel_1, wheel_2, wheel_3):\n",
    "    speed = 0.5  # Velocitat de gir lenta per a que s'identifiqui correctament el gir\n",
    "\n",
    "    # Obtenir l'orientació inicial del robot\n",
    "    ret, orientacio_inicial = sim.simxGetObjectOrientation(clientID, omniRob, -1, sim.simx_opmode_blocking)\n",
    "    \n",
    "    # print(\"orientacio_inicial: \", orientacio_inicial)\n",
    "\n",
    "    if ret != sim.simx_return_ok:\n",
    "        print(\"Error al obtenir l'orientació inicial\")\n",
    "        return\n",
    "    \n",
    "    # Calcular l'orientació objectiu (90 graus a la dreta)\n",
    "    angulo_objetivo = orientacio_inicial[2] - (90 * (math.pi / 180))  # Graus a radiants\n",
    "\n",
    "    # print(\"angulo_objetivo: \", angulo_objetivo)\n",
    "    \n",
    "    # Ajustar l'angle objectiu perquè estigui entre -pi i pi]\n",
    "    if angulo_objetivo < -math.pi:\n",
    "        angulo_objetivo += 2 * math.pi\n",
    "    \n",
    "    # Establir velocitats de les rodes per girar a la dreta\n",
    "    sim.simxSetJointTargetVelocity(clientID, wheel_1, speed, sim.simx_opmode_streaming)\n",
    "    sim.simxSetJointTargetVelocity(clientID, wheel_2, speed, sim.simx_opmode_streaming)\n",
    "    sim.simxSetJointTargetVelocity(clientID, wheel_3, speed, sim.simx_opmode_streaming)\n",
    "    \n",
    "    # Bucle fins que el robot gira 90 graus a la dreta\n",
    "    while True:\n",
    "        ret, orientacion_actual = sim.simxGetObjectOrientation(clientID, omniRob, -1, sim.simx_opmode_blocking)\n",
    "        \n",
    "        if ret != sim.simx_return_ok:\n",
    "            print(\"Error al obtenir l'orientació actual\")\n",
    "            break\n",
    "        \n",
    "        angulo_actual = orientacion_actual[2]\n",
    "        \n",
    "        # print(\"[While] angulo_actual: \", angulo_actual)\n",
    "        # print(\"[While] dif: \", abs(angulo_actual - angulo_objetivo))\n",
    "\n",
    "        if abs(angulo_actual - angulo_objetivo) < 0.15: # Quan estem arribant, disminuim velocitat per prioritzar precisió\n",
    "            speed = 0.01\n",
    "            # Establir nova velocitats de les rodes per girar a la dreta\n",
    "            sim.simxSetJointTargetVelocity(clientID, wheel_1, speed, sim.simx_opmode_streaming)\n",
    "            sim.simxSetJointTargetVelocity(clientID, wheel_2, speed, sim.simx_opmode_streaming)\n",
    "            sim.simxSetJointTargetVelocity(clientID, wheel_3, speed, sim.simx_opmode_streaming)\n",
    "\n",
    "\n",
    "        if abs(angulo_actual - angulo_objetivo) < 0.005: # Diferència entre angle objectiu i actual; 0.01 es la \"precisió\"\n",
    "            break\n",
    "    \n",
    "    # Parar després de girar\n",
    "    sim.simxSetJointTargetVelocity(clientID, wheel_1, 0, sim.simx_opmode_streaming)\n",
    "    sim.simxSetJointTargetVelocity(clientID, wheel_2, 0, sim.simx_opmode_streaming)\n",
    "    sim.simxSetJointTargetVelocity(clientID, wheel_3, 0, sim.simx_opmode_streaming)\n",
    "\n",
    "# Exemple d'ús de la funció\n",
    "\n",
    "turnRight(clientID, omniRob, WCR, WCL, WC)\n"
   ]
  },
  {
   "cell_type": "code",
   "execution_count": 27,
   "metadata": {},
   "outputs": [],
   "source": [
    "# 3- Funció per girar 90 graus a l'esquerra (mireu la propietat d'un objecte)\n",
    "\n",
    "def turnLeft(clientID, omniRob, wheel_1, wheel_2, wheel_3):\n",
    "    speed = 0.4  # Velocitat de gir lenta per a que s'identifiqui correctament el gir\n",
    "\n",
    "    # Obtenir l'orientació inicial del robot\n",
    "    ret, orientacio_inicial = sim.simxGetObjectOrientation(clientID, omniRob, -1, sim.simx_opmode_blocking)\n",
    "    \n",
    "    # print(\"orientacio_inicial: \", orientacio_inicial)\n",
    "\n",
    "    if ret != sim.simx_return_ok:\n",
    "        print(\"Error al obtenir l'orientació inicial\")\n",
    "        return\n",
    "    \n",
    "    # Calcular l'orientació objectiu (90 graus a la ESQUERRA = 360-90 = 270 graus)\n",
    "    angulo_objetivo = orientacio_inicial[2] - (270 * (math.pi / 180))  # Graus a radiants\n",
    "\n",
    "    # print(\"angulo_objetivo: \", angulo_objetivo)\n",
    "    \n",
    "    # Ajustar l'angle objectiu perquè estigui entre -pi i pi]\n",
    "    if angulo_objetivo < -math.pi:\n",
    "        angulo_objetivo += 2 * math.pi\n",
    "    \n",
    "    # Establir velocitats de les rodes per girar a la ESQUERRA\n",
    "    sim.simxSetJointTargetVelocity(clientID, wheel_1, -speed, sim.simx_opmode_streaming)\n",
    "    sim.simxSetJointTargetVelocity(clientID, wheel_2, -speed, sim.simx_opmode_streaming)\n",
    "    sim.simxSetJointTargetVelocity(clientID, wheel_3, -speed, sim.simx_opmode_streaming)\n",
    "    \n",
    "    # Bucle fins que el robot gira 90 graus a la ESQUERRA\n",
    "    while True:\n",
    "        ret, orientacion_actual = sim.simxGetObjectOrientation(clientID, omniRob, -1, sim.simx_opmode_blocking)\n",
    "        \n",
    "        if ret != sim.simx_return_ok:\n",
    "            print(\"Error al obtenir l'orientació actual\")\n",
    "            break\n",
    "        \n",
    "        angulo_actual = orientacion_actual[2]\n",
    "        \n",
    "        # print(\"[While] angulo_actual: \", angulo_actual)\n",
    "        # print(\"[While] dif: \", abs(angulo_actual - angulo_objetivo))\n",
    "\n",
    "        if abs(angulo_actual - angulo_objetivo) < 0.15: # Quan estem arribant, disminuim velocitat per prioritzar precisió\n",
    "            speed = 0.01\n",
    "            # Establir nova velocitats de les rodes per girar a la dreta\n",
    "            sim.simxSetJointTargetVelocity(clientID, wheel_1, -speed, sim.simx_opmode_streaming)\n",
    "            sim.simxSetJointTargetVelocity(clientID, wheel_2, -speed, sim.simx_opmode_streaming)\n",
    "            sim.simxSetJointTargetVelocity(clientID, wheel_3, -speed, sim.simx_opmode_streaming)\n",
    "\n",
    "        if abs(angulo_actual - angulo_objetivo) < 0.005: # Diferència entre angle objectiu i actual; 0.01 es la \"precisió\"\n",
    "            break\n",
    "    \n",
    "    # Parar després de girar\n",
    "    sim.simxSetJointTargetVelocity(clientID, wheel_1, 0, sim.simx_opmode_streaming)\n",
    "    sim.simxSetJointTargetVelocity(clientID, wheel_2, 0, sim.simx_opmode_streaming)\n",
    "    sim.simxSetJointTargetVelocity(clientID, wheel_3, 0, sim.simx_opmode_streaming)\n",
    "\n",
    "# Exemple d'ús de la funció\n",
    "\n",
    "turnLeft(clientID, omniRob, WCR, WCL, WC)\n"
   ]
  },
  {
   "cell_type": "code",
   "execution_count": 31,
   "metadata": {},
   "outputs": [],
   "source": [
    "# 4- Funció per realitzar un quadrat\n",
    "\n",
    "# Aprofitant les funcions anterior, podem fer un quadrat fàcilment\n",
    "\n",
    "def square(clientID, omniRob, wheel_1, wheel_2, wheel_3):\n",
    "    for _ in range(4):\n",
    "        goForward(clientID, wheel_1, wheel_2, 3)\n",
    "        turnRight(clientID, omniRob, wheel_1, wheel_2, wheel_3)\n",
    "\n",
    "square(clientID, omniRob, WCR, WCL, WC)"
   ]
  },
  {
   "cell_type": "code",
   "execution_count": 8,
   "metadata": {},
   "outputs": [],
   "source": [
    "# 5- Funció per realitzar un triangle\n",
    "\n",
    "# Nomes podrem aprofitar la funció \"goForward\", ja que les altres giren 90 graus, i ara necesitarem que giri 120 en cada gir (360/3 = 120)\n",
    "# Per simplificar, fare una funció \"turn120degrees\".\n",
    "\n",
    "def turn120degrees(clientID, omniRob, wheel_1, wheel_2, wheel_3):\n",
    "    speed = 0.4  # Velocitat de gir lenta per a que s'identifiqui correctament el gir\n",
    "\n",
    "    # Obtenir l'orientació inicial del robot\n",
    "    ret, orientacio_inicial = sim.simxGetObjectOrientation(clientID, omniRob, -1, sim.simx_opmode_blocking)\n",
    "    \n",
    "    # print(\"orientacio_inicial: \", orientacio_inicial)\n",
    "\n",
    "    if ret != sim.simx_return_ok:\n",
    "        print(\"Error al obtenir l'orientació inicial\")\n",
    "        return\n",
    "    \n",
    "    # Calcular l'orientació objectiu (120 graus a la DRETA = 360/3 = 120 graus)\n",
    "    angulo_objetivo = orientacio_inicial[2] - (120 * (3.14159265 / 180))  # Graus a radiants\n",
    "\n",
    "    # print(\"angulo_objetivo: \", angulo_objetivo)\n",
    "    \n",
    "    # Ajustar l'angle objectiu perquè estigui entre -pi i pi]\n",
    "    if angulo_objetivo < -3.14159265:\n",
    "        angulo_objetivo += 2 * 3.14159265\n",
    "    \n",
    "    # Establir velocitats de les rodes per girar a la DRETA\n",
    "    sim.simxSetJointTargetVelocity(clientID, wheel_1, speed, sim.simx_opmode_streaming)\n",
    "    sim.simxSetJointTargetVelocity(clientID, wheel_2, speed, sim.simx_opmode_streaming)\n",
    "    sim.simxSetJointTargetVelocity(clientID, wheel_3, speed, sim.simx_opmode_streaming)\n",
    "    \n",
    "    # Bucle fins que el robot gira 120 graus a la DRETA\n",
    "    while True:\n",
    "        ret, orientacion_actual = sim.simxGetObjectOrientation(clientID, omniRob, -1, sim.simx_opmode_blocking)\n",
    "        \n",
    "        if ret != sim.simx_return_ok:\n",
    "            print(\"Error al obtenir l'orientació actual\")\n",
    "            break\n",
    "        \n",
    "        angulo_actual = orientacion_actual[2]\n",
    "        \n",
    "        # print(\"[While] angulo_actual: \", angulo_actual)\n",
    "        # print(\"[While] dif: \", abs(angulo_actual - angulo_objetivo))\n",
    "\n",
    "        if abs(angulo_actual - angulo_objetivo) < 0.15: # Quan estem arribant, disminuim velocitat per prioritzar precisió\n",
    "            speed = 0.05\n",
    "            # Establir nova velocitats de les rodes per girar a la dreta\n",
    "            sim.simxSetJointTargetVelocity(clientID, wheel_1, speed, sim.simx_opmode_streaming)\n",
    "            sim.simxSetJointTargetVelocity(clientID, wheel_2, speed, sim.simx_opmode_streaming)\n",
    "            sim.simxSetJointTargetVelocity(clientID, wheel_3, speed, sim.simx_opmode_streaming)\n",
    "\n",
    "        if abs(angulo_actual - angulo_objetivo) < 0.005: # Diferència entre angle objectiu i actual; 0.01 es la \"precisió\"\n",
    "            break\n",
    "    \n",
    "    # Parar després de girar\n",
    "    sim.simxSetJointTargetVelocity(clientID, wheel_1, 0, sim.simx_opmode_streaming)\n",
    "    sim.simxSetJointTargetVelocity(clientID, wheel_2, 0, sim.simx_opmode_streaming)\n",
    "    sim.simxSetJointTargetVelocity(clientID, wheel_3, 0, sim.simx_opmode_streaming)\n",
    "\n",
    "def triangle(clientID, omniRob, wheel_1, wheel_2, wheel_3):\n",
    "    for _ in range(3):\n",
    "        goForward(clientID, wheel_1, wheel_2, 3)\n",
    "        turn120degrees(clientID, omniRob, wheel_1, wheel_2, wheel_3)\n",
    "\n",
    "ret, omniRob = sim.simxGetObjectHandle(clientID, 'omniRob', sim.simx_opmode_blocking)\n",
    "\n",
    "triangle(clientID, omniRob, WCR, WCL, WC)"
   ]
  },
  {
   "cell_type": "code",
   "execution_count": 20,
   "metadata": {},
   "outputs": [
    {
     "name": "stdout",
     "output_type": "stream",
     "text": [
      "3.141592653589793\n"
     ]
    }
   ],
   "source": [
    "# 6- Funció per realitzar un cercle\n",
    "\n",
    "# Per fer aquesta funció, haurem de definir velocitats concretes per cada controlador de les rodes.\n"
   ]
  },
  {
   "cell_type": "code",
   "execution_count": 11,
   "metadata": {},
   "outputs": [
    {
     "name": "stdout",
     "output_type": "stream",
     "text": [
      "conectado a 19999\n",
      "Conectado a CoppeliaSim\n"
     ]
    },
    {
     "ename": "TypeError",
     "evalue": "get_wheel_distance() missing 1 required positional argument: 'wheel2_handle'",
     "output_type": "error",
     "traceback": [
      "\u001b[1;31m---------------------------------------------------------------------------\u001b[0m",
      "\u001b[1;31mTypeError\u001b[0m                                 Traceback (most recent call last)",
      "Cell \u001b[1;32mIn[11], line 72\u001b[0m\n\u001b[0;32m     68\u001b[0m     ret, robot_handle \u001b[38;5;241m=\u001b[39m sim\u001b[38;5;241m.\u001b[39msimxGetObjectHandle(clientID, \u001b[38;5;124m'\u001b[39m\u001b[38;5;124momniRob\u001b[39m\u001b[38;5;124m'\u001b[39m, sim\u001b[38;5;241m.\u001b[39msimx_opmode_blocking)\n\u001b[0;32m     70\u001b[0m     \u001b[38;5;66;03m# Mover el robot en un círculo\u001b[39;00m\n\u001b[0;32m     71\u001b[0m \u001b[38;5;66;03m# def circle(clientID, WCR_handle, WCL_handle, WC_handle, robot_handle):\u001b[39;00m\n\u001b[1;32m---> 72\u001b[0m     \u001b[43mcircle\u001b[49m\u001b[43m(\u001b[49m\u001b[43mclientID\u001b[49m\u001b[43m,\u001b[49m\u001b[43m \u001b[49m\u001b[43mWCR_handle\u001b[49m\u001b[43m,\u001b[49m\u001b[43m \u001b[49m\u001b[43mWCL_handle\u001b[49m\u001b[43m,\u001b[49m\u001b[43m \u001b[49m\u001b[43mWC_handle\u001b[49m\u001b[43m,\u001b[49m\u001b[43m \u001b[49m\u001b[43mrobot_handle\u001b[49m\u001b[43m)\u001b[49m\n\u001b[0;32m     74\u001b[0m \u001b[38;5;28;01melse\u001b[39;00m:\n\u001b[0;32m     75\u001b[0m     \u001b[38;5;28mprint\u001b[39m(\u001b[38;5;124m'\u001b[39m\u001b[38;5;124mNo se pudo conectar a CoppeliaSim\u001b[39m\u001b[38;5;124m'\u001b[39m)\n",
      "Cell \u001b[1;32mIn[11], line 32\u001b[0m, in \u001b[0;36mcircle\u001b[1;34m(clientID, WCR_handle, WCL_handle, WC_handle, robot_handle)\u001b[0m\n\u001b[0;32m     30\u001b[0m wheel_radius \u001b[38;5;241m=\u001b[39m get_wheel_radius(clientID, WCR_handle)\n\u001b[0;32m     31\u001b[0m \u001b[38;5;66;03m# Obtener la distancia entre las ruedas\u001b[39;00m\n\u001b[1;32m---> 32\u001b[0m wheel_distance \u001b[38;5;241m=\u001b[39m \u001b[43mget_wheel_distance\u001b[49m\u001b[43m(\u001b[49m\u001b[43mclientID\u001b[49m\u001b[43m,\u001b[49m\u001b[43m \u001b[49m\u001b[43mrobot_handle\u001b[49m\u001b[43m)\u001b[49m\n\u001b[0;32m     34\u001b[0m \u001b[38;5;66;03m# Velocidad angular para el movimiento circular\u001b[39;00m\n\u001b[0;32m     35\u001b[0m omega \u001b[38;5;241m=\u001b[39m \u001b[38;5;241m0.1\u001b[39m  \u001b[38;5;66;03m# en radianes por segundo\u001b[39;00m\n",
      "\u001b[1;31mTypeError\u001b[0m: get_wheel_distance() missing 1 required positional argument: 'wheel2_handle'"
     ]
    }
   ],
   "source": []
  },
  {
   "cell_type": "code",
   "execution_count": null,
   "metadata": {},
   "outputs": [],
   "source": [
    "# 4 Incorporació de sensors de distancia\n",
    "# Heu d'utilitzar 4 sensors i colocar a cada costat 1 sensor. Intenteu realitzar un programa per moure el robot dins d'un escenari \n",
    "# amb  obstacles ( poden ser parets, objectes del coppelia )  i intentar que el robot detecti els obstacles i els pugui evitar "
   ]
  }
 ],
 "metadata": {
  "kernelspec": {
   "display_name": "Python 3",
   "language": "python",
   "name": "python3"
  },
  "language_info": {
   "codemirror_mode": {
    "name": "ipython",
    "version": 3
   },
   "file_extension": ".py",
   "mimetype": "text/x-python",
   "name": "python",
   "nbconvert_exporter": "python",
   "pygments_lexer": "ipython3",
   "version": "3.12.0"
  }
 },
 "nbformat": 4,
 "nbformat_minor": 2
}
