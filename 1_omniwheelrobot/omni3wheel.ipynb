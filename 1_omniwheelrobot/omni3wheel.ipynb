{
 "cells": [
  {
   "cell_type": "markdown",
   "metadata": {},
   "source": [
    "<h2> Exercici de Recuperació 1 </h2>\n",
    "<br>- Omnirobot de 3 rodes. \n"
   ]
  },
  {
   "cell_type": "markdown",
   "metadata": {},
   "source": [
    "### 1. Connexió al coppelia\n"
   ]
  },
  {
   "cell_type": "code",
   "execution_count": 116,
   "metadata": {},
   "outputs": [],
   "source": [
    "import sim\n",
    "import time\n",
    "import math\n",
    "import numpy as np\n",
    "def connect(port):\n",
    "# Establece la conexión a COPPELIA\n",
    "# El port debe coincidir con el puerto de conexión en VREP  -- DALE AL PLAY !!!\n",
    "# retorna el número de cliente o -1 si no puede establecer conexión\n",
    "    sim.simxFinish(-1) # just in case, close all opened connections\n",
    "    clientID=sim.simxStart('127.0.0.1',port,True,True,2000,5) # Conectarse\n",
    "    if clientID == 0: print(\"conectado a\", port)\n",
    "    else: print(\"no se pudo conectar\")\n",
    "    return clientID\n"
   ]
  },
  {
   "cell_type": "code",
   "execution_count": 117,
   "metadata": {},
   "outputs": [
    {
     "name": "stdout",
     "output_type": "stream",
     "text": [
      "conectado a 19999\n"
     ]
    }
   ],
   "source": [
    "# Conectarse al servidor de COPPELIA\n",
    "# *** _Hay que ejecutarlo cada vez que se reinicia la simulación ***\n",
    "clientID = connect(19999)"
   ]
  },
  {
   "cell_type": "markdown",
   "metadata": {},
   "source": [
    "<h3> 2. Controladors</h3>"
   ]
  },
  {
   "cell_type": "code",
   "execution_count": 118,
   "metadata": {},
   "outputs": [
    {
     "name": "stdout",
     "output_type": "stream",
     "text": [
      "21 26 16 15\n"
     ]
    }
   ],
   "source": [
    "# Obtenemos los controladores para cada eje de las ruedas y el ultrasonido\n",
    "ret,WCR=sim.simxGetObjectHandle(clientID,'OmniWCR',sim.simx_opmode_blocking)\n",
    "ret,WCL=sim.simxGetObjectHandle(clientID,'OmniWCL',sim.simx_opmode_blocking)\n",
    "ret,WC=sim.simxGetObjectHandle(clientID,'OmniWC',sim.simx_opmode_blocking)\n",
    "\n",
    "# Obtenim també \"omniRob\" que serà molt util per veure la posició del robot \n",
    "ret, omniRob = sim.simxGetObjectHandle(clientID, 'omniRob', sim.simx_opmode_blocking)\n",
    "\n",
    "\n",
    "print(WCR, WCL, WC, omniRob)"
   ]
  },
  {
   "cell_type": "markdown",
   "metadata": {},
   "source": [
    "<h3> 3. Moviments del robot</h3>\n",
    "<br>Heu de realitzar les següents funcions per realitzar moviments lineals i figures :\n",
    "<br> 1- Funció per avançar en un determinat temps\n",
    "<br> 2- Funció per girar 90graus a la dreta (mireu la propietat d'un objecte)\n",
    "<br> 3- Funció per girar 90 graus a l'esquerra (mireu la propietat d'un objecte)\n",
    "<br> 4- Funció per realitzar un quadrat\n",
    "<br> 5- Funció per realitzar un triangle\n",
    "<br> 6- Funció per realitzar un cercle\n",
    "\n",
    "\n"
   ]
  },
  {
   "cell_type": "code",
   "execution_count": 119,
   "metadata": {},
   "outputs": [],
   "source": [
    "\n",
    "# #exemple de possibles moviments\n",
    "# velocidad = 1\n",
    "# time.sleep(2)\n",
    "# #Avanzar hacia delante durante 3 segundos:\n",
    "# sim.simxSetJointTargetVelocity(clientID, WCR,velocidad,sim.simx_opmode_streaming)\n",
    "# sim.simxSetJointTargetVelocity(clientID, WCL,-velocidad,sim.simx_opmode_streaming)\n",
    "# time.sleep(3)\n",
    "# #Retroceder hacia atras durante 3 segundos:\n",
    "# sim.simxSetJointTargetVelocity(clientID, WCR,-velocidad,sim.simx_opmode_streaming)\n",
    "# sim.simxSetJointTargetVelocity(clientID, WCL,-velocidad,sim.simx_opmode_streaming)\n",
    "# time.sleep(3)\n",
    "# #Girar hacia la derecha durante 3 segundos:\n",
    "# sim.simxSetJointTargetVelocity(clientID, WCR,-velocidad,sim.simx_opmode_streaming)\n",
    "# sim.simxSetJointTargetVelocity(clientID, WCL,velocidad,sim.simx_opmode_streaming)\n",
    "# time.sleep(3)\n",
    "# #Parar:\n",
    "# sim.simxSetJointTargetVelocity(clientID, WCR,0,sim.simx_opmode_streaming)\n",
    "# sim.simxSetJointTargetVelocity(clientID, WCL,0,sim.simx_opmode_streaming)\n",
    "# time.sleep(3)"
   ]
  },
  {
   "cell_type": "markdown",
   "metadata": {},
   "source": [
    "<h3> 4 Incorporació de sensors de distancia </h3>\n",
    "\n",
    "Heu d'utilitzar 4 sensors i colocar a cada costat 1 sensor. Intenteu realitzar un programa per moure el robot dins d'un escenari amb  obstacles ( poden ser parets, objectes del coppelia )  i intentar que el robot detecti els obstacles i els pugui evitar \n"
   ]
  },
  {
   "cell_type": "markdown",
   "metadata": {},
   "source": [
    "<h3> Podeu veure els videos de l'exercici 10 on s'explica com afegir aquests sensors </h3>\n",
    "\n",
    "\n",
    "\n",
    "\n",
    "\n",
    "\n"
   ]
  },
  {
   "cell_type": "code",
   "execution_count": 120,
   "metadata": {},
   "outputs": [],
   "source": [
    "# 1- Funció per avançar en un determinat temps\n",
    "\n",
    "def goForward(clientID, wheel_L, wheel_R, duration):\n",
    "    speed = 1 # No la passo per parametre perquè l'enunciat només especifica \"en un determinat temps\"\n",
    "\n",
    "    # Moviment als controladors especificats\n",
    "    sim.simxSetJointTargetVelocity(clientID, wheel_L, speed, sim.simx_opmode_streaming)\n",
    "    sim.simxSetJointTargetVelocity(clientID, wheel_R, -speed, sim.simx_opmode_streaming)\n",
    "\n",
    "    # Esperar durant el temps definit a \"duration\"\n",
    "    time.sleep(duration)\n",
    "\n",
    "    # Parar després d'esperar\n",
    "    sim.simxSetJointTargetVelocity(clientID, wheel_L, 0, sim.simx_opmode_streaming)\n",
    "    sim.simxSetJointTargetVelocity(clientID, wheel_R, 0, sim.simx_opmode_streaming)\n"
   ]
  },
  {
   "cell_type": "code",
   "execution_count": 121,
   "metadata": {},
   "outputs": [],
   "source": [
    "# Exemple d'us amb els controladors WCR, WCL:\n",
    "duration = 3  # Duració (segons)\n",
    "# goForward(clientID, WCR, WCL, duration)"
   ]
  },
  {
   "cell_type": "code",
   "execution_count": 122,
   "metadata": {},
   "outputs": [],
   "source": [
    "# 2- Funció per girar 90graus a la dreta (mireu la propietat d'un objecte)\n",
    "\n",
    "def turnRight(clientID, omniRob, wheel_1, wheel_2, wheel_3):\n",
    "    speed = 0.5  # Velocitat de gir lenta per a que s'identifiqui correctament el gir\n",
    "\n",
    "    # Obtenir l'orientació inicial del robot\n",
    "    ret, orientacio_inicial = sim.simxGetObjectOrientation(clientID, omniRob, -1, sim.simx_opmode_blocking)\n",
    "    \n",
    "    # print(\"orientacio_inicial: \", orientacio_inicial)\n",
    "\n",
    "    if ret != sim.simx_return_ok:\n",
    "        print(\"Error al obtenir l'orientació inicial\")\n",
    "        return\n",
    "    \n",
    "    # Calcular l'orientació objectiu (90 graus a la dreta)\n",
    "    angulo_objetivo = orientacio_inicial[2] - (90 * (math.pi / 180))  # Graus a radiants\n",
    "\n",
    "    # print(\"angulo_objetivo: \", angulo_objetivo)\n",
    "    \n",
    "    # Ajustar l'angle objectiu perquè estigui entre -pi i pi]\n",
    "    if angulo_objetivo < -math.pi:\n",
    "        angulo_objetivo += 2 * math.pi\n",
    "    \n",
    "    # Establir velocitats de les rodes per girar a la dreta\n",
    "    sim.simxSetJointTargetVelocity(clientID, wheel_1, speed, sim.simx_opmode_streaming)\n",
    "    sim.simxSetJointTargetVelocity(clientID, wheel_2, speed, sim.simx_opmode_streaming)\n",
    "    sim.simxSetJointTargetVelocity(clientID, wheel_3, speed, sim.simx_opmode_streaming)\n",
    "    \n",
    "    # Bucle fins que el robot gira 90 graus a la dreta\n",
    "    while True:\n",
    "        ret, orientacion_actual = sim.simxGetObjectOrientation(clientID, omniRob, -1, sim.simx_opmode_blocking)\n",
    "        \n",
    "        if ret != sim.simx_return_ok:\n",
    "            print(\"Error al obtenir l'orientació actual\")\n",
    "            break\n",
    "        \n",
    "        angulo_actual = orientacion_actual[2]\n",
    "        \n",
    "        # print(\"[While] angulo_actual: \", angulo_actual)\n",
    "        # print(\"[While] dif: \", abs(angulo_actual - angulo_objetivo))\n",
    "\n",
    "        if abs(angulo_actual - angulo_objetivo) < 0.1: # Quan estem arribant, disminuim velocitat per prioritzar precisió\n",
    "            speed = 0.01\n",
    "            # Establir nova velocitats de les rodes per girar a la dreta\n",
    "            sim.simxSetJointTargetVelocity(clientID, wheel_1, speed, sim.simx_opmode_streaming)\n",
    "            sim.simxSetJointTargetVelocity(clientID, wheel_2, speed, sim.simx_opmode_streaming)\n",
    "            sim.simxSetJointTargetVelocity(clientID, wheel_3, speed, sim.simx_opmode_streaming)\n",
    "\n",
    "\n",
    "        if abs(angulo_actual - angulo_objetivo) < 0.005: # Diferència entre angle objectiu i actual; 0.01 es la \"precisió\"\n",
    "            break\n",
    "    \n",
    "    # Parar després de girar\n",
    "    sim.simxSetJointTargetVelocity(clientID, wheel_1, 0, sim.simx_opmode_streaming)\n",
    "    sim.simxSetJointTargetVelocity(clientID, wheel_2, 0, sim.simx_opmode_streaming)\n",
    "    sim.simxSetJointTargetVelocity(clientID, wheel_3, 0, sim.simx_opmode_streaming)\n"
   ]
  },
  {
   "cell_type": "code",
   "execution_count": 123,
   "metadata": {},
   "outputs": [],
   "source": [
    "# Exemple d'ús de la funció\n",
    "# turnRight(clientID, omniRob, WCR, WCL, WC)"
   ]
  },
  {
   "cell_type": "code",
   "execution_count": 124,
   "metadata": {},
   "outputs": [],
   "source": [
    "# 3- Funció per girar 90 graus a l'esquerra (mireu la propietat d'un objecte)\n",
    "\n",
    "def turnLeft(clientID, omniRob, wheel_1, wheel_2, wheel_3):\n",
    "    speed = 0.4  # Velocitat de gir lenta per a que s'identifiqui correctament el gir\n",
    "\n",
    "    # Obtenir l'orientació inicial del robot\n",
    "    ret, orientacio_inicial = sim.simxGetObjectOrientation(clientID, omniRob, -1, sim.simx_opmode_blocking)\n",
    "    \n",
    "    # print(\"orientacio_inicial: \", orientacio_inicial)\n",
    "\n",
    "    if ret != sim.simx_return_ok:\n",
    "        print(\"Error al obtenir l'orientació inicial\")\n",
    "        return\n",
    "    \n",
    "    # Calcular l'orientació objectiu (90 graus a la ESQUERRA = 360-90 = 270 graus)\n",
    "    angulo_objetivo = orientacio_inicial[2] - (270 * (math.pi / 180))  # Graus a radiants\n",
    "\n",
    "    # print(\"angulo_objetivo: \", angulo_objetivo)\n",
    "    \n",
    "    # Ajustar l'angle objectiu perquè estigui entre -pi i pi]\n",
    "    if angulo_objetivo < -math.pi:\n",
    "        angulo_objetivo += 2 * math.pi\n",
    "    \n",
    "    # Establir velocitats de les rodes per girar a la ESQUERRA\n",
    "    sim.simxSetJointTargetVelocity(clientID, wheel_1, -speed, sim.simx_opmode_streaming)\n",
    "    sim.simxSetJointTargetVelocity(clientID, wheel_2, -speed, sim.simx_opmode_streaming)\n",
    "    sim.simxSetJointTargetVelocity(clientID, wheel_3, -speed, sim.simx_opmode_streaming)\n",
    "    \n",
    "    # Bucle fins que el robot gira 90 graus a la ESQUERRA\n",
    "    while True:\n",
    "        ret, orientacion_actual = sim.simxGetObjectOrientation(clientID, omniRob, -1, sim.simx_opmode_blocking)\n",
    "        \n",
    "        if ret != sim.simx_return_ok:\n",
    "            print(\"Error al obtenir l'orientació actual\")\n",
    "            break\n",
    "        \n",
    "        angulo_actual = orientacion_actual[2]\n",
    "        \n",
    "        # print(\"[While] angulo_actual: \", angulo_actual)\n",
    "        # print(\"[While] dif: \", abs(angulo_actual - angulo_objetivo))\n",
    "\n",
    "        if abs(angulo_actual - angulo_objetivo) < 0.1: # Quan estem arribant, disminuim velocitat per prioritzar precisió\n",
    "            speed = 0.01\n",
    "            # Establir nova velocitats de les rodes per girar a la dreta\n",
    "            sim.simxSetJointTargetVelocity(clientID, wheel_1, -speed, sim.simx_opmode_streaming)\n",
    "            sim.simxSetJointTargetVelocity(clientID, wheel_2, -speed, sim.simx_opmode_streaming)\n",
    "            sim.simxSetJointTargetVelocity(clientID, wheel_3, -speed, sim.simx_opmode_streaming)\n",
    "\n",
    "        if abs(angulo_actual - angulo_objetivo) < 0.005: # Diferència entre angle objectiu i actual; 0.01 es la \"precisió\"\n",
    "            break\n",
    "    \n",
    "    # Parar després de girar\n",
    "    sim.simxSetJointTargetVelocity(clientID, wheel_1, 0, sim.simx_opmode_streaming)\n",
    "    sim.simxSetJointTargetVelocity(clientID, wheel_2, 0, sim.simx_opmode_streaming)\n",
    "    sim.simxSetJointTargetVelocity(clientID, wheel_3, 0, sim.simx_opmode_streaming)\n"
   ]
  },
  {
   "cell_type": "code",
   "execution_count": 125,
   "metadata": {},
   "outputs": [],
   "source": [
    "# Exemple d'ús de la funció\n",
    "# turnLeft(clientID, omniRob, WCR, WCL, WC)"
   ]
  },
  {
   "cell_type": "code",
   "execution_count": 126,
   "metadata": {},
   "outputs": [],
   "source": [
    "# 4- Funció per realitzar un quadrat\n",
    "\n",
    "# Aprofitant les funcions anterior, podem fer un quadrat fàcilment\n",
    "\n",
    "def square(clientID, omniRob, wheel_1, wheel_2, wheel_3):\n",
    "    for _ in range(4):\n",
    "        goForward(clientID, wheel_1, wheel_2, 3)\n",
    "        turnRight(clientID, omniRob, wheel_1, wheel_2, wheel_3)\n"
   ]
  },
  {
   "cell_type": "code",
   "execution_count": 127,
   "metadata": {},
   "outputs": [],
   "source": [
    "# Exemple d'ús de la funció\n",
    "# square(clientID, omniRob, WCR, WCL, WC)"
   ]
  },
  {
   "cell_type": "code",
   "execution_count": 128,
   "metadata": {},
   "outputs": [],
   "source": [
    "# 5- Funció per realitzar un triangle\n",
    "\n",
    "# Nomes podrem aprofitar la funció \"goForward\", ja que les altres giren 90 graus, i ara necesitarem que giri 120 en cada gir (360/3 = 120)\n",
    "# Per simplificar, fare una funció \"turn120degrees\".\n",
    "\n",
    "def turn120degrees(clientID, omniRob, wheel_1, wheel_2, wheel_3):\n",
    "    speed = 0.4  # Velocitat de gir lenta per a que s'identifiqui correctament el gir\n",
    "\n",
    "    # Obtenir l'orientació inicial del robot\n",
    "    ret, orientacio_inicial = sim.simxGetObjectOrientation(clientID, omniRob, -1, sim.simx_opmode_blocking)\n",
    "    \n",
    "    # print(\"orientacio_inicial: \", orientacio_inicial)\n",
    "\n",
    "    if ret != sim.simx_return_ok:\n",
    "        print(\"Error al obtenir l'orientació inicial\")\n",
    "        return\n",
    "    \n",
    "    # Calcular l'orientació objectiu (120 graus a la DRETA = 360/3 = 120 graus)\n",
    "    angulo_objetivo = orientacio_inicial[2] - (120 * (3.14159265 / 180))  # Graus a radiants\n",
    "\n",
    "    # print(\"angulo_objetivo: \", angulo_objetivo)\n",
    "    \n",
    "    # Ajustar l'angle objectiu perquè estigui entre -pi i pi]\n",
    "    if angulo_objetivo < -3.14159265:\n",
    "        angulo_objetivo += 2 * 3.14159265\n",
    "    \n",
    "    # Establir velocitats de les rodes per girar a la DRETA\n",
    "    sim.simxSetJointTargetVelocity(clientID, wheel_1, speed, sim.simx_opmode_streaming)\n",
    "    sim.simxSetJointTargetVelocity(clientID, wheel_2, speed, sim.simx_opmode_streaming)\n",
    "    sim.simxSetJointTargetVelocity(clientID, wheel_3, speed, sim.simx_opmode_streaming)\n",
    "    \n",
    "    # Bucle fins que el robot gira 120 graus a la DRETA\n",
    "    while True:\n",
    "        ret, orientacion_actual = sim.simxGetObjectOrientation(clientID, omniRob, -1, sim.simx_opmode_blocking)\n",
    "        \n",
    "        if ret != sim.simx_return_ok:\n",
    "            print(\"Error al obtenir l'orientació actual\")\n",
    "            break\n",
    "        \n",
    "        angulo_actual = orientacion_actual[2]\n",
    "        \n",
    "        # print(\"[While] angulo_actual: \", angulo_actual)\n",
    "        # print(\"[While] dif: \", abs(angulo_actual - angulo_objetivo))\n",
    "\n",
    "        if abs(angulo_actual - angulo_objetivo) < 0.15: # Quan estem arribant, disminuim velocitat per prioritzar precisió\n",
    "            speed = 0.05\n",
    "            # Establir nova velocitats de les rodes per girar a la dreta\n",
    "            sim.simxSetJointTargetVelocity(clientID, wheel_1, speed, sim.simx_opmode_streaming)\n",
    "            sim.simxSetJointTargetVelocity(clientID, wheel_2, speed, sim.simx_opmode_streaming)\n",
    "            sim.simxSetJointTargetVelocity(clientID, wheel_3, speed, sim.simx_opmode_streaming)\n",
    "\n",
    "        if abs(angulo_actual - angulo_objetivo) < 0.005: # Diferència entre angle objectiu i actual; 0.01 es la \"precisió\"\n",
    "            break\n",
    "    \n",
    "    # Parar després de girar\n",
    "    sim.simxSetJointTargetVelocity(clientID, wheel_1, 0, sim.simx_opmode_streaming)\n",
    "    sim.simxSetJointTargetVelocity(clientID, wheel_2, 0, sim.simx_opmode_streaming)\n",
    "    sim.simxSetJointTargetVelocity(clientID, wheel_3, 0, sim.simx_opmode_streaming)\n",
    "\n",
    "def triangle(clientID, omniRob, wheel_1, wheel_2, wheel_3):\n",
    "    for _ in range(3):\n",
    "        goForward(clientID, wheel_1, wheel_2, 3)\n",
    "        turn120degrees(clientID, omniRob, wheel_1, wheel_2, wheel_3)"
   ]
  },
  {
   "cell_type": "code",
   "execution_count": 129,
   "metadata": {},
   "outputs": [],
   "source": [
    "ret, omniRob = sim.simxGetObjectHandle(clientID, 'omniRob', sim.simx_opmode_blocking)\n",
    "\n",
    "# triangle(clientID, omniRob, WCR, WCL, WC)"
   ]
  },
  {
   "cell_type": "code",
   "execution_count": 130,
   "metadata": {},
   "outputs": [],
   "source": [
    "# 6- Funció per realitzar un cercle\n",
    "\n",
    "# Per fer aquesta funció, haurem de definir velocitats concretes per cada controlador de les rodes.\n",
    "\n",
    "def circle(clientID, wheel_1, wheel_2, wheel_3):\n",
    "    radius = 2\n",
    "\n",
    "    # Calcular la velocidad angular necesaria para girar el robot en un círculo con el radio dado\n",
    "    angular_speed = 0.4 * (radius / 0.1)  # Ajusta la velocidad angular según el radio\n",
    "\n",
    "    # Calcular la velocidad lineal necesaria para mantener el robot en movimiento hacia adelante\n",
    "    linear_speed = 0.4\n",
    "\n",
    "    # Calcular la diferencia de velocidades entre las ruedas para crear el movimiento curvo\n",
    "    speed_diff = angular_speed * 0.1  # Distancia entre el centro del robot y la rueda\n",
    "\n",
    "    # Establecer las velocidades de las ruedas\n",
    "    sim.simxSetJointTargetVelocity(clientID, wheel_1, linear_speed + speed_diff, sim.simx_opmode_streaming)\n",
    "    sim.simxSetJointTargetVelocity(clientID, wheel_2, linear_speed - speed_diff, sim.simx_opmode_streaming)\n",
    "    sim.simxSetJointTargetVelocity(clientID, wheel_3, linear_speed + speed_diff, sim.simx_opmode_streaming)\n",
    "\n",
    "    # Calcular el tiempo necesario para que el robot complete el círculo\n",
    "    circle_time = 2 * math.pi * radius / linear_speed\n",
    "    \n",
    "    print(circle_time/10)\n",
    "\n",
    "    time.sleep(circle_time/10)\n",
    "    \n",
    "    # Parar las ruedas\n",
    "    sim.simxSetJointTargetVelocity(clientID, wheel_1, 0, sim.simx_opmode_streaming)\n",
    "    sim.simxSetJointTargetVelocity(clientID, wheel_2, 0, sim.simx_opmode_streaming)\n",
    "    sim.simxSetJointTargetVelocity(clientID, wheel_3, 0, sim.simx_opmode_streaming)\n"
   ]
  },
  {
   "cell_type": "code",
   "execution_count": 131,
   "metadata": {},
   "outputs": [],
   "source": [
    "# circle(clientID, WCR, WCL, WC)"
   ]
  },
  {
   "cell_type": "code",
   "execution_count": 132,
   "metadata": {},
   "outputs": [
    {
     "name": "stdout",
     "output_type": "stream",
     "text": [
      "conectado a 19999\n",
      "Conectado a CoppeliaSim\n"
     ]
    }
   ],
   "source": [
    "import math\n",
    "import sim\n",
    "\n",
    "def get_wheel_radius(clientID, wheel_handle):\n",
    "    # El parámetro 18 corresponde al radio de las ruedas en CoppeliaSim\n",
    "    ret, radius = sim.simxGetObjectFloatParameter(clientID, wheel_handle, 18, sim.simx_opmode_blocking)\n",
    "    if ret == sim.simx_return_ok:\n",
    "        return radius\n",
    "    else:\n",
    "        print(\"No se pudo obtener el radio de la rueda\")\n",
    "        return None\n",
    "\n",
    "def get_wheel_distance(clientID, wheel1_handle, wheel2_handle):\n",
    "    # Obtener las posiciones de las ruedas\n",
    "    ret, wheel1_pos = sim.simxGetObjectPosition(clientID, wheel1_handle, -1, sim.simx_opmode_blocking)\n",
    "    ret, wheel2_pos = sim.simxGetObjectPosition(clientID, wheel2_handle, -1, sim.simx_opmode_blocking)\n",
    "    \n",
    "    if ret == sim.simx_return_ok:\n",
    "        # Calcular la distancia entre las ruedas\n",
    "        dx = wheel2_pos[0] - wheel1_pos[0]\n",
    "        dy = wheel2_pos[1] - wheel1_pos[1]\n",
    "        dz = wheel2_pos[2] - wheel1_pos[2]\n",
    "        return math.sqrt(dx**2 + dy**2 + dz**2)\n",
    "    else:\n",
    "        print(\"No se pudo obtener las posiciones de las ruedas\")\n",
    "        return None\n",
    "\n",
    "def circle(clientID, WCR_handle, WCL_handle, WC_handle, robot_handle):\n",
    "    # Obtener el radio de las ruedas\n",
    "    wheel_radius = get_wheel_radius(clientID, WCR_handle)\n",
    "    # Obtener la distancia entre las ruedas\n",
    "    wheel_distance = get_wheel_distance(clientID, robot_handle)\n",
    "\n",
    "    # Velocidad angular para el movimiento circular\n",
    "    omega = 0.1  # en radianes por segundo\n",
    "\n",
    "    # Velocidad lineal de las ruedas para el movimiento circular\n",
    "    v = omega * wheel_distance / 2\n",
    "\n",
    "    # Velocidad angular de las ruedas\n",
    "    wheel_angular_velocity = v / wheel_radius\n",
    "\n",
    "    # Aplicar la velocidad a las ruedas\n",
    "    sim.simxSetJointTargetVelocity(clientID, WCR_handle, wheel_angular_velocity, sim.simx_opmode_oneshot)\n",
    "    sim.simxSetJointTargetVelocity(clientID, WCL_handle, wheel_angular_velocity, sim.simx_opmode_oneshot)\n",
    "    sim.simxSetJointTargetVelocity(clientID, WC_handle, wheel_angular_velocity, sim.simx_opmode_oneshot)\n",
    "\n",
    "def connect(port):\n",
    "    # Establece la conexión a COPPELIA\n",
    "    # El port debe coincidir con el puerto de conexión en VREP  -- DALE AL PLAY !!!\n",
    "    # retorna el número de cliente o -1 si no puede establecer conexión\n",
    "    sim.simxFinish(-1) # just in case, close all opened connections\n",
    "    clientID=sim.simxStart('127.0.0.1',port,True,True,2000,5) # Conectarse\n",
    "    if clientID == 0: print(\"conectado a\", port)\n",
    "    else: print(\"no se pudo conectar\")\n",
    "    return clientID\n",
    "\n",
    "# Conectar a CoppeliaSim\n",
    "clientID = connect(19999)\n",
    "\n",
    "if clientID != -1:\n",
    "    print('Conectado a CoppeliaSim')\n",
    "\n",
    "    # Obtener los manejadores de las ruedas y del robot\n",
    "    ret, WCR_handle = sim.simxGetObjectHandle(clientID, 'OmniWCR', sim.simx_opmode_blocking)\n",
    "    ret, WCL_handle = sim.simxGetObjectHandle(clientID, 'OmniWCL', sim.simx_opmode_blocking)\n",
    "    ret, WC_handle = sim.simxGetObjectHandle(clientID, 'OmniWC', sim.simx_opmode_blocking)\n",
    "    ret, robot_handle = sim.simxGetObjectHandle(clientID, 'omniRob', sim.simx_opmode_blocking)\n",
    "\n",
    "    # Mover el robot en un círculo\n",
    "# def circle(clientID, WCR_handle, WCL_handle, WC_handle, robot_handle):\n",
    "    # circle(clientID, WCR_handle, WCL_handle, WC_handle, robot_handle)\n",
    "\n",
    "else:\n",
    "    print('No se pudo conectar a CoppeliaSim')\n"
   ]
  },
  {
   "cell_type": "code",
   "execution_count": 133,
   "metadata": {},
   "outputs": [],
   "source": [
    "# 4 Incorporació de sensors de distancia\n",
    "# Heu d'utilitzar 4 sensors i colocar a cada costat 1 sensor. Intenteu realitzar un programa per moure el robot dins d'un escenari \n",
    "# amb  obstacles ( poden ser parets, objectes del coppelia )  i intentar que el robot detecti els obstacles i els pugui evitar \n",
    "\n",
    "def moveAvoidingObstacles(clientID, wheel_1, wheel_2, wheel_3, Front_PS, Left_PS, Right_PS, Rear_PS):\n",
    "    speed = 1  \n",
    "    \n",
    "    # Lectura en mode \"blocking\" perque \"buffer\", per algun motiu no em funciona amb sensor tipus \"conic\" (si amb tipus \"ray\")\n",
    "    ret, detectionState, detectedPoint, detectedObjectHandle, detectedSurfaceNormalVector = sim.simxReadProximitySensor(clientID, Front_PS, sim.simx_opmode_blocking)\n",
    "    \n",
    "    while True:\n",
    "        while True:\n",
    "            # Llegir estat sensor frontal\n",
    "            ret, detectionState, detectedPoint, detectedObjectHandle, detectedSurfaceNormalVector = sim.simxReadProximitySensor(clientID, Front_PS, sim.simx_opmode_blocking)\n",
    "            # print(ret, detectionState, detectedPoint, detectedObjectHandle, detectedSurfaceNormalVector)\n",
    "\n",
    "            if detectionState:\n",
    "                print(\"Object detected\")\n",
    "                break\n",
    "\n",
    "            # Movimient rodes\n",
    "            sim.simxSetJointTargetVelocity(clientID, wheel_1, speed, sim.simx_opmode_streaming)\n",
    "            sim.simxSetJointTargetVelocity(clientID, wheel_2, - speed, sim.simx_opmode_streaming)\n",
    "            \n",
    "        # Parar després de detectar obstacle\n",
    "        sim.simxSetJointTargetVelocity(clientID, wheel_1, 0, sim.simx_opmode_streaming)\n",
    "        sim.simxSetJointTargetVelocity(clientID, wheel_2, 0, sim.simx_opmode_streaming)\n",
    "\n",
    "        # Girar després de trobar obstacle cap a la direcció sense obstacles\n",
    "        ret, leftDetectionState, detectedPoint, detectedObjectHandle, detectedSurfaceNormalVector = sim.simxReadProximitySensor(clientID, Left_PS, sim.simx_opmode_blocking)\n",
    "        ret, rightDetectionState, detectedPoint, detectedObjectHandle, detectedSurfaceNormalVector = sim.simxReadProximitySensor(clientID, Right_PS, sim.simx_opmode_blocking)\n",
    "        ret, rearDetectionState, detectedPoint, detectedObjectHandle, detectedSurfaceNormalVector = sim.simxReadProximitySensor(clientID, Rear_PS, sim.simx_opmode_blocking)\n",
    "    \n",
    "        if(leftDetectionState == False):\n",
    "            turnLeft(clientID, omniRob, wheel_1, wheel_2, wheel_3)\n",
    "        elif(rightDetectionState == False):\n",
    "            turnRight(clientID, omniRob, wheel_1, wheel_2, wheel_3)\n",
    "        elif(rearDetectionState == False):\n",
    "            turnRight(clientID, omniRob, wheel_1, wheel_2, wheel_3)\n",
    "            turnRight(clientID, omniRob, wheel_1, wheel_2, wheel_3)\n",
    "        else:\n",
    "            print(\"Atrapat!\")\n",
    "            break"
   ]
  },
  {
   "cell_type": "code",
   "execution_count": 136,
   "metadata": {},
   "outputs": [
    {
     "name": "stdout",
     "output_type": "stream",
     "text": [
      "conectado a 19999\n",
      "Object detected\n",
      "Object detected\n",
      "Object detected\n",
      "Object detected\n",
      "Object detected\n",
      "Object detected\n",
      "Object detected\n"
     ]
    },
    {
     "ename": "KeyboardInterrupt",
     "evalue": "",
     "output_type": "error",
     "traceback": [
      "\u001b[1;31m---------------------------------------------------------------------------\u001b[0m",
      "\u001b[1;31mKeyboardInterrupt\u001b[0m                         Traceback (most recent call last)",
      "Cell \u001b[1;32mIn[136], line 9\u001b[0m\n\u001b[0;32m      6\u001b[0m ret, Right_PS \u001b[38;5;241m=\u001b[39m sim\u001b[38;5;241m.\u001b[39msimxGetObjectHandle(clientID, \u001b[38;5;124m'\u001b[39m\u001b[38;5;124mRight_proximity_sensor\u001b[39m\u001b[38;5;124m'\u001b[39m, sim\u001b[38;5;241m.\u001b[39msimx_opmode_blocking)\n\u001b[0;32m      7\u001b[0m ret, Rear_PS \u001b[38;5;241m=\u001b[39m sim\u001b[38;5;241m.\u001b[39msimxGetObjectHandle(clientID, \u001b[38;5;124m'\u001b[39m\u001b[38;5;124mRear_proximity_sensor\u001b[39m\u001b[38;5;124m'\u001b[39m, sim\u001b[38;5;241m.\u001b[39msimx_opmode_blocking)\n\u001b[1;32m----> 9\u001b[0m \u001b[43mmoveAvoidingObstacles\u001b[49m\u001b[43m(\u001b[49m\u001b[43mclientID\u001b[49m\u001b[43m,\u001b[49m\u001b[43m \u001b[49m\u001b[43mWCR\u001b[49m\u001b[43m,\u001b[49m\u001b[43m \u001b[49m\u001b[43mWCL\u001b[49m\u001b[43m,\u001b[49m\u001b[43m \u001b[49m\u001b[43mWC\u001b[49m\u001b[43m,\u001b[49m\u001b[43m \u001b[49m\u001b[43mFront_PS\u001b[49m\u001b[43m,\u001b[49m\u001b[43m \u001b[49m\u001b[43mLeft_PS\u001b[49m\u001b[43m,\u001b[49m\u001b[43m \u001b[49m\u001b[43mRight_PS\u001b[49m\u001b[43m,\u001b[49m\u001b[43m \u001b[49m\u001b[43mRear_PS\u001b[49m\u001b[43m)\u001b[49m\n",
      "Cell \u001b[1;32mIn[133], line 35\u001b[0m, in \u001b[0;36mmoveAvoidingObstacles\u001b[1;34m(clientID, wheel_1, wheel_2, wheel_3, Front_PS, Left_PS, Right_PS, Rear_PS)\u001b[0m\n\u001b[0;32m     32\u001b[0m ret, rearDetectionState, detectedPoint, detectedObjectHandle, detectedSurfaceNormalVector \u001b[38;5;241m=\u001b[39m sim\u001b[38;5;241m.\u001b[39msimxReadProximitySensor(clientID, Rear_PS, sim\u001b[38;5;241m.\u001b[39msimx_opmode_blocking)\n\u001b[0;32m     34\u001b[0m \u001b[38;5;28;01mif\u001b[39;00m(leftDetectionState \u001b[38;5;241m==\u001b[39m \u001b[38;5;28;01mFalse\u001b[39;00m):\n\u001b[1;32m---> 35\u001b[0m     \u001b[43mturnLeft\u001b[49m\u001b[43m(\u001b[49m\u001b[43mclientID\u001b[49m\u001b[43m,\u001b[49m\u001b[43m \u001b[49m\u001b[43momniRob\u001b[49m\u001b[43m,\u001b[49m\u001b[43m \u001b[49m\u001b[43mwheel_1\u001b[49m\u001b[43m,\u001b[49m\u001b[43m \u001b[49m\u001b[43mwheel_2\u001b[49m\u001b[43m,\u001b[49m\u001b[43m \u001b[49m\u001b[43mwheel_3\u001b[49m\u001b[43m)\u001b[49m\n\u001b[0;32m     36\u001b[0m \u001b[38;5;28;01melif\u001b[39;00m(rightDetectionState \u001b[38;5;241m==\u001b[39m \u001b[38;5;28;01mFalse\u001b[39;00m):\n\u001b[0;32m     37\u001b[0m     turnRight(clientID, omniRob, wheel_1, wheel_2, wheel_3)\n",
      "Cell \u001b[1;32mIn[124], line 31\u001b[0m, in \u001b[0;36mturnLeft\u001b[1;34m(clientID, omniRob, wheel_1, wheel_2, wheel_3)\u001b[0m\n\u001b[0;32m     29\u001b[0m \u001b[38;5;66;03m# Bucle fins que el robot gira 90 graus a la ESQUERRA\u001b[39;00m\n\u001b[0;32m     30\u001b[0m \u001b[38;5;28;01mwhile\u001b[39;00m \u001b[38;5;28;01mTrue\u001b[39;00m:\n\u001b[1;32m---> 31\u001b[0m     ret, orientacion_actual \u001b[38;5;241m=\u001b[39m \u001b[43msim\u001b[49m\u001b[38;5;241;43m.\u001b[39;49m\u001b[43msimxGetObjectOrientation\u001b[49m\u001b[43m(\u001b[49m\u001b[43mclientID\u001b[49m\u001b[43m,\u001b[49m\u001b[43m \u001b[49m\u001b[43momniRob\u001b[49m\u001b[43m,\u001b[49m\u001b[43m \u001b[49m\u001b[38;5;241;43m-\u001b[39;49m\u001b[38;5;241;43m1\u001b[39;49m\u001b[43m,\u001b[49m\u001b[43m \u001b[49m\u001b[43msim\u001b[49m\u001b[38;5;241;43m.\u001b[39;49m\u001b[43msimx_opmode_blocking\u001b[49m\u001b[43m)\u001b[49m\n\u001b[0;32m     33\u001b[0m     \u001b[38;5;28;01mif\u001b[39;00m ret \u001b[38;5;241m!=\u001b[39m sim\u001b[38;5;241m.\u001b[39msimx_return_ok:\n\u001b[0;32m     34\u001b[0m         \u001b[38;5;28mprint\u001b[39m(\u001b[38;5;124m\"\u001b[39m\u001b[38;5;124mError al obtenir l\u001b[39m\u001b[38;5;124m'\u001b[39m\u001b[38;5;124morientació actual\u001b[39m\u001b[38;5;124m\"\u001b[39m)\n",
      "File \u001b[1;32mc:\\Users\\USBW1IE.SEAT\\OneDrive - Volkswagen AG\\Documents\\98_Universidad\\2o sem\\RLP\\RLP-Problemas\\1_omniwheelrobot\\sim.py:537\u001b[0m, in \u001b[0;36msimxGetObjectOrientation\u001b[1;34m(clientID, objectHandle, relativeToObjectHandle, operationMode)\u001b[0m\n\u001b[0;32m    533\u001b[0m \u001b[38;5;250m\u001b[39m\u001b[38;5;124;03m'''\u001b[39;00m\n\u001b[0;32m    534\u001b[0m \u001b[38;5;124;03mPlease have a look at the function description/documentation in the CoppeliaSim user manual\u001b[39;00m\n\u001b[0;32m    535\u001b[0m \u001b[38;5;124;03m'''\u001b[39;00m\n\u001b[0;32m    536\u001b[0m eulerAngles \u001b[38;5;241m=\u001b[39m (ct\u001b[38;5;241m.\u001b[39mc_float\u001b[38;5;241m*\u001b[39m\u001b[38;5;241m3\u001b[39m)()\n\u001b[1;32m--> 537\u001b[0m ret \u001b[38;5;241m=\u001b[39m \u001b[43mc_GetObjectOrientation\u001b[49m\u001b[43m(\u001b[49m\u001b[43mclientID\u001b[49m\u001b[43m,\u001b[49m\u001b[43m \u001b[49m\u001b[43mobjectHandle\u001b[49m\u001b[43m,\u001b[49m\u001b[43m \u001b[49m\u001b[43mrelativeToObjectHandle\u001b[49m\u001b[43m,\u001b[49m\u001b[43m \u001b[49m\u001b[43meulerAngles\u001b[49m\u001b[43m,\u001b[49m\u001b[43m \u001b[49m\u001b[43moperationMode\u001b[49m\u001b[43m)\u001b[49m\n\u001b[0;32m    538\u001b[0m arr \u001b[38;5;241m=\u001b[39m []\n\u001b[0;32m    539\u001b[0m \u001b[38;5;28;01mfor\u001b[39;00m i \u001b[38;5;129;01min\u001b[39;00m \u001b[38;5;28mrange\u001b[39m(\u001b[38;5;241m3\u001b[39m):\n",
      "\u001b[1;31mKeyboardInterrupt\u001b[0m: "
     ]
    }
   ],
   "source": [
    "clientID = connect(19999)\n",
    "\n",
    "# Obtenim els sensors\n",
    "ret, Front_PS = sim.simxGetObjectHandle(clientID, 'Front_proximity_sensor', sim.simx_opmode_blocking)\n",
    "ret, Left_PS = sim.simxGetObjectHandle(clientID, 'Left_proximity_sensor', sim.simx_opmode_blocking)\n",
    "ret, Right_PS = sim.simxGetObjectHandle(clientID, 'Right_proximity_sensor', sim.simx_opmode_blocking)\n",
    "ret, Rear_PS = sim.simxGetObjectHandle(clientID, 'Rear_proximity_sensor', sim.simx_opmode_blocking)\n",
    "\n",
    "moveAvoidingObstacles(clientID, WCR, WCL, WC, Front_PS, Left_PS, Right_PS, Rear_PS)"
   ]
  },
  {
   "cell_type": "code",
   "execution_count": null,
   "metadata": {},
   "outputs": [
    {
     "name": "stdout",
     "output_type": "stream",
     "text": [
      "conectado a 19999\n",
      "Rear_PS handle: 32\n",
      "Object detected\n"
     ]
    }
   ],
   "source": [
    "# TESTING\n",
    "\n",
    "# Funció per avançar fins trobar un obstacle\n",
    "def goForwardUntilObstacle(clientID, wheel_L, wheel_R, Front_PS):\n",
    "    speed = 1  \n",
    "    \n",
    "    # Lectura en mode \"blocking\" perque \"buffer\", per algun motiu no em funciona amb sensor tipus \"conic\" (si amb tipus \"ray\")\n",
    "    ret, detectionState, detectedPoint, detectedObjectHandle, detectedSurfaceNormalVector = sim.simxReadProximitySensor(clientID, Front_PS, sim.simx_opmode_blocking)\n",
    "    \n",
    "    while True:\n",
    "        # Llegir estat sensor frontal\n",
    "        ret, detectionState, detectedPoint, detectedObjectHandle, detectedSurfaceNormalVector = sim.simxReadProximitySensor(clientID, Front_PS, sim.simx_opmode_blocking)\n",
    "        # print(ret, detectionState, detectedPoint, detectedObjectHandle, detectedSurfaceNormalVector)\n",
    "\n",
    "        if detectionState:\n",
    "            print(\"Object detected\")\n",
    "            break\n",
    "\n",
    "        # Movimient rodes\n",
    "        sim.simxSetJointTargetVelocity(clientID, wheel_L, speed, sim.simx_opmode_streaming)\n",
    "        sim.simxSetJointTargetVelocity(clientID, wheel_R, - speed, sim.simx_opmode_streaming)\n",
    "        \n",
    "    # Parar després de detectar obstacle\n",
    "    sim.simxSetJointTargetVelocity(clientID, wheel_L, 0, sim.simx_opmode_streaming)\n",
    "    sim.simxSetJointTargetVelocity(clientID, wheel_R, 0, sim.simx_opmode_streaming)\n",
    "\n",
    "clientID = connect(19999)\n",
    "\n",
    "ret, Front_PS = sim.simxGetObjectHandle(clientID, 'Front_proximity_sensor', sim.simx_opmode_blocking)\n",
    "ret, Left_PS = sim.simxGetObjectHandle(clientID, 'Left_proximity_sensor', sim.simx_opmode_blocking)\n",
    "ret, Right_PS = sim.simxGetObjectHandle(clientID, 'Right_proximity_sensor', sim.simx_opmode_blocking)\n",
    "ret, Rear_PS = sim.simxGetObjectHandle(clientID, 'Rear_proximity_sensor', sim.simx_opmode_blocking)\n",
    "\n",
    "# goForwardUntilObstacle(clientID, WCR, WCL, Front_PS)"
   ]
  }
 ],
 "metadata": {
  "kernelspec": {
   "display_name": "Python 3",
   "language": "python",
   "name": "python3"
  },
  "language_info": {
   "codemirror_mode": {
    "name": "ipython",
    "version": 3
   },
   "file_extension": ".py",
   "mimetype": "text/x-python",
   "name": "python",
   "nbconvert_exporter": "python",
   "pygments_lexer": "ipython3",
   "version": "3.12.0"
  }
 },
 "nbformat": 4,
 "nbformat_minor": 2
}
