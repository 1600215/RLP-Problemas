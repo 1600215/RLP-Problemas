{
 "cells": [
  {
   "cell_type": "markdown",
   "id": "6bb922aa-bfb7-4088-9e1c-b6ae4d54479b",
   "metadata": {},
   "source": [
    "# Exercici Recuperació 2. Bessó digital Poppy Ergo JR - TIC TAC TOE"
   ]
  },
  {
   "cell_type": "markdown",
   "id": "3ec0a88c-eb4e-42f4-b777-43033c5166f6",
   "metadata": {},
   "source": [
    "## 0. Crear un Jupyter notebooks, configurar una connexió amb l'escena Coppelia i fer moure tots els motors del robot."
   ]
  },
  {
   "cell_type": "code",
   "execution_count": 514,
   "id": "a3169b65-ef9e-434e-a232-4dca9481e8e1",
   "metadata": {},
   "outputs": [],
   "source": [
    "import cv2\n",
    "import matplotlib.pyplot as plt\n",
    "import numpy as np\n",
    "import sim\n",
    "from sympy import *\n",
    "import time"
   ]
  },
  {
   "cell_type": "code",
   "execution_count": 515,
   "id": "2ddbb977-c0cb-4aeb-b124-deec62f51071",
   "metadata": {},
   "outputs": [
    {
     "name": "stdout",
     "output_type": "stream",
     "text": [
      "conectado a 19999\n"
     ]
    }
   ],
   "source": [
    "# Establish the connection\n",
    "def connect(port):\n",
    "    sim.simxFinish(-1) # just in case, close all opened connections\n",
    "    clientID=sim.simxStart('127.0.0.1',port,True,True,2000,5) # Connect\n",
    "    if clientID == 0: print(\"conectado a\", port)\n",
    "    else: print(\"no se pudo conectar\")\n",
    "    return clientID\n",
    "\n",
    "# Don't forget to add a lua child script to the first joint and append the \"simRemoteApi.start(19999)\" line to the sysCall_init() function.\n",
    "clientID = connect(19999)"
   ]
  },
  {
   "cell_type": "code",
   "execution_count": 516,
   "id": "12453ed1-8e81-4785-90e0-8a6402047e06",
   "metadata": {},
   "outputs": [
    {
     "name": "stdout",
     "output_type": "stream",
     "text": [
      "36 16 18 20 22 24 26 0 0 0 28\n"
     ]
    }
   ],
   "source": [
    "# Require the handlers for the motors and the camera sensor\n",
    "retCode,sensorHandle=sim.simxGetObjectHandle(clientID,'Vision_sensor',sim.simx_opmode_blocking)\n",
    "retCode,m1=sim.simxGetObjectHandle(clientID,'m1',sim.simx_opmode_blocking)\n",
    "retCode,m2=sim.simxGetObjectHandle(clientID,'m2',sim.simx_opmode_blocking)\n",
    "retCode,m3=sim.simxGetObjectHandle(clientID,'m3',sim.simx_opmode_blocking)\n",
    "retCode,m4=sim.simxGetObjectHandle(clientID,'m4',sim.simx_opmode_blocking)\n",
    "retCode,m5=sim.simxGetObjectHandle(clientID,'m5',sim.simx_opmode_blocking)\n",
    "retCode,m6=sim.simxGetObjectHandle(clientID,'m6',sim.simx_opmode_blocking)\n",
    "retCode,redC1=sim.simxGetObjectHandle(clientID,'CuboRed1',sim.simx_opmode_blocking)\n",
    "retCode,redC2=sim.simxGetObjectHandle(clientID,'CuboRed2',sim.simx_opmode_blocking)\n",
    "retCode,redC3=sim.simxGetObjectHandle(clientID,'CuboRed3',sim.simx_opmode_blocking)\n",
    "retCode,claw=sim.simxGetObjectHandle(clientID,'holder_visual',sim.simx_opmode_blocking)\n",
    "\n",
    "print(sensorHandle, m1, m2, m3, m4, m5, m6, redC1, redC2,redC3, claw)"
   ]
  },
  {
   "cell_type": "code",
   "execution_count": 517,
   "id": "5440b761-c529-4298-88ed-131e9a99e074",
   "metadata": {},
   "outputs": [
    {
     "name": "stdout",
     "output_type": "stream",
     "text": [
      "Position of the robot in degrees: \n",
      "  m1: 1.1375372704143587\n",
      "  m2: -47.95068395481961\n",
      "  m3: 17.60000071743759\n",
      "  m4: -0.10665191645597477\n",
      "  m5: 43.50176169175635\n",
      "  m6: 20.399999201643883\n"
     ]
    }
   ],
   "source": [
    "def get_robot_position():\n",
    "    # Read position, in radians\n",
    "    retCode, qr0 = sim.simxGetJointPosition(clientID, m1, sim.simx_opmode_blocking)\n",
    "    retCode, qr1 = sim.simxGetJointPosition(clientID, m2, sim.simx_opmode_blocking)\n",
    "    retCode, qr2 = sim.simxGetJointPosition(clientID, m3, sim.simx_opmode_blocking)\n",
    "    retCode, qr3 = sim.simxGetJointPosition(clientID, m4, sim.simx_opmode_blocking)\n",
    "    retCode, qr4 = sim.simxGetJointPosition(clientID, m5, sim.simx_opmode_blocking)\n",
    "    retCode, qr5 = sim.simxGetJointPosition(clientID, m6, sim.simx_opmode_blocking)\n",
    "    # Show position, in degrees\n",
    "    q0 = qr0 * 180/np.pi\n",
    "    q1 = qr1 * 180/np.pi\n",
    "    q2 = qr2 * 180/np.pi\n",
    "    q3 = qr3 * 180/np.pi\n",
    "    q4 = qr4 * 180/np.pi\n",
    "    q5 = qr5 * 180/np.pi\n",
    "    print(\"Position of the robot in degrees: \")\n",
    "    print(f\"  m1: {q0}\\n  m2: {q1}\\n  m3: {q2}\\n  m4: {q3}\\n  m5: {q4}\\n  m6: {q5}\")\n",
    "\n",
    "get_robot_position()"
   ]
  },
  {
   "cell_type": "code",
   "execution_count": 518,
   "id": "bb56dc19-3f4a-46df-a42e-79c81155b37a",
   "metadata": {},
   "outputs": [],
   "source": [
    "def reset_motors():\n",
    "    # Send the positions to the motors\n",
    "    q = [0, 0, 0, 180 * np.pi/180, 110 * np.pi/180, 20 * np.pi/180]\n",
    "    retCode = sim.simxSetJointTargetPosition(clientID, m1, q[0], sim.simx_opmode_oneshot)\n",
    "    retCode = sim.simxSetJointTargetPosition(clientID, m2, q[1], sim.simx_opmode_oneshot)\n",
    "    retCode = sim.simxSetJointTargetPosition(clientID, m3, q[2], sim.simx_opmode_oneshot)\n",
    "    retCode = sim.simxSetJointTargetPosition(clientID, m4, q[3], sim.simx_opmode_oneshot)\n",
    "    retCode = sim.simxSetJointTargetPosition(clientID, m5, q[4], sim.simx_opmode_oneshot)\n",
    "    retCode = sim.simxSetJointTargetPosition(clientID, m6, q[5], sim.simx_opmode_oneshot)\n",
    "    time.sleep(1)\n",
    "reset_motors()\n",
    "\n",
    "def open_claw(cuboid):\n",
    "        retCode = sim.simxSetObjectIntParameter(clientID, cuboid, sim.sim_shapeintparam_static, 0, sim.simx_opmode_blocking)\n",
    "        retCode = sim.simxSetJointTargetPosition(clientID, m6, -20 * np.pi/180, sim.simx_opmode_oneshot)\n",
    "        retCode = sim.simxSetObjectParent(clientID, cuboid, -1, False, sim.simx_opmode_blocking)\n",
    "\n",
    "def close_claw(cuboid):\n",
    "    retCode = sim.simxSetObjectIntParameter(clientID, cuboid, sim.sim_shapeintparam_static, 1, sim.simx_opmode_blocking)\n",
    "    retCode = sim.simxSetObjectParent(clientID, cuboid, claw, True, sim.simx_opmode_blocking)\n",
    "    retCode = sim.simxSetJointTargetPosition(clientID, m6, 20 * np.pi/180, sim.simx_opmode_oneshot)"
   ]
  },
  {
   "cell_type": "markdown",
   "id": "2dc07669-3fd3-4093-a083-9ee91d09bbe8",
   "metadata": {},
   "source": [
    "## 1. Dur a terme el processament d'imatges per identificar la forma i el color dels cubs. Pots moure les fitxes al coppelia al tauler quan està en martxa.\n",
    "\n",
    "## Reviseu l'exercici 9 per talde realitzar aquesta part."
   ]
  },
  {
   "cell_type": "code",
   "execution_count": 519,
   "id": "f926825c-e2e9-4fa8-a1b1-02250ff82486",
   "metadata": {},
   "outputs": [
    {
     "data": {
      "text/plain": [
       "196608"
      ]
     },
     "execution_count": 519,
     "metadata": {},
     "output_type": "execute_result"
    }
   ],
   "source": [
    "# Obtain an image from the Camera Sensor\n",
    "retCode, resolution, image=sim.simxGetVisionSensorImage(clientID,sensorHandle,0,sim.simx_opmode_oneshot_wait)\n",
    "len(image)"
   ]
  },
  {
   "cell_type": "code",
   "execution_count": 520,
   "id": "566c4f3a-3171-4bf8-a7e2-b2284a463a0e",
   "metadata": {},
   "outputs": [
    {
     "data": {
      "text/plain": [
       "[256, 256]"
      ]
     },
     "execution_count": 520,
     "metadata": {},
     "output_type": "execute_result"
    }
   ],
   "source": [
    "resolution"
   ]
  },
  {
   "cell_type": "code",
   "execution_count": 521,
   "id": "fb194255-7ebe-4cdf-8373-cc07ef545293",
   "metadata": {},
   "outputs": [
    {
     "data": {
      "text/plain": [
       "196608"
      ]
     },
     "execution_count": 521,
     "metadata": {},
     "output_type": "execute_result"
    }
   ],
   "source": [
    "# It is an image with a resolution of 256*256 and each pixel is RGB\n",
    "256*256*3"
   ]
  },
  {
   "cell_type": "code",
   "execution_count": 522,
   "id": "e55a6fbc-8b08-48ca-8f43-3647c8e4e6db",
   "metadata": {},
   "outputs": [
    {
     "name": "stderr",
     "output_type": "stream",
     "text": [
      "C:\\Users\\USBW1IE.SEAT\\AppData\\Local\\Temp\\1\\ipykernel_2656\\894198614.py:1: DeprecationWarning: NumPy will stop allowing conversion of out-of-bound Python integers to integer arrays.  The conversion of -70 to uint8 will fail in the future.\n",
      "For the old behavior, usually:\n",
      "    np.array(value).astype(dtype)\n",
      "will give the desired result (the cast overflows).\n",
      "  img=np.array(image,dtype=np.uint8)\n",
      "C:\\Users\\USBW1IE.SEAT\\AppData\\Local\\Temp\\1\\ipykernel_2656\\894198614.py:1: DeprecationWarning: NumPy will stop allowing conversion of out-of-bound Python integers to integer arrays.  The conversion of -74 to uint8 will fail in the future.\n",
      "For the old behavior, usually:\n",
      "    np.array(value).astype(dtype)\n",
      "will give the desired result (the cast overflows).\n",
      "  img=np.array(image,dtype=np.uint8)\n",
      "C:\\Users\\USBW1IE.SEAT\\AppData\\Local\\Temp\\1\\ipykernel_2656\\894198614.py:1: DeprecationWarning: NumPy will stop allowing conversion of out-of-bound Python integers to integer arrays.  The conversion of -83 to uint8 will fail in the future.\n",
      "For the old behavior, usually:\n",
      "    np.array(value).astype(dtype)\n",
      "will give the desired result (the cast overflows).\n",
      "  img=np.array(image,dtype=np.uint8)\n",
      "C:\\Users\\USBW1IE.SEAT\\AppData\\Local\\Temp\\1\\ipykernel_2656\\894198614.py:1: DeprecationWarning: NumPy will stop allowing conversion of out-of-bound Python integers to integer arrays.  The conversion of -69 to uint8 will fail in the future.\n",
      "For the old behavior, usually:\n",
      "    np.array(value).astype(dtype)\n",
      "will give the desired result (the cast overflows).\n",
      "  img=np.array(image,dtype=np.uint8)\n",
      "C:\\Users\\USBW1IE.SEAT\\AppData\\Local\\Temp\\1\\ipykernel_2656\\894198614.py:1: DeprecationWarning: NumPy will stop allowing conversion of out-of-bound Python integers to integer arrays.  The conversion of -84 to uint8 will fail in the future.\n",
      "For the old behavior, usually:\n",
      "    np.array(value).astype(dtype)\n",
      "will give the desired result (the cast overflows).\n",
      "  img=np.array(image,dtype=np.uint8)\n",
      "C:\\Users\\USBW1IE.SEAT\\AppData\\Local\\Temp\\1\\ipykernel_2656\\894198614.py:1: DeprecationWarning: NumPy will stop allowing conversion of out-of-bound Python integers to integer arrays.  The conversion of -73 to uint8 will fail in the future.\n",
      "For the old behavior, usually:\n",
      "    np.array(value).astype(dtype)\n",
      "will give the desired result (the cast overflows).\n",
      "  img=np.array(image,dtype=np.uint8)\n",
      "C:\\Users\\USBW1IE.SEAT\\AppData\\Local\\Temp\\1\\ipykernel_2656\\894198614.py:1: DeprecationWarning: NumPy will stop allowing conversion of out-of-bound Python integers to integer arrays.  The conversion of -68 to uint8 will fail in the future.\n",
      "For the old behavior, usually:\n",
      "    np.array(value).astype(dtype)\n",
      "will give the desired result (the cast overflows).\n",
      "  img=np.array(image,dtype=np.uint8)\n",
      "C:\\Users\\USBW1IE.SEAT\\AppData\\Local\\Temp\\1\\ipykernel_2656\\894198614.py:1: DeprecationWarning: NumPy will stop allowing conversion of out-of-bound Python integers to integer arrays.  The conversion of -72 to uint8 will fail in the future.\n",
      "For the old behavior, usually:\n",
      "    np.array(value).astype(dtype)\n",
      "will give the desired result (the cast overflows).\n",
      "  img=np.array(image,dtype=np.uint8)\n",
      "C:\\Users\\USBW1IE.SEAT\\AppData\\Local\\Temp\\1\\ipykernel_2656\\894198614.py:1: DeprecationWarning: NumPy will stop allowing conversion of out-of-bound Python integers to integer arrays.  The conversion of -71 to uint8 will fail in the future.\n",
      "For the old behavior, usually:\n",
      "    np.array(value).astype(dtype)\n",
      "will give the desired result (the cast overflows).\n",
      "  img=np.array(image,dtype=np.uint8)\n",
      "C:\\Users\\USBW1IE.SEAT\\AppData\\Local\\Temp\\1\\ipykernel_2656\\894198614.py:1: DeprecationWarning: NumPy will stop allowing conversion of out-of-bound Python integers to integer arrays.  The conversion of -82 to uint8 will fail in the future.\n",
      "For the old behavior, usually:\n",
      "    np.array(value).astype(dtype)\n",
      "will give the desired result (the cast overflows).\n",
      "  img=np.array(image,dtype=np.uint8)\n",
      "C:\\Users\\USBW1IE.SEAT\\AppData\\Local\\Temp\\1\\ipykernel_2656\\894198614.py:1: DeprecationWarning: NumPy will stop allowing conversion of out-of-bound Python integers to integer arrays.  The conversion of -67 to uint8 will fail in the future.\n",
      "For the old behavior, usually:\n",
      "    np.array(value).astype(dtype)\n",
      "will give the desired result (the cast overflows).\n",
      "  img=np.array(image,dtype=np.uint8)\n",
      "C:\\Users\\USBW1IE.SEAT\\AppData\\Local\\Temp\\1\\ipykernel_2656\\894198614.py:1: DeprecationWarning: NumPy will stop allowing conversion of out-of-bound Python integers to integer arrays.  The conversion of -80 to uint8 will fail in the future.\n",
      "For the old behavior, usually:\n",
      "    np.array(value).astype(dtype)\n",
      "will give the desired result (the cast overflows).\n",
      "  img=np.array(image,dtype=np.uint8)\n",
      "C:\\Users\\USBW1IE.SEAT\\AppData\\Local\\Temp\\1\\ipykernel_2656\\894198614.py:1: DeprecationWarning: NumPy will stop allowing conversion of out-of-bound Python integers to integer arrays.  The conversion of -66 to uint8 will fail in the future.\n",
      "For the old behavior, usually:\n",
      "    np.array(value).astype(dtype)\n",
      "will give the desired result (the cast overflows).\n",
      "  img=np.array(image,dtype=np.uint8)\n",
      "C:\\Users\\USBW1IE.SEAT\\AppData\\Local\\Temp\\1\\ipykernel_2656\\894198614.py:1: DeprecationWarning: NumPy will stop allowing conversion of out-of-bound Python integers to integer arrays.  The conversion of -79 to uint8 will fail in the future.\n",
      "For the old behavior, usually:\n",
      "    np.array(value).astype(dtype)\n",
      "will give the desired result (the cast overflows).\n",
      "  img=np.array(image,dtype=np.uint8)\n",
      "C:\\Users\\USBW1IE.SEAT\\AppData\\Local\\Temp\\1\\ipykernel_2656\\894198614.py:1: DeprecationWarning: NumPy will stop allowing conversion of out-of-bound Python integers to integer arrays.  The conversion of -65 to uint8 will fail in the future.\n",
      "For the old behavior, usually:\n",
      "    np.array(value).astype(dtype)\n",
      "will give the desired result (the cast overflows).\n",
      "  img=np.array(image,dtype=np.uint8)\n",
      "C:\\Users\\USBW1IE.SEAT\\AppData\\Local\\Temp\\1\\ipykernel_2656\\894198614.py:1: DeprecationWarning: NumPy will stop allowing conversion of out-of-bound Python integers to integer arrays.  The conversion of -78 to uint8 will fail in the future.\n",
      "For the old behavior, usually:\n",
      "    np.array(value).astype(dtype)\n",
      "will give the desired result (the cast overflows).\n",
      "  img=np.array(image,dtype=np.uint8)\n",
      "C:\\Users\\USBW1IE.SEAT\\AppData\\Local\\Temp\\1\\ipykernel_2656\\894198614.py:1: DeprecationWarning: NumPy will stop allowing conversion of out-of-bound Python integers to integer arrays.  The conversion of -77 to uint8 will fail in the future.\n",
      "For the old behavior, usually:\n",
      "    np.array(value).astype(dtype)\n",
      "will give the desired result (the cast overflows).\n",
      "  img=np.array(image,dtype=np.uint8)\n",
      "C:\\Users\\USBW1IE.SEAT\\AppData\\Local\\Temp\\1\\ipykernel_2656\\894198614.py:1: DeprecationWarning: NumPy will stop allowing conversion of out-of-bound Python integers to integer arrays.  The conversion of -81 to uint8 will fail in the future.\n",
      "For the old behavior, usually:\n",
      "    np.array(value).astype(dtype)\n",
      "will give the desired result (the cast overflows).\n",
      "  img=np.array(image,dtype=np.uint8)\n",
      "C:\\Users\\USBW1IE.SEAT\\AppData\\Local\\Temp\\1\\ipykernel_2656\\894198614.py:1: DeprecationWarning: NumPy will stop allowing conversion of out-of-bound Python integers to integer arrays.  The conversion of -75 to uint8 will fail in the future.\n",
      "For the old behavior, usually:\n",
      "    np.array(value).astype(dtype)\n",
      "will give the desired result (the cast overflows).\n",
      "  img=np.array(image,dtype=np.uint8)\n",
      "C:\\Users\\USBW1IE.SEAT\\AppData\\Local\\Temp\\1\\ipykernel_2656\\894198614.py:1: DeprecationWarning: NumPy will stop allowing conversion of out-of-bound Python integers to integer arrays.  The conversion of -76 to uint8 will fail in the future.\n",
      "For the old behavior, usually:\n",
      "    np.array(value).astype(dtype)\n",
      "will give the desired result (the cast overflows).\n",
      "  img=np.array(image,dtype=np.uint8)\n",
      "C:\\Users\\USBW1IE.SEAT\\AppData\\Local\\Temp\\1\\ipykernel_2656\\894198614.py:1: DeprecationWarning: NumPy will stop allowing conversion of out-of-bound Python integers to integer arrays.  The conversion of -85 to uint8 will fail in the future.\n",
      "For the old behavior, usually:\n",
      "    np.array(value).astype(dtype)\n",
      "will give the desired result (the cast overflows).\n",
      "  img=np.array(image,dtype=np.uint8)\n",
      "C:\\Users\\USBW1IE.SEAT\\AppData\\Local\\Temp\\1\\ipykernel_2656\\894198614.py:1: DeprecationWarning: NumPy will stop allowing conversion of out-of-bound Python integers to integer arrays.  The conversion of -87 to uint8 will fail in the future.\n",
      "For the old behavior, usually:\n",
      "    np.array(value).astype(dtype)\n",
      "will give the desired result (the cast overflows).\n",
      "  img=np.array(image,dtype=np.uint8)\n",
      "C:\\Users\\USBW1IE.SEAT\\AppData\\Local\\Temp\\1\\ipykernel_2656\\894198614.py:1: DeprecationWarning: NumPy will stop allowing conversion of out-of-bound Python integers to integer arrays.  The conversion of -89 to uint8 will fail in the future.\n",
      "For the old behavior, usually:\n",
      "    np.array(value).astype(dtype)\n",
      "will give the desired result (the cast overflows).\n",
      "  img=np.array(image,dtype=np.uint8)\n",
      "C:\\Users\\USBW1IE.SEAT\\AppData\\Local\\Temp\\1\\ipykernel_2656\\894198614.py:1: DeprecationWarning: NumPy will stop allowing conversion of out-of-bound Python integers to integer arrays.  The conversion of -88 to uint8 will fail in the future.\n",
      "For the old behavior, usually:\n",
      "    np.array(value).astype(dtype)\n",
      "will give the desired result (the cast overflows).\n",
      "  img=np.array(image,dtype=np.uint8)\n",
      "C:\\Users\\USBW1IE.SEAT\\AppData\\Local\\Temp\\1\\ipykernel_2656\\894198614.py:1: DeprecationWarning: NumPy will stop allowing conversion of out-of-bound Python integers to integer arrays.  The conversion of -15 to uint8 will fail in the future.\n",
      "For the old behavior, usually:\n",
      "    np.array(value).astype(dtype)\n",
      "will give the desired result (the cast overflows).\n",
      "  img=np.array(image,dtype=np.uint8)\n",
      "C:\\Users\\USBW1IE.SEAT\\AppData\\Local\\Temp\\1\\ipykernel_2656\\894198614.py:1: DeprecationWarning: NumPy will stop allowing conversion of out-of-bound Python integers to integer arrays.  The conversion of -86 to uint8 will fail in the future.\n",
      "For the old behavior, usually:\n",
      "    np.array(value).astype(dtype)\n",
      "will give the desired result (the cast overflows).\n",
      "  img=np.array(image,dtype=np.uint8)\n",
      "C:\\Users\\USBW1IE.SEAT\\AppData\\Local\\Temp\\1\\ipykernel_2656\\894198614.py:1: DeprecationWarning: NumPy will stop allowing conversion of out-of-bound Python integers to integer arrays.  The conversion of -91 to uint8 will fail in the future.\n",
      "For the old behavior, usually:\n",
      "    np.array(value).astype(dtype)\n",
      "will give the desired result (the cast overflows).\n",
      "  img=np.array(image,dtype=np.uint8)\n",
      "C:\\Users\\USBW1IE.SEAT\\AppData\\Local\\Temp\\1\\ipykernel_2656\\894198614.py:1: DeprecationWarning: NumPy will stop allowing conversion of out-of-bound Python integers to integer arrays.  The conversion of -92 to uint8 will fail in the future.\n",
      "For the old behavior, usually:\n",
      "    np.array(value).astype(dtype)\n",
      "will give the desired result (the cast overflows).\n",
      "  img=np.array(image,dtype=np.uint8)\n",
      "C:\\Users\\USBW1IE.SEAT\\AppData\\Local\\Temp\\1\\ipykernel_2656\\894198614.py:1: DeprecationWarning: NumPy will stop allowing conversion of out-of-bound Python integers to integer arrays.  The conversion of -90 to uint8 will fail in the future.\n",
      "For the old behavior, usually:\n",
      "    np.array(value).astype(dtype)\n",
      "will give the desired result (the cast overflows).\n",
      "  img=np.array(image,dtype=np.uint8)\n",
      "C:\\Users\\USBW1IE.SEAT\\AppData\\Local\\Temp\\1\\ipykernel_2656\\894198614.py:1: DeprecationWarning: NumPy will stop allowing conversion of out-of-bound Python integers to integer arrays.  The conversion of -93 to uint8 will fail in the future.\n",
      "For the old behavior, usually:\n",
      "    np.array(value).astype(dtype)\n",
      "will give the desired result (the cast overflows).\n",
      "  img=np.array(image,dtype=np.uint8)\n",
      "C:\\Users\\USBW1IE.SEAT\\AppData\\Local\\Temp\\1\\ipykernel_2656\\894198614.py:1: DeprecationWarning: NumPy will stop allowing conversion of out-of-bound Python integers to integer arrays.  The conversion of -94 to uint8 will fail in the future.\n",
      "For the old behavior, usually:\n",
      "    np.array(value).astype(dtype)\n",
      "will give the desired result (the cast overflows).\n",
      "  img=np.array(image,dtype=np.uint8)\n",
      "C:\\Users\\USBW1IE.SEAT\\AppData\\Local\\Temp\\1\\ipykernel_2656\\894198614.py:1: DeprecationWarning: NumPy will stop allowing conversion of out-of-bound Python integers to integer arrays.  The conversion of -96 to uint8 will fail in the future.\n",
      "For the old behavior, usually:\n",
      "    np.array(value).astype(dtype)\n",
      "will give the desired result (the cast overflows).\n",
      "  img=np.array(image,dtype=np.uint8)\n",
      "C:\\Users\\USBW1IE.SEAT\\AppData\\Local\\Temp\\1\\ipykernel_2656\\894198614.py:1: DeprecationWarning: NumPy will stop allowing conversion of out-of-bound Python integers to integer arrays.  The conversion of -64 to uint8 will fail in the future.\n",
      "For the old behavior, usually:\n",
      "    np.array(value).astype(dtype)\n",
      "will give the desired result (the cast overflows).\n",
      "  img=np.array(image,dtype=np.uint8)\n",
      "C:\\Users\\USBW1IE.SEAT\\AppData\\Local\\Temp\\1\\ipykernel_2656\\894198614.py:1: DeprecationWarning: NumPy will stop allowing conversion of out-of-bound Python integers to integer arrays.  The conversion of -101 to uint8 will fail in the future.\n",
      "For the old behavior, usually:\n",
      "    np.array(value).astype(dtype)\n",
      "will give the desired result (the cast overflows).\n",
      "  img=np.array(image,dtype=np.uint8)\n",
      "C:\\Users\\USBW1IE.SEAT\\AppData\\Local\\Temp\\1\\ipykernel_2656\\894198614.py:1: DeprecationWarning: NumPy will stop allowing conversion of out-of-bound Python integers to integer arrays.  The conversion of -98 to uint8 will fail in the future.\n",
      "For the old behavior, usually:\n",
      "    np.array(value).astype(dtype)\n",
      "will give the desired result (the cast overflows).\n",
      "  img=np.array(image,dtype=np.uint8)\n",
      "C:\\Users\\USBW1IE.SEAT\\AppData\\Local\\Temp\\1\\ipykernel_2656\\894198614.py:1: DeprecationWarning: NumPy will stop allowing conversion of out-of-bound Python integers to integer arrays.  The conversion of -95 to uint8 will fail in the future.\n",
      "For the old behavior, usually:\n",
      "    np.array(value).astype(dtype)\n",
      "will give the desired result (the cast overflows).\n",
      "  img=np.array(image,dtype=np.uint8)\n",
      "C:\\Users\\USBW1IE.SEAT\\AppData\\Local\\Temp\\1\\ipykernel_2656\\894198614.py:1: DeprecationWarning: NumPy will stop allowing conversion of out-of-bound Python integers to integer arrays.  The conversion of -97 to uint8 will fail in the future.\n",
      "For the old behavior, usually:\n",
      "    np.array(value).astype(dtype)\n",
      "will give the desired result (the cast overflows).\n",
      "  img=np.array(image,dtype=np.uint8)\n",
      "C:\\Users\\USBW1IE.SEAT\\AppData\\Local\\Temp\\1\\ipykernel_2656\\894198614.py:1: DeprecationWarning: NumPy will stop allowing conversion of out-of-bound Python integers to integer arrays.  The conversion of -54 to uint8 will fail in the future.\n",
      "For the old behavior, usually:\n",
      "    np.array(value).astype(dtype)\n",
      "will give the desired result (the cast overflows).\n",
      "  img=np.array(image,dtype=np.uint8)\n",
      "C:\\Users\\USBW1IE.SEAT\\AppData\\Local\\Temp\\1\\ipykernel_2656\\894198614.py:1: DeprecationWarning: NumPy will stop allowing conversion of out-of-bound Python integers to integer arrays.  The conversion of -59 to uint8 will fail in the future.\n",
      "For the old behavior, usually:\n",
      "    np.array(value).astype(dtype)\n",
      "will give the desired result (the cast overflows).\n",
      "  img=np.array(image,dtype=np.uint8)\n",
      "C:\\Users\\USBW1IE.SEAT\\AppData\\Local\\Temp\\1\\ipykernel_2656\\894198614.py:1: DeprecationWarning: NumPy will stop allowing conversion of out-of-bound Python integers to integer arrays.  The conversion of -58 to uint8 will fail in the future.\n",
      "For the old behavior, usually:\n",
      "    np.array(value).astype(dtype)\n",
      "will give the desired result (the cast overflows).\n",
      "  img=np.array(image,dtype=np.uint8)\n",
      "C:\\Users\\USBW1IE.SEAT\\AppData\\Local\\Temp\\1\\ipykernel_2656\\894198614.py:1: DeprecationWarning: NumPy will stop allowing conversion of out-of-bound Python integers to integer arrays.  The conversion of -53 to uint8 will fail in the future.\n",
      "For the old behavior, usually:\n",
      "    np.array(value).astype(dtype)\n",
      "will give the desired result (the cast overflows).\n",
      "  img=np.array(image,dtype=np.uint8)\n",
      "C:\\Users\\USBW1IE.SEAT\\AppData\\Local\\Temp\\1\\ipykernel_2656\\894198614.py:1: DeprecationWarning: NumPy will stop allowing conversion of out-of-bound Python integers to integer arrays.  The conversion of -57 to uint8 will fail in the future.\n",
      "For the old behavior, usually:\n",
      "    np.array(value).astype(dtype)\n",
      "will give the desired result (the cast overflows).\n",
      "  img=np.array(image,dtype=np.uint8)\n",
      "C:\\Users\\USBW1IE.SEAT\\AppData\\Local\\Temp\\1\\ipykernel_2656\\894198614.py:1: DeprecationWarning: NumPy will stop allowing conversion of out-of-bound Python integers to integer arrays.  The conversion of -52 to uint8 will fail in the future.\n",
      "For the old behavior, usually:\n",
      "    np.array(value).astype(dtype)\n",
      "will give the desired result (the cast overflows).\n",
      "  img=np.array(image,dtype=np.uint8)\n",
      "C:\\Users\\USBW1IE.SEAT\\AppData\\Local\\Temp\\1\\ipykernel_2656\\894198614.py:1: DeprecationWarning: NumPy will stop allowing conversion of out-of-bound Python integers to integer arrays.  The conversion of -56 to uint8 will fail in the future.\n",
      "For the old behavior, usually:\n",
      "    np.array(value).astype(dtype)\n",
      "will give the desired result (the cast overflows).\n",
      "  img=np.array(image,dtype=np.uint8)\n",
      "C:\\Users\\USBW1IE.SEAT\\AppData\\Local\\Temp\\1\\ipykernel_2656\\894198614.py:1: DeprecationWarning: NumPy will stop allowing conversion of out-of-bound Python integers to integer arrays.  The conversion of -61 to uint8 will fail in the future.\n",
      "For the old behavior, usually:\n",
      "    np.array(value).astype(dtype)\n",
      "will give the desired result (the cast overflows).\n",
      "  img=np.array(image,dtype=np.uint8)\n",
      "C:\\Users\\USBW1IE.SEAT\\AppData\\Local\\Temp\\1\\ipykernel_2656\\894198614.py:1: DeprecationWarning: NumPy will stop allowing conversion of out-of-bound Python integers to integer arrays.  The conversion of -62 to uint8 will fail in the future.\n",
      "For the old behavior, usually:\n",
      "    np.array(value).astype(dtype)\n",
      "will give the desired result (the cast overflows).\n",
      "  img=np.array(image,dtype=np.uint8)\n",
      "C:\\Users\\USBW1IE.SEAT\\AppData\\Local\\Temp\\1\\ipykernel_2656\\894198614.py:1: DeprecationWarning: NumPy will stop allowing conversion of out-of-bound Python integers to integer arrays.  The conversion of -60 to uint8 will fail in the future.\n",
      "For the old behavior, usually:\n",
      "    np.array(value).astype(dtype)\n",
      "will give the desired result (the cast overflows).\n",
      "  img=np.array(image,dtype=np.uint8)\n",
      "C:\\Users\\USBW1IE.SEAT\\AppData\\Local\\Temp\\1\\ipykernel_2656\\894198614.py:1: DeprecationWarning: NumPy will stop allowing conversion of out-of-bound Python integers to integer arrays.  The conversion of -55 to uint8 will fail in the future.\n",
      "For the old behavior, usually:\n",
      "    np.array(value).astype(dtype)\n",
      "will give the desired result (the cast overflows).\n",
      "  img=np.array(image,dtype=np.uint8)\n",
      "C:\\Users\\USBW1IE.SEAT\\AppData\\Local\\Temp\\1\\ipykernel_2656\\894198614.py:1: DeprecationWarning: NumPy will stop allowing conversion of out-of-bound Python integers to integer arrays.  The conversion of -51 to uint8 will fail in the future.\n",
      "For the old behavior, usually:\n",
      "    np.array(value).astype(dtype)\n",
      "will give the desired result (the cast overflows).\n",
      "  img=np.array(image,dtype=np.uint8)\n",
      "C:\\Users\\USBW1IE.SEAT\\AppData\\Local\\Temp\\1\\ipykernel_2656\\894198614.py:1: DeprecationWarning: NumPy will stop allowing conversion of out-of-bound Python integers to integer arrays.  The conversion of -63 to uint8 will fail in the future.\n",
      "For the old behavior, usually:\n",
      "    np.array(value).astype(dtype)\n",
      "will give the desired result (the cast overflows).\n",
      "  img=np.array(image,dtype=np.uint8)\n",
      "C:\\Users\\USBW1IE.SEAT\\AppData\\Local\\Temp\\1\\ipykernel_2656\\894198614.py:1: DeprecationWarning: NumPy will stop allowing conversion of out-of-bound Python integers to integer arrays.  The conversion of -50 to uint8 will fail in the future.\n",
      "For the old behavior, usually:\n",
      "    np.array(value).astype(dtype)\n",
      "will give the desired result (the cast overflows).\n",
      "  img=np.array(image,dtype=np.uint8)\n",
      "C:\\Users\\USBW1IE.SEAT\\AppData\\Local\\Temp\\1\\ipykernel_2656\\894198614.py:1: DeprecationWarning: NumPy will stop allowing conversion of out-of-bound Python integers to integer arrays.  The conversion of -99 to uint8 will fail in the future.\n",
      "For the old behavior, usually:\n",
      "    np.array(value).astype(dtype)\n",
      "will give the desired result (the cast overflows).\n",
      "  img=np.array(image,dtype=np.uint8)\n",
      "C:\\Users\\USBW1IE.SEAT\\AppData\\Local\\Temp\\1\\ipykernel_2656\\894198614.py:1: DeprecationWarning: NumPy will stop allowing conversion of out-of-bound Python integers to integer arrays.  The conversion of -100 to uint8 will fail in the future.\n",
      "For the old behavior, usually:\n",
      "    np.array(value).astype(dtype)\n",
      "will give the desired result (the cast overflows).\n",
      "  img=np.array(image,dtype=np.uint8)\n",
      "C:\\Users\\USBW1IE.SEAT\\AppData\\Local\\Temp\\1\\ipykernel_2656\\894198614.py:1: DeprecationWarning: NumPy will stop allowing conversion of out-of-bound Python integers to integer arrays.  The conversion of -103 to uint8 will fail in the future.\n",
      "For the old behavior, usually:\n",
      "    np.array(value).astype(dtype)\n",
      "will give the desired result (the cast overflows).\n",
      "  img=np.array(image,dtype=np.uint8)\n",
      "C:\\Users\\USBW1IE.SEAT\\AppData\\Local\\Temp\\1\\ipykernel_2656\\894198614.py:1: DeprecationWarning: NumPy will stop allowing conversion of out-of-bound Python integers to integer arrays.  The conversion of -105 to uint8 will fail in the future.\n",
      "For the old behavior, usually:\n",
      "    np.array(value).astype(dtype)\n",
      "will give the desired result (the cast overflows).\n",
      "  img=np.array(image,dtype=np.uint8)\n",
      "C:\\Users\\USBW1IE.SEAT\\AppData\\Local\\Temp\\1\\ipykernel_2656\\894198614.py:1: DeprecationWarning: NumPy will stop allowing conversion of out-of-bound Python integers to integer arrays.  The conversion of -102 to uint8 will fail in the future.\n",
      "For the old behavior, usually:\n",
      "    np.array(value).astype(dtype)\n",
      "will give the desired result (the cast overflows).\n",
      "  img=np.array(image,dtype=np.uint8)\n",
      "C:\\Users\\USBW1IE.SEAT\\AppData\\Local\\Temp\\1\\ipykernel_2656\\894198614.py:1: DeprecationWarning: NumPy will stop allowing conversion of out-of-bound Python integers to integer arrays.  The conversion of -104 to uint8 will fail in the future.\n",
      "For the old behavior, usually:\n",
      "    np.array(value).astype(dtype)\n",
      "will give the desired result (the cast overflows).\n",
      "  img=np.array(image,dtype=np.uint8)\n",
      "C:\\Users\\USBW1IE.SEAT\\AppData\\Local\\Temp\\1\\ipykernel_2656\\894198614.py:1: DeprecationWarning: NumPy will stop allowing conversion of out-of-bound Python integers to integer arrays.  The conversion of -107 to uint8 will fail in the future.\n",
      "For the old behavior, usually:\n",
      "    np.array(value).astype(dtype)\n",
      "will give the desired result (the cast overflows).\n",
      "  img=np.array(image,dtype=np.uint8)\n",
      "C:\\Users\\USBW1IE.SEAT\\AppData\\Local\\Temp\\1\\ipykernel_2656\\894198614.py:1: DeprecationWarning: NumPy will stop allowing conversion of out-of-bound Python integers to integer arrays.  The conversion of -108 to uint8 will fail in the future.\n",
      "For the old behavior, usually:\n",
      "    np.array(value).astype(dtype)\n",
      "will give the desired result (the cast overflows).\n",
      "  img=np.array(image,dtype=np.uint8)\n",
      "C:\\Users\\USBW1IE.SEAT\\AppData\\Local\\Temp\\1\\ipykernel_2656\\894198614.py:1: DeprecationWarning: NumPy will stop allowing conversion of out-of-bound Python integers to integer arrays.  The conversion of -109 to uint8 will fail in the future.\n",
      "For the old behavior, usually:\n",
      "    np.array(value).astype(dtype)\n",
      "will give the desired result (the cast overflows).\n",
      "  img=np.array(image,dtype=np.uint8)\n",
      "C:\\Users\\USBW1IE.SEAT\\AppData\\Local\\Temp\\1\\ipykernel_2656\\894198614.py:1: DeprecationWarning: NumPy will stop allowing conversion of out-of-bound Python integers to integer arrays.  The conversion of -110 to uint8 will fail in the future.\n",
      "For the old behavior, usually:\n",
      "    np.array(value).astype(dtype)\n",
      "will give the desired result (the cast overflows).\n",
      "  img=np.array(image,dtype=np.uint8)\n",
      "C:\\Users\\USBW1IE.SEAT\\AppData\\Local\\Temp\\1\\ipykernel_2656\\894198614.py:1: DeprecationWarning: NumPy will stop allowing conversion of out-of-bound Python integers to integer arrays.  The conversion of -111 to uint8 will fail in the future.\n",
      "For the old behavior, usually:\n",
      "    np.array(value).astype(dtype)\n",
      "will give the desired result (the cast overflows).\n",
      "  img=np.array(image,dtype=np.uint8)\n",
      "C:\\Users\\USBW1IE.SEAT\\AppData\\Local\\Temp\\1\\ipykernel_2656\\894198614.py:1: DeprecationWarning: NumPy will stop allowing conversion of out-of-bound Python integers to integer arrays.  The conversion of -106 to uint8 will fail in the future.\n",
      "For the old behavior, usually:\n",
      "    np.array(value).astype(dtype)\n",
      "will give the desired result (the cast overflows).\n",
      "  img=np.array(image,dtype=np.uint8)\n",
      "C:\\Users\\USBW1IE.SEAT\\AppData\\Local\\Temp\\1\\ipykernel_2656\\894198614.py:1: DeprecationWarning: NumPy will stop allowing conversion of out-of-bound Python integers to integer arrays.  The conversion of -49 to uint8 will fail in the future.\n",
      "For the old behavior, usually:\n",
      "    np.array(value).astype(dtype)\n",
      "will give the desired result (the cast overflows).\n",
      "  img=np.array(image,dtype=np.uint8)\n",
      "C:\\Users\\USBW1IE.SEAT\\AppData\\Local\\Temp\\1\\ipykernel_2656\\894198614.py:1: DeprecationWarning: NumPy will stop allowing conversion of out-of-bound Python integers to integer arrays.  The conversion of -48 to uint8 will fail in the future.\n",
      "For the old behavior, usually:\n",
      "    np.array(value).astype(dtype)\n",
      "will give the desired result (the cast overflows).\n",
      "  img=np.array(image,dtype=np.uint8)\n",
      "C:\\Users\\USBW1IE.SEAT\\AppData\\Local\\Temp\\1\\ipykernel_2656\\894198614.py:1: DeprecationWarning: NumPy will stop allowing conversion of out-of-bound Python integers to integer arrays.  The conversion of -47 to uint8 will fail in the future.\n",
      "For the old behavior, usually:\n",
      "    np.array(value).astype(dtype)\n",
      "will give the desired result (the cast overflows).\n",
      "  img=np.array(image,dtype=np.uint8)\n",
      "C:\\Users\\USBW1IE.SEAT\\AppData\\Local\\Temp\\1\\ipykernel_2656\\894198614.py:1: DeprecationWarning: NumPy will stop allowing conversion of out-of-bound Python integers to integer arrays.  The conversion of -46 to uint8 will fail in the future.\n",
      "For the old behavior, usually:\n",
      "    np.array(value).astype(dtype)\n",
      "will give the desired result (the cast overflows).\n",
      "  img=np.array(image,dtype=np.uint8)\n",
      "C:\\Users\\USBW1IE.SEAT\\AppData\\Local\\Temp\\1\\ipykernel_2656\\894198614.py:1: DeprecationWarning: NumPy will stop allowing conversion of out-of-bound Python integers to integer arrays.  The conversion of -45 to uint8 will fail in the future.\n",
      "For the old behavior, usually:\n",
      "    np.array(value).astype(dtype)\n",
      "will give the desired result (the cast overflows).\n",
      "  img=np.array(image,dtype=np.uint8)\n"
     ]
    },
    {
     "data": {
      "image/png": "[encoded data removed]",
      "text/plain": [
       "<Figure size 640x480 with 1 Axes>"
      ]
     },
     "metadata": {},
     "output_type": "display_data"
    }
   ],
   "source": [
    "img=np.array(image,dtype=np.uint8)\n",
    "img.resize([resolution[1],resolution[0],3])\n",
    "plt.imshow(img)\n",
    "plt.show()"
   ]
  },
  {
   "cell_type": "code",
   "execution_count": 523,
   "id": "1520326f-91c5-4639-9936-a615d019ede8",
   "metadata": {},
   "outputs": [],
   "source": [
    "# Define color ranges in RGB\n",
    "\n",
    "# green_low = np.array([0, 100, 0], dtype=np.uint8)\n",
    "# green_high = np.array([5, 195, 5], dtype=np.uint8)\n",
    "\n",
    "green_low = np.array([0, 50, 0], dtype=np.uint8)\n",
    "green_high = np.array([100, 255, 100], dtype=np.uint8)\n",
    "\n",
    "# red_low = np.array([150, 0, 0], dtype=np.uint8)\n",
    "# red_high = np.array([195, 5, 5], dtype=np.uint8)\n",
    "\n",
    "red_low = np.array([40, 0, 0])\n",
    "red_high = np.array([255, 70, 70])"
   ]
  },
  {
   "cell_type": "code",
   "execution_count": 524,
   "id": "4524b477-af2a-4f2f-be6f-491e63f0be79",
   "metadata": {},
   "outputs": [],
   "source": [
    "# Thresholding\n",
    "green_mask = cv2.inRange(img, green_low, green_high)\n",
    "red_mask = cv2.inRange(img, red_low, red_high)"
   ]
  },
  {
   "cell_type": "code",
   "execution_count": 525,
   "id": "cb68cf4b-0983-4f51-95d9-16b80d298321",
   "metadata": {},
   "outputs": [],
   "source": [
    "# Erase image noise\n",
    "kernel = cv2.getStructuringElement(cv2.MORPH_RECT, (3,3))\n",
    "green_mask = cv2.morphologyEx(green_mask, cv2.MORPH_CLOSE, kernel)\n",
    "green_mask = cv2.morphologyEx(green_mask, cv2.MORPH_OPEN, kernel)\n",
    "red_mask = cv2.morphologyEx(red_mask, cv2.MORPH_CLOSE, kernel)\n",
    "red_mask = cv2.morphologyEx(red_mask, cv2.MORPH_OPEN, kernel)"
   ]
  },
  {
   "cell_type": "code",
   "execution_count": 526,
   "id": "20ead20c-8ea0-4b39-80e5-0eaa91ed41d2",
   "metadata": {},
   "outputs": [],
   "source": [
    "# Get contours and positions\n",
    "red_pixels = cv2.bitwise_and(img, img, mask=red_mask)\n",
    "green_pixels = cv2.bitwise_and(img, img, mask=green_mask)\n"
   ]
  },
  {
   "cell_type": "code",
   "execution_count": 527,
   "id": "11925b78-713d-48b8-88a7-3ec277c746b0",
   "metadata": {},
   "outputs": [
    {
     "data": {
      "image/png": "[encoded data removed]",
      "text/plain": [
       "<Figure size 640x480 with 1 Axes>"
      ]
     },
     "metadata": {},
     "output_type": "display_data"
    },
    {
     "data": {
      "image/png": "[encoded data removed]",
      "text/plain": [
       "<Figure size 640x480 with 1 Axes>"
      ]
     },
     "metadata": {},
     "output_type": "display_data"
    },
    {
     "data": {
      "image/png": "[encoded data removed]",
      "text/plain": [
       "<Figure size 640x480 with 1 Axes>"
      ]
     },
     "metadata": {},
     "output_type": "display_data"
    }
   ],
   "source": [
    "# Show image with contours\n",
    "plt.imshow(img)\n",
    "plt.show()\n",
    "plt.imshow(red_pixels)\n",
    "plt.show()\n",
    "plt.imshow(green_pixels)\n",
    "plt.show()"
   ]
  },
  {
   "cell_type": "markdown",
   "id": "3315dae0-997f-44da-9072-3139dd46ad2f",
   "metadata": {},
   "source": [
    "## 2. Determinar les posicions aproximades (tant en l'eix X com en l'eix Y).\n",
    "\n",
    "## Coloqueu els cubs sobre el tauler. Heu de fer mesures i aplicar una regla de conversió per saber quines son les posicions reals dels cubs"
   ]
  },
  {
   "cell_type": "code",
   "execution_count": 528,
   "id": "1ad63f1a-4941-42c4-98a8-841bc0e4dace",
   "metadata": {},
   "outputs": [
    {
     "name": "stdout",
     "output_type": "stream",
     "text": [
      "Coordenadas de los bloques rojos:\n",
      "\n",
      "Coordenadas de los bloques verdes:\n"
     ]
    }
   ],
   "source": [
    "\n",
    "def get_block_coordinates(image):\n",
    "    # Convertir a escala de grises\n",
    "    gray_image = cv2.cvtColor(image, cv2.COLOR_BGR2GRAY)\n",
    "    \n",
    "    # Umbralizar la imagen en escala de grises para obtener una imagen binaria\n",
    "    _, binary_image = cv2.threshold(gray_image, 1, 255, cv2.THRESH_BINARY)\n",
    "    \n",
    "    # Encontrar contornos en la imagen binaria\n",
    "    contours, _ = cv2.findContours(binary_image, cv2.RETR_EXTERNAL, cv2.CHAIN_APPROX_SIMPLE)\n",
    "    \n",
    "    # Lista para almacenar las coordenadas de los bloques\n",
    "    block_coordinates = []\n",
    "    \n",
    "    # Iterar sobre todos los contornos encontrados\n",
    "    for contour in contours:\n",
    "        # Obtener el rectángulo delimitador de cada contorno\n",
    "        x, y, w, h = cv2.boundingRect(contour)\n",
    "        \n",
    "        # Agregar las coordenadas del rectángulo delimitador a la lista de coordenadas de bloques\n",
    "        block_coordinates.append(((x, y), (x + w, y + h)))\n",
    "    \n",
    "    return block_coordinates\n",
    "\n",
    "red_block_coordinates = get_block_coordinates(red_pixels)\n",
    "green_block_coordinates = get_block_coordinates(green_pixels)\n",
    "\n",
    "# Imprimimos las coordenadas de los bloques\n",
    "# if red_block_coordinates:\n",
    "#     print(\"Coordenadas de los bloques rojos:\")\n",
    "#     for index, block_coord in enumerate(red_block_coordinates):\n",
    "#         print(f\"Bloque {index + 1}: (top-left, bottom-right) -> {block_coord}\")\n",
    "# else:\n",
    "#     print(\"No se encontraron bloques.\")\n",
    "\n",
    "# if green_block_coordinates:\n",
    "#     print(\"Coordenadas de los bloques verdes:\")\n",
    "#     for index, block_coord in enumerate(green_block_coordinates):\n",
    "#         print(f\"Bloque {index + 1}: (top-left, bottom-right) -> {block_coord}\")\n",
    "# else:\n",
    "#     print(\"No se encontraron bloques.\")\n",
    "\n",
    "def obtener_coordenadas_bloques(coordenadas):\n",
    "    lista_coordenadas = []\n",
    "    if coordenadas:\n",
    "        for index, block_coord in enumerate(coordenadas):\n",
    "            ((x1, y1), (x2, y2)) = block_coord\n",
    "            x1 = round(x1 / 100)\n",
    "            y1 = round(y1 / 100)\n",
    "            y1 = (2 - y1) % 3 # invertimos verticalmente\n",
    "            # x2 = round(x2 / 100) # no usamos borde inferior derecho porque no deberia ser necesario\n",
    "            # y2 = round(y2 / 100)\n",
    "            lista_coordenadas.append((x1, y1))\n",
    "    return lista_coordenadas\n",
    "\n",
    "# Obtener coordenadas de los bloques rojos\n",
    "coordenadas_rojos = obtener_coordenadas_bloques(red_block_coordinates)\n",
    "\n",
    "# Obtener coordenadas de los bloques verdes\n",
    "coordenadas_verdes = obtener_coordenadas_bloques(green_block_coordinates)\n",
    "\n",
    "\n",
    "\n",
    "# Imprimir las coordenadas\n",
    "print(\"Coordenadas de los bloques rojos:\")\n",
    "for coordenadas in coordenadas_rojos:\n",
    "    print(coordenadas)\n",
    "\n",
    "print(\"\\nCoordenadas de los bloques verdes:\")\n",
    "for coordenadas in coordenadas_verdes:\n",
    "    print(coordenadas)\n",
    "\n",
    "\n"
   ]
  },
  {
   "cell_type": "code",
   "execution_count": 529,
   "id": "9a3a9414-f137-494a-a6c9-d20f14073128",
   "metadata": {},
   "outputs": [],
   "source": [
    "\n",
    "# print(\"Green position in the scene: \", green_x, \", \", green_y)\n",
    "# print(\"Red position in the scene: \", red_x, \", \", red_y)\n"
   ]
  },
  {
   "cell_type": "markdown",
   "id": "663f2837-057f-4102-90bd-94c61ea5e54e",
   "metadata": {},
   "source": [
    "## 3. Realitzar cinemàtica inversa per poder arribar als cubs vermells i recollir-los i col·locar-los al tauler.\n",
    "## Podeu aprofitar el codi que teniu a continuació que permet aproparse a la posició x, y i z geomètricament."
   ]
  },
  {
   "cell_type": "code",
   "execution_count": 530,
   "id": "777c0d66-c2f8-4eb9-a90b-fe6d93e2c6a8",
   "metadata": {},
   "outputs": [],
   "source": [
    "import math\n",
    "\n",
    "def ik(destination):\n",
    "    # Cinemàtica Inversa d un robot antropomorfic 3 eixos\n",
    "    \n",
    "    # Posición (x,y,z)\n",
    "    # Coordenadas Destino\n",
    "    x = destination[0];\n",
    "    y = destination[1];\n",
    "    z = destination[2];\n",
    "    \n",
    "    b=0.15; #longitud de brazo L1 + extensió fins al dummy\n",
    "    ab=0.05; #longitud de antebrazo L2\n",
    "    H=0.05; #altura de base\n",
    "    \n",
    "    \n",
    "    Axis1=math.atan2(y,x);\n",
    "    xprima=math.sqrt(math.pow(x,2)+math.pow(y,2));\n",
    "    yprima=z;\n",
    "    B=xprima;\n",
    "    A=z-H;\n",
    "    \n",
    "    Hip=math.sqrt(math.pow(A,2)+math.pow(B,2));\n",
    "    alfa=math.atan2(A,B);\n",
    "    beta=math.acos((math.pow(b,2)-math.pow(ab,2)+math.pow(Hip,2))/(2*b*Hip));\n",
    "    \n",
    "    Axis2=alfa+beta;\n",
    "    \n",
    "    gamma=math.acos((math.pow(b,2)+math.pow(ab,2)-math.pow(Hip,2))/(2*b*ab));\n",
    "    \n",
    "    Axis3=gamma;\n",
    "    \n",
    "    Axis1Grados=Axis1*180/math.pi; #Giro base Grados\n",
    "    Axis2Grados=90-Axis2*180/math.pi; #Giro brazo Grados\n",
    "    Axis3Grados=180-Axis3*180/math.pi; #Giro antebrazo Grados\n",
    "    \n",
    "    print(\"    theta1 =\",Axis1Grados,\"º\");\n",
    "    print(\"    theta2 =\",Axis2Grados,\"º\");\n",
    "    print(\"    theta3 =\",Axis3Grados,\"º\");\n",
    "\n",
    "    return [Axis1Grados*np.pi/180,Axis2Grados*np.pi/180,Axis3Grados*np.pi/180,0,110*np.pi/180,0]\n",
    "\n",
    "def move(q):\n",
    "    retCode = sim.simxSetJointTargetPosition(clientID, m1, q[0], sim.simx_opmode_oneshot)\n",
    "    retCode = sim.simxSetJointTargetPosition(clientID, m2, q[1], sim.simx_opmode_oneshot)\n",
    "    retCode = sim.simxSetJointTargetPosition(clientID, m3, q[2], sim.simx_opmode_oneshot)\n",
    "\n",
    "\n",
    "    time.sleep(1)\n",
    "\n",
    "def geometric_resolution(p):\n",
    "    try:\n",
    "        q = ik(p)\n",
    "        move(q)\n",
    "    except:\n",
    "        print('No solution')\n",
    "        q=[0,0,0,0,0,0]\n",
    "    return q"
   ]
  },
  {
   "cell_type": "code",
   "execution_count": 531,
   "id": "868348c6-4f8b-4f01-8cb2-93360aa0a4bc",
   "metadata": {},
   "outputs": [
    {
     "name": "stdout",
     "output_type": "stream",
     "text": [
      "Destination:\n",
      "    x: 0\n",
      "    y: -0.175\n",
      "    z: 0.1 \n",
      "\n",
      "IK:\n",
      "    theta1 = -90.0 º\n",
      "    theta2 = 60.702846205995215 º\n",
      "    theta3 = 57.202831704176404 º\n",
      "    theta1 = 0.0 º\n",
      "    theta2 = 44.816723689804235 º\n",
      "    theta3 = 91.91021317170993 º\n"
     ]
    }
   ],
   "source": [
    "# Go for red cube\n",
    "#aprofiteu les funions per tal d'arribar a cada una de les posicions\n",
    "# el robot juga amb vermelles\n",
    "p = [0.1, 0, 0.1]\n",
    "print(\"Destination:\")\n",
    "print(\"    x:\",p[0])\n",
    "print(\"    y:\",p[1])\n",
    "print(\"    z:\",p[2],\"\\n\")\n",
    "\n",
    "open_claw(redC1)\n",
    "time.sleep(2)\n",
    "\n",
    "print(\"IK:\")\n",
    "q = geometric_resolution(p)\n",
    "time.sleep(2)\n",
    "close_claw(redC1)\n",
    "time.sleep(1)\n",
    "# Let red cube\n",
    "# q = geometric_resolution([0.14, 0, 0.12])\n",
    "\n",
    "time.sleep(1)\n",
    "# open_claw(redC1)\n",
    "\n",
    "time.sleep(1)\n",
    "reset_motors()"
   ]
  },
  {
   "cell_type": "code",
   "execution_count": 532,
   "id": "residential-cartoon",
   "metadata": {},
   "outputs": [
    {
     "ename": "ValueError",
     "evalue": "math domain error",
     "output_type": "error",
     "traceback": [
      "\u001b[1;31m---------------------------------------------------------------------------\u001b[0m",
      "\u001b[1;31mValueError\u001b[0m                                Traceback (most recent call last)",
      "Cell \u001b[1;32mIn[532], line 1\u001b[0m\n\u001b[1;32m----> 1\u001b[0m \u001b[43mik\u001b[49m\u001b[43m(\u001b[49m\u001b[43m[\u001b[49m\u001b[38;5;241;43m0.1\u001b[39;49m\u001b[43m,\u001b[49m\u001b[43m \u001b[49m\u001b[38;5;241;43m-\u001b[39;49m\u001b[38;5;241;43m0.175\u001b[39;49m\u001b[43m,\u001b[49m\u001b[43m \u001b[49m\u001b[38;5;241;43m0.01\u001b[39;49m\u001b[43m]\u001b[49m\u001b[43m)\u001b[49m\n",
      "Cell \u001b[1;32mIn[530], line 25\u001b[0m, in \u001b[0;36mik\u001b[1;34m(destination)\u001b[0m\n\u001b[0;32m     23\u001b[0m Hip\u001b[38;5;241m=\u001b[39mmath\u001b[38;5;241m.\u001b[39msqrt(math\u001b[38;5;241m.\u001b[39mpow(A,\u001b[38;5;241m2\u001b[39m)\u001b[38;5;241m+\u001b[39mmath\u001b[38;5;241m.\u001b[39mpow(B,\u001b[38;5;241m2\u001b[39m));\n\u001b[0;32m     24\u001b[0m alfa\u001b[38;5;241m=\u001b[39mmath\u001b[38;5;241m.\u001b[39matan2(A,B);\n\u001b[1;32m---> 25\u001b[0m beta\u001b[38;5;241m=\u001b[39m\u001b[43mmath\u001b[49m\u001b[38;5;241;43m.\u001b[39;49m\u001b[43macos\u001b[49m\u001b[43m(\u001b[49m\u001b[43m(\u001b[49m\u001b[43mmath\u001b[49m\u001b[38;5;241;43m.\u001b[39;49m\u001b[43mpow\u001b[49m\u001b[43m(\u001b[49m\u001b[43mb\u001b[49m\u001b[43m,\u001b[49m\u001b[38;5;241;43m2\u001b[39;49m\u001b[43m)\u001b[49m\u001b[38;5;241;43m-\u001b[39;49m\u001b[43mmath\u001b[49m\u001b[38;5;241;43m.\u001b[39;49m\u001b[43mpow\u001b[49m\u001b[43m(\u001b[49m\u001b[43mab\u001b[49m\u001b[43m,\u001b[49m\u001b[38;5;241;43m2\u001b[39;49m\u001b[43m)\u001b[49m\u001b[38;5;241;43m+\u001b[39;49m\u001b[43mmath\u001b[49m\u001b[38;5;241;43m.\u001b[39;49m\u001b[43mpow\u001b[49m\u001b[43m(\u001b[49m\u001b[43mHip\u001b[49m\u001b[43m,\u001b[49m\u001b[38;5;241;43m2\u001b[39;49m\u001b[43m)\u001b[49m\u001b[43m)\u001b[49m\u001b[38;5;241;43m/\u001b[39;49m\u001b[43m(\u001b[49m\u001b[38;5;241;43m2\u001b[39;49m\u001b[38;5;241;43m*\u001b[39;49m\u001b[43mb\u001b[49m\u001b[38;5;241;43m*\u001b[39;49m\u001b[43mHip\u001b[49m\u001b[43m)\u001b[49m\u001b[43m)\u001b[49m;\n\u001b[0;32m     27\u001b[0m Axis2\u001b[38;5;241m=\u001b[39malfa\u001b[38;5;241m+\u001b[39mbeta;\n\u001b[0;32m     29\u001b[0m gamma\u001b[38;5;241m=\u001b[39mmath\u001b[38;5;241m.\u001b[39macos((math\u001b[38;5;241m.\u001b[39mpow(b,\u001b[38;5;241m2\u001b[39m)\u001b[38;5;241m+\u001b[39mmath\u001b[38;5;241m.\u001b[39mpow(ab,\u001b[38;5;241m2\u001b[39m)\u001b[38;5;241m-\u001b[39mmath\u001b[38;5;241m.\u001b[39mpow(Hip,\u001b[38;5;241m2\u001b[39m))\u001b[38;5;241m/\u001b[39m(\u001b[38;5;241m2\u001b[39m\u001b[38;5;241m*\u001b[39mb\u001b[38;5;241m*\u001b[39mab));\n",
      "\u001b[1;31mValueError\u001b[0m: math domain error"
     ]
    }
   ],
   "source": [
    "ik([0.1, -0.175, 0.01])"
   ]
  },
  {
   "cell_type": "markdown",
   "id": "eligible-gardening",
   "metadata": {},
   "source": [
    "## 4. Realitzeu el codi per jugar al TicTacToe contra el robot, el Robot ha de jugar amb vermelles i tú pot jugar amb les altres. Pot començar el Robot posant la primera "
   ]
  },
  {
   "cell_type": "code",
   "execution_count": null,
   "id": "93900e49-5aea-4d4c-8dc9-a60197cb9073",
   "metadata": {},
   "outputs": [],
   "source": []
  },
  {
   "cell_type": "code",
   "execution_count": null,
   "id": "33f4d8a8-e8f9-424e-98dd-935bfb10a8e5",
   "metadata": {},
   "outputs": [],
   "source": []
  },
  {
   "cell_type": "code",
   "execution_count": null,
   "id": "25236c90-55af-451a-bfb3-080c402a0479",
   "metadata": {},
   "outputs": [],
   "source": []
  },
  {
   "cell_type": "code",
   "execution_count": null,
   "id": "aa4480a1-d86f-4d10-8241-670a9dfdbb8a",
   "metadata": {},
   "outputs": [],
   "source": []
  }
 ],
 "metadata": {
  "kernelspec": {
   "display_name": "Python 3",
   "language": "python",
   "name": "python3"
  },
  "language_info": {
   "codemirror_mode": {
    "name": "ipython",
    "version": 3
   },
   "file_extension": ".py",
   "mimetype": "text/x-python",
   "name": "python",
   "nbconvert_exporter": "python",
   "pygments_lexer": "ipython3",
   "version": "3.12.0"
  }
 },
 "nbformat": 4,
 "nbformat_minor": 5
}
