{
 "cells": [
  {
   "cell_type": "markdown",
   "id": "6bb922aa-bfb7-4088-9e1c-b6ae4d54479b",
   "metadata": {},
   "source": [
    "# Exercici Recuperació 2. Bessó digital Poppy Ergo JR - TIC TAC TOE"
   ]
  },
  {
   "cell_type": "markdown",
   "id": "3ec0a88c-eb4e-42f4-b777-43033c5166f6",
   "metadata": {},
   "source": [
    "## 0. Crear un Jupyter notebooks, configurar una connexió amb l'escena Coppelia i fer moure tots els motors del robot."
   ]
  },
  {
   "cell_type": "code",
   "execution_count": 180,
   "id": "a3169b65-ef9e-434e-a232-4dca9481e8e1",
   "metadata": {},
   "outputs": [],
   "source": [
    "import cv2\n",
    "import matplotlib.pyplot as plt\n",
    "import numpy as np\n",
    "import sim\n",
    "from sympy import *\n",
    "import time"
   ]
  },
  {
   "cell_type": "code",
   "execution_count": 181,
   "id": "2ddbb977-c0cb-4aeb-b124-deec62f51071",
   "metadata": {},
   "outputs": [
    {
     "name": "stdout",
     "output_type": "stream",
     "text": [
      "conectado a 19999\n"
     ]
    }
   ],
   "source": [
    "# Establish the connection\n",
    "def connect(port):\n",
    "    sim.simxFinish(-1) # just in case, close all opened connections\n",
    "    clientID=sim.simxStart('127.0.0.1',port,True,True,2000,5) # Connect\n",
    "    if clientID == 0: print(\"conectado a\", port)\n",
    "    else: print(\"no se pudo conectar\")\n",
    "    return clientID\n",
    "\n",
    "# Don't forget to add a lua child script to the first joint and append the \"simRemoteApi.start(19999)\" line to the sysCall_init() function.\n",
    "clientID = connect(19999)"
   ]
  },
  {
   "cell_type": "code",
   "execution_count": 182,
   "id": "12453ed1-8e81-4785-90e0-8a6402047e06",
   "metadata": {},
   "outputs": [
    {
     "name": "stdout",
     "output_type": "stream",
     "text": [
      "36 16 18 20 22 24 26 51 39 40 28\n"
     ]
    }
   ],
   "source": [
    "# Require the handlers for the motors and the camera sensor\n",
    "retCode,sensorHandle=sim.simxGetObjectHandle(clientID,'Vision_sensor',sim.simx_opmode_blocking)\n",
    "retCode,m1=sim.simxGetObjectHandle(clientID,'m1',sim.simx_opmode_blocking)\n",
    "retCode,m2=sim.simxGetObjectHandle(clientID,'m2',sim.simx_opmode_blocking)\n",
    "retCode,m3=sim.simxGetObjectHandle(clientID,'m3',sim.simx_opmode_blocking)\n",
    "retCode,m4=sim.simxGetObjectHandle(clientID,'m4',sim.simx_opmode_blocking)\n",
    "retCode,m5=sim.simxGetObjectHandle(clientID,'m5',sim.simx_opmode_blocking)\n",
    "retCode,m6=sim.simxGetObjectHandle(clientID,'m6',sim.simx_opmode_blocking)\n",
    "retCode,redC1=sim.simxGetObjectHandle(clientID,'CuboRed1',sim.simx_opmode_blocking)\n",
    "retCode,redC2=sim.simxGetObjectHandle(clientID,'CuboRed2',sim.simx_opmode_blocking)\n",
    "retCode,redC3=sim.simxGetObjectHandle(clientID,'CuboRed3',sim.simx_opmode_blocking)\n",
    "retCode,claw=sim.simxGetObjectHandle(clientID,'holder_visual',sim.simx_opmode_blocking)\n",
    "\n",
    "print(sensorHandle, m1, m2, m3, m4, m5, m6, redC1, redC2,redC3, claw)"
   ]
  },
  {
   "cell_type": "code",
   "execution_count": 183,
   "id": "5440b761-c529-4298-88ed-131e9a99e074",
   "metadata": {},
   "outputs": [
    {
     "name": "stdout",
     "output_type": "stream",
     "text": [
      "Position of the robot in degrees: \n",
      "  m1: 1.1374997043739234\n",
      "  m2: -47.9506873699142\n",
      "  m3: 17.599990472153838\n",
      "  m4: -0.10663291332223906\n",
      "  m5: 43.501748031378014\n",
      "  m6: 20.399999201643883\n"
     ]
    }
   ],
   "source": [
    "def get_robot_position():\n",
    "    # Read position, in radians\n",
    "    retCode, qr0 = sim.simxGetJointPosition(clientID, m1, sim.simx_opmode_blocking)\n",
    "    retCode, qr1 = sim.simxGetJointPosition(clientID, m2, sim.simx_opmode_blocking)\n",
    "    retCode, qr2 = sim.simxGetJointPosition(clientID, m3, sim.simx_opmode_blocking)\n",
    "    retCode, qr3 = sim.simxGetJointPosition(clientID, m4, sim.simx_opmode_blocking)\n",
    "    retCode, qr4 = sim.simxGetJointPosition(clientID, m5, sim.simx_opmode_blocking)\n",
    "    retCode, qr5 = sim.simxGetJointPosition(clientID, m6, sim.simx_opmode_blocking)\n",
    "    # Show position, in degrees\n",
    "    q0 = qr0 * 180/np.pi\n",
    "    q1 = qr1 * 180/np.pi\n",
    "    q2 = qr2 * 180/np.pi\n",
    "    q3 = qr3 * 180/np.pi\n",
    "    q4 = qr4 * 180/np.pi\n",
    "    q5 = qr5 * 180/np.pi\n",
    "    print(\"Position of the robot in degrees: \")\n",
    "    print(f\"  m1: {q0}\\n  m2: {q1}\\n  m3: {q2}\\n  m4: {q3}\\n  m5: {q4}\\n  m6: {q5}\")\n",
    "\n",
    "get_robot_position()"
   ]
  },
  {
   "cell_type": "code",
   "execution_count": 184,
   "id": "bb56dc19-3f4a-46df-a42e-79c81155b37a",
   "metadata": {},
   "outputs": [],
   "source": [
    "def reset_motors():\n",
    "    # Send the positions to the motors\n",
    "    q = [0, 0, 0, 180 * np.pi/180, 110 * np.pi/180, 20 * np.pi/180]\n",
    "    retCode = sim.simxSetJointTargetPosition(clientID, m1, q[0], sim.simx_opmode_oneshot)\n",
    "    retCode = sim.simxSetJointTargetPosition(clientID, m2, q[1], sim.simx_opmode_oneshot)\n",
    "    retCode = sim.simxSetJointTargetPosition(clientID, m3, q[2], sim.simx_opmode_oneshot)\n",
    "    retCode = sim.simxSetJointTargetPosition(clientID, m4, q[3], sim.simx_opmode_oneshot)\n",
    "    retCode = sim.simxSetJointTargetPosition(clientID, m5, q[4], sim.simx_opmode_oneshot)\n",
    "    retCode = sim.simxSetJointTargetPosition(clientID, m6, q[5], sim.simx_opmode_oneshot)\n",
    "    time.sleep(1)\n",
    "reset_motors()\n",
    "\n",
    "def open_claw(cuboid):\n",
    "        retCode = sim.simxSetObjectIntParameter(clientID, cuboid, sim.sim_shapeintparam_static, 0, sim.simx_opmode_blocking)\n",
    "        retCode = sim.simxSetJointTargetPosition(clientID, m6, -20 * np.pi/180, sim.simx_opmode_oneshot)\n",
    "        retCode = sim.simxSetObjectParent(clientID, cuboid, -1, False, sim.simx_opmode_blocking)\n",
    "\n",
    "def close_claw(cuboid):\n",
    "    retCode = sim.simxSetObjectIntParameter(clientID, cuboid, sim.sim_shapeintparam_static, 1, sim.simx_opmode_blocking)\n",
    "    retCode = sim.simxSetObjectParent(clientID, cuboid, claw, True, sim.simx_opmode_blocking)\n",
    "    retCode = sim.simxSetJointTargetPosition(clientID, m6, 20 * np.pi/180, sim.simx_opmode_oneshot)"
   ]
  },
  {
   "cell_type": "markdown",
   "id": "2dc07669-3fd3-4093-a083-9ee91d09bbe8",
   "metadata": {},
   "source": [
    "## 1. Dur a terme el processament d'imatges per identificar la forma i el color dels cubs. Pots moure les fitxes al coppelia al tauler quan està en martxa.\n",
    "\n",
    "## Reviseu l'exercici 9 per talde realitzar aquesta part."
   ]
  },
  {
   "cell_type": "code",
   "execution_count": 137,
   "id": "f926825c-e2e9-4fa8-a1b1-02250ff82486",
   "metadata": {},
   "outputs": [
    {
     "data": {
      "text/plain": [
       "196608"
      ]
     },
     "execution_count": 137,
     "metadata": {},
     "output_type": "execute_result"
    }
   ],
   "source": [
    "# Obtain an image from the Camera Sensor\n",
    "retCode, resolution, image=sim.simxGetVisionSensorImage(clientID,sensorHandle,0,sim.simx_opmode_oneshot_wait)\n",
    "len(image)"
   ]
  },
  {
   "cell_type": "code",
   "execution_count": 138,
   "id": "566c4f3a-3171-4bf8-a7e2-b2284a463a0e",
   "metadata": {},
   "outputs": [
    {
     "data": {
      "text/plain": [
       "[256, 256]"
      ]
     },
     "execution_count": 138,
     "metadata": {},
     "output_type": "execute_result"
    }
   ],
   "source": [
    "resolution"
   ]
  },
  {
   "cell_type": "code",
   "execution_count": 139,
   "id": "fb194255-7ebe-4cdf-8373-cc07ef545293",
   "metadata": {},
   "outputs": [
    {
     "data": {
      "text/plain": [
       "196608"
      ]
     },
     "execution_count": 139,
     "metadata": {},
     "output_type": "execute_result"
    }
   ],
   "source": [
    "# It is an image with a resolution of 256*256 and each pixel is RGB\n",
    "256*256*3"
   ]
  },
  {
   "cell_type": "code",
   "execution_count": 140,
   "id": "e55a6fbc-8b08-48ca-8f43-3647c8e4e6db",
   "metadata": {},
   "outputs": [
    {
     "data": {
      "image/png": "[encoded data removed]",
      "text/plain": [
       "<Figure size 432x288 with 1 Axes>"
      ]
     },
     "metadata": {
      "needs_background": "light"
     },
     "output_type": "display_data"
    }
   ],
   "source": [
    "img=np.array(image,dtype=np.uint8)\n",
    "img.resize([resolution[1],resolution[0],3])\n",
    "plt.imshow(img)\n",
    "plt.show()"
   ]
  },
  {
   "cell_type": "code",
   "execution_count": 141,
   "id": "1520326f-91c5-4639-9936-a615d019ede8",
   "metadata": {},
   "outputs": [],
   "source": [
    "# Define color ranges in RGB\n",
    "green_low = np.array([0, 100, 0], dtype=np.uint8)\n",
    "green_high = np.array([5, 195, 5], dtype=np.uint8)\n",
    "\n",
    "red_low = np.array([150, 0, 0], dtype=np.uint8)\n",
    "red_high = np.array([195, 5, 5], dtype=np.uint8)"
   ]
  },
  {
   "cell_type": "code",
   "execution_count": 142,
   "id": "4524b477-af2a-4f2f-be6f-491e63f0be79",
   "metadata": {},
   "outputs": [],
   "source": [
    "# Thresholding\n",
    "green_mask = cv2.inRange(img, green_low, green_high)\n",
    "red_mask = cv2.inRange(img, red_low, red_high)"
   ]
  },
  {
   "cell_type": "code",
   "execution_count": 143,
   "id": "cb68cf4b-0983-4f51-95d9-16b80d298321",
   "metadata": {},
   "outputs": [],
   "source": [
    "# Erase image noise\n",
    "kernel = cv2.getStructuringElement(cv2.MORPH_RECT, (3,3))\n",
    "green_mask = cv2.morphologyEx(green_mask, cv2.MORPH_CLOSE, kernel)\n",
    "green_mask = cv2.morphologyEx(green_mask, cv2.MORPH_OPEN, kernel)\n",
    "red_mask = cv2.morphologyEx(red_mask, cv2.MORPH_CLOSE, kernel)\n",
    "red_mask = cv2.morphologyEx(red_mask, cv2.MORPH_OPEN, kernel)"
   ]
  },
  {
   "cell_type": "code",
   "execution_count": 144,
   "id": "20ead20c-8ea0-4b39-80e5-0eaa91ed41d2",
   "metadata": {},
   "outputs": [],
   "source": [
    "# Get contours and positions\n"
   ]
  },
  {
   "cell_type": "code",
   "execution_count": 145,
   "id": "11925b78-713d-48b8-88a7-3ec277c746b0",
   "metadata": {},
   "outputs": [
    {
     "data": {
      "image/png": "[encoded data removed]",
      "text/plain": [
       "<Figure size 432x288 with 1 Axes>"
      ]
     },
     "metadata": {
      "needs_background": "light"
     },
     "output_type": "display_data"
    }
   ],
   "source": [
    "# Show image with contours\n",
    "plt.imshow(img)\n",
    "plt.show()"
   ]
  },
  {
   "cell_type": "markdown",
   "id": "3315dae0-997f-44da-9072-3139dd46ad2f",
   "metadata": {},
   "source": [
    "## 2. Determinar les posicions aproximades (tant en l'eix X com en l'eix Y).\n",
    "\n",
    "## Coloqueu els cubs sobre el tauler. Heu de fer mesures i aplicar una regla de conversió per saber quines son les posicions reals dels cubs"
   ]
  },
  {
   "cell_type": "code",
   "execution_count": null,
   "id": "1ad63f1a-4941-42c4-98a8-841bc0e4dace",
   "metadata": {},
   "outputs": [],
   "source": []
  },
  {
   "cell_type": "code",
   "execution_count": null,
   "id": "9a3a9414-f137-494a-a6c9-d20f14073128",
   "metadata": {},
   "outputs": [],
   "source": [
    "\n",
    "print(\"Green position in the scene: \", green_x, \", \", green_y)\n",
    "print(\"Red position in the scene: \", red_x, \", \", red_y)\n"
   ]
  },
  {
   "cell_type": "markdown",
   "id": "663f2837-057f-4102-90bd-94c61ea5e54e",
   "metadata": {},
   "source": [
    "## 3. Realitzar cinemàtica inversa per poder arribar als cubs vermells i recollir-los i col·locar-los al tauler.\n",
    "## Podeu aprofitar el codi que teniu a continuació que permet aproparse a la posició x, y i z geomètricament."
   ]
  },
  {
   "cell_type": "code",
   "execution_count": 185,
   "id": "777c0d66-c2f8-4eb9-a90b-fe6d93e2c6a8",
   "metadata": {},
   "outputs": [],
   "source": [
    "import math\n",
    "\n",
    "def ik(destination):\n",
    "    # Cinemàtica Inversa d un robot antropomorfic 3 eixos\n",
    "    \n",
    "    # Posición (x,y,z)\n",
    "    # Coordenadas Destino\n",
    "    x = destination[0];\n",
    "    y = destination[1];\n",
    "    z = destination[2];\n",
    "    \n",
    "    b=0.15; #longitud de brazo L1 + extensió fins al dummy\n",
    "    ab=0.05; #longitud de antebrazo L2\n",
    "    H=0.05; #altura de base\n",
    "    \n",
    "    \n",
    "    Axis1=math.atan2(y,x);\n",
    "    xprima=math.sqrt(math.pow(x,2)+math.pow(y,2));\n",
    "    yprima=z;\n",
    "    B=xprima;\n",
    "    A=z-H;\n",
    "    \n",
    "    Hip=math.sqrt(math.pow(A,2)+math.pow(B,2));\n",
    "    alfa=math.atan2(A,B);\n",
    "    beta=math.acos((math.pow(b,2)-math.pow(ab,2)+math.pow(Hip,2))/(2*b*Hip));\n",
    "    \n",
    "    Axis2=alfa+beta;\n",
    "    \n",
    "    gamma=math.acos((math.pow(b,2)+math.pow(ab,2)-math.pow(Hip,2))/(2*b*ab));\n",
    "    \n",
    "    Axis3=gamma;\n",
    "    \n",
    "    Axis1Grados=Axis1*180/math.pi; #Giro base Grados\n",
    "    Axis2Grados=90-Axis2*180/math.pi; #Giro brazo Grados\n",
    "    Axis3Grados=180-Axis3*180/math.pi; #Giro antebrazo Grados\n",
    "    \n",
    "    print(\"    theta1 =\",Axis1Grados,\"º\");\n",
    "    print(\"    theta2 =\",Axis2Grados,\"º\");\n",
    "    print(\"    theta3 =\",Axis3Grados,\"º\");\n",
    "\n",
    "    return [Axis1Grados*np.pi/180,Axis2Grados*np.pi/180,Axis3Grados*np.pi/180,0,110*np.pi/180,0]\n",
    "\n",
    "def move(q):\n",
    "    retCode = sim.simxSetJointTargetPosition(clientID, m1, q[0], sim.simx_opmode_oneshot)\n",
    "    retCode = sim.simxSetJointTargetPosition(clientID, m2, q[1], sim.simx_opmode_oneshot)\n",
    "    retCode = sim.simxSetJointTargetPosition(clientID, m3, q[2], sim.simx_opmode_oneshot)\n",
    "\n",
    "\n",
    "    time.sleep(1)\n",
    "\n",
    "def geometric_resolution(p):\n",
    "    try:\n",
    "        q = ik(p)\n",
    "        move(q)\n",
    "    except:\n",
    "        print('No solution')\n",
    "        q=[0,0,0,0,0,0]\n",
    "    return q"
   ]
  },
  {
   "cell_type": "code",
   "execution_count": 186,
   "id": "868348c6-4f8b-4f01-8cb2-93360aa0a4bc",
   "metadata": {},
   "outputs": [
    {
     "name": "stdout",
     "output_type": "stream",
     "text": [
      "Destination:\n",
      "    x: 0\n",
      "    y: -0.175\n",
      "    z: 0.01 \n",
      "\n",
      "IK:\n",
      "    theta1 = -90.0 º\n",
      "    theta2 = 88.74682742325525 º\n",
      "    theta3 = 61.20568867371158 º\n",
      "    theta1 = 0.0 º\n",
      "    theta2 = 44.816723689804235 º\n",
      "    theta3 = 91.91021317170993 º\n"
     ]
    }
   ],
   "source": [
    "# Go for red cube\n",
    "#aprofiteu les funions per tal d'arribar a cada una de les posicions\n",
    "# el robot juga amb vermelles\n",
    "p = [0, -0.175, 0.01]\n",
    "print(\"Destination:\")\n",
    "print(\"    x:\",p[0])\n",
    "print(\"    y:\",p[1])\n",
    "print(\"    z:\",p[2],\"\\n\")\n",
    "\n",
    "print(\"IK:\")\n",
    "q = geometric_resolution(p)\n",
    "close_claw(redC1)\n",
    "time.sleep(1)\n",
    "\n",
    "# Let red cube\n",
    "q = geometric_resolution([0.14, 0, 0.12])\n",
    "\n",
    "time.sleep(1)\n",
    "open_claw(redC1)\n",
    "\n",
    "time.sleep(1)\n",
    "reset_motors()"
   ]
  },
  {
   "cell_type": "code",
   "execution_count": 187,
   "id": "residential-cartoon",
   "metadata": {},
   "outputs": [],
   "source": []
  },
  {
   "cell_type": "markdown",
   "id": "eligible-gardening",
   "metadata": {},
   "source": [
    "## 4. Realitzeu el codi per jugar al TicTacToe contra el robot, el Robot ha de jugar amb vermelles i tú pot jugar amb les altres. Pot començar el Robot posant la primera "
   ]
  },
  {
   "cell_type": "code",
   "execution_count": null,
   "id": "93900e49-5aea-4d4c-8dc9-a60197cb9073",
   "metadata": {},
   "outputs": [],
   "source": []
  },
  {
   "cell_type": "code",
   "execution_count": null,
   "id": "33f4d8a8-e8f9-424e-98dd-935bfb10a8e5",
   "metadata": {},
   "outputs": [],
   "source": []
  },
  {
   "cell_type": "code",
   "execution_count": null,
   "id": "25236c90-55af-451a-bfb3-080c402a0479",
   "metadata": {},
   "outputs": [],
   "source": []
  },
  {
   "cell_type": "code",
   "execution_count": null,
   "id": "aa4480a1-d86f-4d10-8241-670a9dfdbb8a",
   "metadata": {},
   "outputs": [],
   "source": []
  }
 ],
 "metadata": {
  "kernelspec": {
   "display_name": "Python 3",
   "language": "python",
   "name": "python3"
  },
  "language_info": {
   "codemirror_mode": {
    "name": "ipython",
    "version": 3
   },
   "file_extension": ".py",
   "mimetype": "text/x-python",
   "name": "python",
   "nbconvert_exporter": "python",
   "pygments_lexer": "ipython3",
   "version": "3.8.5"
  }
 },
 "nbformat": 4,
 "nbformat_minor": 5
}
